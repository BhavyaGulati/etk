{
 "cells": [
  {
   "cell_type": "markdown",
   "metadata": {},
   "source": [
    "### Extract Phone"
   ]
  },
  {
   "cell_type": "code",
   "execution_count": 6,
   "metadata": {},
   "outputs": [
    {
     "name": "stdout",
     "output_type": "stream",
     "text": [
      "[\n",
      "  {\n",
      "    \"obfuscation\": \"False\", \n",
      "    \"value\": \"6022284192\"\n",
      "  }\n",
      "]\n"
     ]
    }
   ],
   "source": [
    "from etk.core import Core\n",
    "import json\n",
    "\n",
    "c = Core()\n",
    "\n",
    "# you can extract phone from either url or text(tokens), difference is in the way url needs to be tokenized\n",
    "url = 'http://some_url.com/ad/town/602-228-4192/1/310054'\n",
    "source_type = 'url'\n",
    "include_context = True\n",
    "output_format = 'obfuscation' # (or 'list')\n",
    "extracted_phone = c._extract_phone(url, source_type, include_context, output_format)\n",
    "\n",
    "print json.dumps(extracted_phone, indent=2)"
   ]
  },
  {
   "cell_type": "code",
   "execution_count": 7,
   "metadata": {},
   "outputs": [
    {
     "name": "stdout",
     "output_type": "stream",
     "text": [
      "[\n",
      "  {\n",
      "    \"obfuscation\": \"True\", \n",
      "    \"value\": \"4802671904\"\n",
      "  }\n",
      "]\n"
     ]
    }
   ],
   "source": [
    "from etk.core import Core\n",
    "import json\n",
    "\n",
    "c = Core()\n",
    "\n",
    "# in this example we'll extract an obfuscated phone\n",
    "text = 'new person in town searching for a great date wiff u  \\\n",
    "        fresh person here searching 4 a great date wiff you Sweet new person in town \\\n",
    "        seeking for a good date with u for80 2sixseven one9zerofor'\n",
    "\n",
    "#phone extractor needs tokens as inputs, so here goes\n",
    "tokens = c.extract_tokens_from_crf(c.extract_crftokens(text)) # looks complicated, needs to be simplified\n",
    "source_type = 'text'\n",
    "include_context = True\n",
    "output_format = 'obfuscation' # (or 'list')\n",
    "extracted_phone = c._extract_phone(tokens, source_type, include_context, output_format)\n",
    "\n",
    "print json.dumps(extracted_phone, indent=2)"
   ]
  },
  {
   "cell_type": "markdown",
   "metadata": {},
   "source": [
    "### Extract Weight"
   ]
  },
  {
   "cell_type": "code",
   "execution_count": 8,
   "metadata": {},
   "outputs": [
    {
     "name": "stdout",
     "output_type": "stream",
     "text": [
      "[\n",
      "  {\n",
      "    \"context\": {\n",
      "      \"start\": 14, \n",
      "      \"end\": 20\n",
      "    }, \n",
      "    \"value\": \"105\", \n",
      "    \"metadata\": {\n",
      "      \"unit\": \"pound\"\n",
      "    }\n",
      "  }\n",
      "]\n"
     ]
    }
   ],
   "source": [
    "from etk.core import Core\n",
    "import json\n",
    "\n",
    "c = Core()\n",
    "text = \"Measurements: 105lbs 5\\'2\\\" with a beautiful face\"\n",
    "extracted_weight = c._extract_weight(text)\n",
    "\n",
    "print json.dumps(extracted_weight, indent=2)\n"
   ]
  },
  {
   "cell_type": "markdown",
   "metadata": {},
   "source": [
    "### Extract  Height"
   ]
  },
  {
   "cell_type": "code",
   "execution_count": 9,
   "metadata": {},
   "outputs": [
    {
     "name": "stdout",
     "output_type": "stream",
     "text": [
      "[\n",
      "  {\n",
      "    \"context\": {\n",
      "      \"start\": 34, \n",
      "      \"end\": 40\n",
      "    }, \n",
      "    \"value\": \"155\", \n",
      "    \"metadata\": {\n",
      "      \"unit\": \"centimeter\"\n",
      "    }\n",
      "  }, \n",
      "  {\n",
      "    \"context\": {\n",
      "      \"start\": 30, \n",
      "      \"end\": 40\n",
      "    }, \n",
      "    \"value\": \"155\", \n",
      "    \"metadata\": {\n",
      "      \"unit\": \"centimeter\"\n",
      "    }\n",
      "  }\n",
      "]\n"
     ]
    }
   ],
   "source": [
    "from etk.core import Core\n",
    "import json\n",
    "\n",
    "c = Core()\n",
    "text = \"Nationality:   Swedish  Height:   155 cm   Weight:   47 Kg   Hair Colour:   Blonde\"\n",
    "extracted_height = c._extract_height(text)\n",
    "\n",
    "print json.dumps(extracted_height, indent=2)"
   ]
  },
  {
   "cell_type": "markdown",
   "metadata": {},
   "source": [
    "### Extract email"
   ]
  },
  {
   "cell_type": "code",
   "execution_count": 10,
   "metadata": {},
   "outputs": [
    {
     "name": "stdout",
     "output_type": "stream",
     "text": [
      "[\n",
      "  {\n",
      "    \"context\": {\n",
      "      \"start\": 14, \n",
      "      \"obfuscation\": false, \n",
      "      \"end\": 34\n",
      "    }, \n",
      "    \"value\": \"some_email@gmail.com\"\n",
      "  }\n",
      "]\n"
     ]
    }
   ],
   "source": [
    "from etk.core import Core\n",
    "import json\n",
    "\n",
    "c = Core()\n",
    "\n",
    "text = 'contact me at some_email@gmail.com'\n",
    "extracted_email = c._extract_email(text, True)\n",
    "\n",
    "print json.dumps(extracted_email, indent=2)"
   ]
  },
  {
   "cell_type": "markdown",
   "metadata": {},
   "source": [
    "### Extract using Regex"
   ]
  },
  {
   "cell_type": "code",
   "execution_count": 11,
   "metadata": {},
   "outputs": [
    {
     "name": "stdout",
     "output_type": "stream",
     "text": [
      "[\n",
      "  {\n",
      "    \"context\": {\n",
      "      \"start\": 10, \n",
      "      \"end\": 28\n",
      "    }, \n",
      "    \"value\": \"jessica\"\n",
      "  }\n",
      "]\n"
     ]
    }
   ],
   "source": [
    "from etk.core import Core\n",
    "import json\n",
    "\n",
    "c = Core()\n",
    "\n",
    "regex = \"(?:my[\\\\s]+name[\\\\s]+is[\\\\s]+([-a-z0-9@$!]+))\"\n",
    "text = \"hi there, my name is jessica, join me at so and so\"\n",
    "include_context = True # return the start and end index of the regex match in string\n",
    "flags = 0\n",
    "extracted_name = c._extract_using_regex(text, regex, include_context, flags)\n",
    "\n",
    "print json.dumps(extracted_name, indent=2)"
   ]
  },
  {
   "cell_type": "code",
   "execution_count": null,
   "metadata": {
    "collapsed": true
   },
   "outputs": [],
   "source": [
    "### Extract Price"
   ]
  },
  {
   "cell_type": "code",
   "execution_count": 1,
   "metadata": {},
   "outputs": [
    {
     "name": "stdout",
     "output_type": "stream",
     "text": [
      "Hh- 150 200 -Full Hr\n"
     ]
    },
    {
     "ename": "UnboundLocalError",
     "evalue": "local variable 'multiplier' referenced before assignment",
     "output_type": "error",
     "traceback": [
      "\u001b[0;31m---------------------------------------------------------------------------\u001b[0m",
      "\u001b[0;31mUnboundLocalError\u001b[0m                         Traceback (most recent call last)",
      "\u001b[0;32m<ipython-input-1-9520c65db3a0>\u001b[0m in \u001b[0;36m<module>\u001b[0;34m()\u001b[0m\n\u001b[1;32m      4\u001b[0m \u001b[0mc\u001b[0m \u001b[0;34m=\u001b[0m \u001b[0mCore\u001b[0m\u001b[0;34m(\u001b[0m\u001b[0;34m)\u001b[0m\u001b[0;34m\u001b[0m\u001b[0m\n\u001b[1;32m      5\u001b[0m \u001b[0mtext\u001b[0m \u001b[0;34m=\u001b[0m \u001b[0;34m'Hh- 150 200 -Full Hr'\u001b[0m\u001b[0;34m\u001b[0m\u001b[0m\n\u001b[0;32m----> 6\u001b[0;31m \u001b[0mextracted_price\u001b[0m \u001b[0;34m=\u001b[0m \u001b[0mc\u001b[0m\u001b[0;34m.\u001b[0m\u001b[0m_extract_price\u001b[0m\u001b[0;34m(\u001b[0m\u001b[0mtext\u001b[0m\u001b[0;34m)\u001b[0m\u001b[0;34m\u001b[0m\u001b[0m\n\u001b[0m\u001b[1;32m      7\u001b[0m \u001b[0;32mprint\u001b[0m \u001b[0mextracted_price\u001b[0m\u001b[0;34m\u001b[0m\u001b[0m\n",
      "\u001b[0;32m/Users/amandeep/Github/etk/etk/core.pyc\u001b[0m in \u001b[0;36m_extract_price\u001b[0;34m(text)\u001b[0m\n\u001b[1;32m    662\u001b[0m     \u001b[0;34m@\u001b[0m\u001b[0mstaticmethod\u001b[0m\u001b[0;34m\u001b[0m\u001b[0m\n\u001b[1;32m    663\u001b[0m     \u001b[0;32mdef\u001b[0m \u001b[0m_extract_price\u001b[0m\u001b[0;34m(\u001b[0m\u001b[0mtext\u001b[0m\u001b[0;34m)\u001b[0m\u001b[0;34m:\u001b[0m\u001b[0;34m\u001b[0m\u001b[0m\n\u001b[0;32m--> 664\u001b[0;31m         \u001b[0;32mreturn\u001b[0m \u001b[0mprice_extractor\u001b[0m\u001b[0;34m.\u001b[0m\u001b[0mextract\u001b[0m\u001b[0;34m(\u001b[0m\u001b[0mtext\u001b[0m\u001b[0;34m)\u001b[0m\u001b[0;34m\u001b[0m\u001b[0m\n\u001b[0m\u001b[1;32m    665\u001b[0m \u001b[0;34m\u001b[0m\u001b[0m\n\u001b[1;32m    666\u001b[0m     \u001b[0;32mdef\u001b[0m \u001b[0mextract_height\u001b[0m\u001b[0;34m(\u001b[0m\u001b[0mself\u001b[0m\u001b[0;34m,\u001b[0m \u001b[0md\u001b[0m\u001b[0;34m,\u001b[0m \u001b[0mconfig\u001b[0m\u001b[0;34m)\u001b[0m\u001b[0;34m:\u001b[0m\u001b[0;34m\u001b[0m\u001b[0m\n",
      "\u001b[0;32m/Users/amandeep/Github/etk/etk/data_extractors/digPriceExtractor/price_extractor.pyc\u001b[0m in \u001b[0;36mextract\u001b[0;34m(text)\u001b[0m\n\u001b[1;32m     66\u001b[0m                 \u001b[0;32melif\u001b[0m \u001b[0mtime_unit\u001b[0m \u001b[0;32min\u001b[0m \u001b[0mUNIT_TIME_MINUTE\u001b[0m\u001b[0;34m:\u001b[0m\u001b[0;34m\u001b[0m\u001b[0m\n\u001b[1;32m     67\u001b[0m                     \u001b[0mmultiplier\u001b[0m \u001b[0;34m=\u001b[0m \u001b[0;36m1\u001b[0m\u001b[0;34m\u001b[0m\u001b[0m\n\u001b[0;32m---> 68\u001b[0;31m                 \u001b[0mtunit_val\u001b[0m \u001b[0;34m=\u001b[0m \u001b[0mstr\u001b[0m\u001b[0;34m(\u001b[0m\u001b[0mnum\u001b[0m \u001b[0;34m*\u001b[0m \u001b[0mmultiplier\u001b[0m\u001b[0;34m)\u001b[0m\u001b[0;34m\u001b[0m\u001b[0m\n\u001b[0m\u001b[1;32m     69\u001b[0m         \u001b[0;32melse\u001b[0m\u001b[0;34m:\u001b[0m\u001b[0;34m\u001b[0m\u001b[0m\n\u001b[1;32m     70\u001b[0m             \u001b[0;31m# Default is 60\u001b[0m\u001b[0;34m\u001b[0m\u001b[0;34m\u001b[0m\u001b[0m\n",
      "\u001b[0;31mUnboundLocalError\u001b[0m: local variable 'multiplier' referenced before assignment"
     ]
    }
   ],
   "source": [
    "from etk.core import Core\n",
    "import json\n",
    "\n",
    "c = Core()\n",
    "text = 'Hh- 150 200 -Full Hr'\n",
    "extracted_price = c._extract_price(text)\n",
    "print extracted_price"
   ]
  }
 ],
 "metadata": {
  "anaconda-cloud": {},
  "kernelspec": {
   "display_name": "Python [conda env:etk_env]",
   "language": "python",
   "name": "conda-env-etk_env-py"
  },
  "language_info": {
   "codemirror_mode": {
    "name": "ipython",
    "version": 2
   },
   "file_extension": ".py",
   "mimetype": "text/x-python",
   "name": "python",
   "nbconvert_exporter": "python",
   "pygments_lexer": "ipython2",
   "version": "2.7.12"
  }
 },
 "nbformat": 4,
 "nbformat_minor": 1
}
