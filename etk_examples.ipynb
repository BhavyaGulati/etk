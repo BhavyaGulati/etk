{
 "cells": [
  {
   "cell_type": "markdown",
   "metadata": {},
   "source": [
    "### Extract email"
   ]
  },
  {
   "cell_type": "code",
   "execution_count": 1,
   "metadata": {},
   "outputs": [
    {
     "name": "stdout",
     "output_type": "stream",
     "text": [
      "[{'context': {'start': 14, 'obfuscation': False, 'end': 34}, 'value': 'some_email@gmail.com'}]\n"
     ]
    }
   ],
   "source": [
    "from etk.core import Core\n",
    "c = Core()\n",
    "text = 'contact me at some_email@gmail.com'\n",
    "extracted_email = c._extract_email(text, True)\n",
    "print extracted_email"
   ]
  },
  {
   "cell_type": "markdown",
   "metadata": {},
   "source": [
    "### Extract using Regex"
   ]
  },
  {
   "cell_type": "code",
   "execution_count": 2,
   "metadata": {},
   "outputs": [
    {
     "name": "stdout",
     "output_type": "stream",
     "text": [
      "[{'context': {'start': 10, 'end': 28}, 'value': 'jessica'}]\n"
     ]
    }
   ],
   "source": [
    "from etk.core import Core\n",
    "c = Core()\n",
    "regex = \"(?:my[\\\\s]+name[\\\\s]+is[\\\\s]+([-a-z0-9@$!]+))\"\n",
    "text = \"hi there, my name is jessica, join me at so and so\"\n",
    "include_context = True # return the start and end index of the regex match in string\n",
    "flags = 0\n",
    "extracted_name = c._extract_using_regex(text, regex, include_context, flags)\n",
    "print extracted_name"
   ]
  }
 ],
 "metadata": {
  "anaconda-cloud": {},
  "kernelspec": {
   "display_name": "Python [conda env:etk_env]",
   "language": "python",
   "name": "conda-env-etk_env-py"
  },
  "language_info": {
   "codemirror_mode": {
    "name": "ipython",
    "version": 2
   },
   "file_extension": ".py",
   "mimetype": "text/x-python",
   "name": "python",
   "nbconvert_exporter": "python",
   "pygments_lexer": "ipython2",
   "version": "2.7.12"
  }
 },
 "nbformat": 4,
 "nbformat_minor": 1
}
