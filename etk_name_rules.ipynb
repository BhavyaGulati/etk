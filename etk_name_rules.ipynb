{
 "cells": [
  {
   "cell_type": "markdown",
   "metadata": {
    "collapsed": true
   },
   "source": [
    "# Custom Spacy Rules"
   ]
  },
  {
   "cell_type": "code",
   "execution_count": 15,
   "metadata": {
    "collapsed": true
   },
   "outputs": [],
   "source": [
    "def generic_token(type=\"word\", token=[], shape=[], number =[], capitalization=[], part_of_speech=[], length=[], minimum=\"\", maximum=\"\", prefix=\"\", suffix=\"\", is_followed_by_space=\"\", is_required=\"true\", is_in_output=\"true\", is_out_of_vocabulary=\"\", is_in_vocabulary=\"\", contain_digit=\"\"):\n",
    "    return {\n",
    "        \"type\": type,\n",
    "        \"token\": token,\n",
    "        \"shapes\": shape,\n",
    "        \"numbers\": number,\n",
    "        \"capitalization\": capitalization,\n",
    "        \"part_of_speech\": part_of_speech,\n",
    "        \"length\": length,\n",
    "        \"minimum\": minimum,\n",
    "        \"maximum\": maximum,\n",
    "        \"prefix\": prefix,\n",
    "        \"suffix\": suffix,\n",
    "        \"is_required\": is_required,\n",
    "        \"is_in_output\": is_in_output,\n",
    "        \"is_out_of_vocabulary\": is_out_of_vocabulary,\n",
    "        \"is_in_vocabulary\": is_in_vocabulary,\n",
    "        \"contain_digit\": contain_digit\n",
    "    }\n",
    "def word_token(token=[], capitalization=[], part_of_speech=[], length=[], minimum=\"\", maximum=\"\", prefix=\"\", suffix=\"\", is_required=\"true\", is_in_output=\"false\", is_out_of_vocabulary=\"\", is_in_vocabulary=\"\", contain_digit=\"\"):\n",
    "     return generic_token(type=\"word\", token=token, capitalization=capitalization, part_of_speech=part_of_speech, length=length, minimum=minimum, maximum=maximum,prefix=prefix, suffix=suffix, is_required=is_required, is_in_output=is_in_output, is_out_of_vocabulary=is_out_of_vocabulary, is_in_vocabulary=is_in_vocabulary, contain_digit=contain_digit)\n",
    "    \n",
    "def punctuation_token(token=[], capitalization=[], part_of_speech=[], length=[], minimum=\"\", maximum=\"\", prefix=\"\", suffix=\"\",  is_required=\"true\", is_in_output=\"false\", is_out_of_vocabulary=\"\", is_in_vocabulary=\"\", contain_digit=\"\"):\n",
    "     return generic_token(type=\"punctuation\", token=token, capitalization=capitalization, part_of_speech=part_of_speech, length=length, minimum=minimum, maximum=maximum,prefix=prefix, suffix=suffix, is_required=is_required, is_in_output=is_in_output, is_out_of_vocabulary=is_out_of_vocabulary, is_in_vocabulary=is_in_vocabulary, contain_digit=contain_digit)\n",
    "\n",
    "def shape_token(shape=[], capitalization=[], part_of_speech=[], length=[], minimum=\"\", maximum=\"\", prefix=\"\", suffix=\"\",is_required=\"true\", is_in_output=\"false\", is_out_of_vocabulary=\"\", is_in_vocabulary=\"\", contain_digit=\"\"):\n",
    "     return generic_token(type=\"shape\", shape=shape, capitalization=capitalization, part_of_speech=part_of_speech, length=length, minimum=minimum, maximum=maximum,prefix=prefix, suffix=suffix, is_required=is_required, is_in_output=is_in_output, is_out_of_vocabulary=is_out_of_vocabulary, is_in_vocabulary=is_in_vocabulary, contain_digit=contain_digit)\n",
    "\n",
    "def number_token(number =[], capitalization=[], part_of_speech=[], length=[], minimum=\"\", maximum=\"\", prefix=\"\", suffix=\"\",is_required=\"true\", is_in_output=\"false\", is_out_of_vocabulary=\"\", is_in_vocabulary=\"\", contain_digit=\"\"):\n",
    "     return generic_token(type=\"number\", number=number, capitalization=capitalization, part_of_speech=part_of_speech, length=length, minimum=minimum, maximum=maximum,prefix=prefix, suffix=suffix, is_required=is_required, is_in_output=is_in_output, is_out_of_vocabulary=is_out_of_vocabulary, is_in_vocabulary=is_in_vocabulary, contain_digit=contain_digit)\n",
    "\n",
    "\n",
    "    \n",
    "    \n",
    "\n",
    "    \n",
    "    \n",
    "    "
   ]
  },
  {
   "cell_type": "code",
   "execution_count": 16,
   "metadata": {
    "collapsed": true
   },
   "outputs": [],
   "source": [
    "import json\n",
    "from etk.core import Core\n",
    "c = Core()"
   ]
  },
  {
   "cell_type": "code",
   "execution_count": 17,
   "metadata": {},
   "outputs": [
    {
     "name": "stdout",
     "output_type": "stream",
     "text": [
      "{'text': u\"Hello guy's, it's Jessica here from the #@%%% Spa. I cant say the name on here, and it is JessicaLa, and it is Cold\\nHi Gentlemen, My name is Ashley . my name Monica I am the one and, My names is Alanda\\nName : Sara . I am the one and, Name: JILL , Name:Jessie\\nAshley (702)628-9035 XOXO . Aslll (702) 628-9035 XOXO Alppp 7026289035\\nI'm Ashley I'm bored i am All, I am ALL\\nthis is Ashleyb I'm bored This is Ashleya  This is AshleyC\\n   Hello boys my name is Brit and I\\u2019m a 28 year old BBW with blonde hair and blue eyes and a curvaceous body. My only goal is to find someone that is as adventurous as I am. I am eager to please and want to explore the wild side and need a man to lead me on my journey. Whether you want me to play the babe in the woods or you want to wake the beast in me, bottom line is you are satisfied.call or text me anytime the mood strikes at 413 345 8638\", 'simple_tokens_original_case': [u'Hello', u'guy', u\"'\", u's', u',', u'it', u\"'\", u's', u'Jessica', u'here', u'from', u'the', u'#', u'@', u'%', u'%', u'%', u'Spa', u'.', u'I', u'cant', u'say', u'the', u'name', u'on', u'here', u',', u'and', u'it', u'is', u'JessicaLa', u',', u'and', u'it', u'is', u'Cold', u'\\n', u'Hi', u'Gentlemen', u',', u'My', u'name', u'is', u'Ashley', u'.', u'my', u'name', u'Monica', u'I', u'am', u'the', u'one', u'and', u',', u'My', u'names', u'is', u'Alanda', u'\\n', u'Name', u':', u'Sara', u'.', u'I', u'am', u'the', u'one', u'and', u',', u'Name', u':', u'JILL', u',', u'Name', u':', u'Jessie', u'\\n', u'Ashley', u'(', u'702', u')', u'628', u'-', u'9035', u'XOXO', u'.', u'Aslll', u'(', u'702', u')', u'628', u'-', u'9035', u'XOXO', u'Alppp', u'7026289035', u'\\n', u'I', u\"'\", u'm', u'Ashley', u'I', u\"'\", u'm', u'bored', u'i', u'am', u'All', u',', u'I', u'am', u'ALL', u'\\n', u'this', u'is', u'Ashleyb', u'I', u\"'\", u'm', u'bored', u'This', u'is', u'Ashleya', u'This', u'is', u'AshleyC', u'\\n', u'Hello', u'boys', u'my', u'name', u'is', u'Brit', u'and', u'I\\u2019m', u'a', u'28', u'year', u'old', u'BBW', u'with', u'blonde', u'hair', u'and', u'blue', u'eyes', u'and', u'a', u'curvaceous', u'body', u'.', u'My', u'only', u'goal', u'is', u'to', u'find', u'someone', u'that', u'is', u'as', u'adventurous', u'as', u'I', u'am', u'.', u'I', u'am', u'eager', u'to', u'please', u'and', u'want', u'to', u'explore', u'the', u'wild', u'side', u'and', u'need', u'a', u'man', u'to', u'lead', u'me', u'on', u'my', u'journey', u'.', u'Whether', u'you', u'want', u'me', u'to', u'play', u'the', u'babe', u'in', u'the', u'woods', u'or', u'you', u'want', u'to', u'wake', u'the', u'beast', u'in', u'me', u',', u'bottom', u'line', u'is', u'you', u'are', u'satisfied', u'.', u'call', u'or', u'text', u'me', u'anytime', u'the', u'mood', u'strikes', u'at', u'413', u'345', u'8638']}\n"
     ]
    }
   ],
   "source": [
    "# Text to test the rules\n",
    "t = []\n",
    "t.append(u\"Hello guy's, it's Jessica here from the #@%%% Spa. I cant say the name on here, and it is JessicaLa, and it is Cold\")\n",
    "t.append(u\"Hi Gentlemen, My name is Ashley . my name Monica I am the one and, My names is Alanda\")\n",
    "t.append(u\"Name : Sara . I am the one and, Name: JILL , Name:Jessie\")\n",
    "t.append(u\"Ashley (702)628-9035 XOXO . Aslll (702) 628-9035 XOXO Alppp 7026289035\")\n",
    "t.append(u\"I'm Ashley I'm bored i am All, I am ALL\")\n",
    "t.append(u\"this is Ashleyb I'm bored This is Ashleya  This is AshleyC\")\n",
    "t.append(u\"\"\"   Hello boys my name is Brit and I’m a 28 year old BBW with blonde hair and blue eyes and a curvaceous body. My only goal is to find someone that is as adventurous as I am. I am eager to please and want to explore the wild side and need a man to lead me on my journey. Whether you want me to play the babe in the woods or you want to wake the beast in me, bottom line is you are satisfied.call or text me anytime the mood strikes at 413 345 8638\"\"\")\n",
    "\n",
    "\n",
    "d = dict()\n",
    "d['text'] = \"\\n\".join(t)\n",
    "d['simple_tokens_original_case'] = c.extract_tokens_from_crf(c.extract_crftokens(d['text'], lowercase=False))\n",
    "\n",
    "print d\n",
    "\n",
    "config = dict()\n",
    "config['field_name'] = 'field02'\n"
   ]
  },
  {
   "cell_type": "code",
   "execution_count": 18,
   "metadata": {},
   "outputs": [
    {
     "name": "stdout",
     "output_type": "stream",
     "text": [
      "text: Hello guy's, it's Jessica here from the #@%%% Spa. I cant say the name on here, and it is JessicaLa, and it is Cold\n",
      "Hi Gentlemen, My name is Ashley . my name Monica I am the one and, My names is Alanda\n",
      "Name : Sara . I am the one and, Name: JILL , Name:Jessie\n",
      "Ashley (702)628-9035 XOXO . Aslll (702) 628-9035 XOXO Alppp 7026289035\n",
      "I'm Ashley I'm bored i am All, I am ALL\n",
      "this is Ashleyb I'm bored This is Ashleya  This is AshleyC\n",
      "   Hello boys my name is Brit and I’m a 28 year old BBW with blonde hair and blue eyes and a curvaceous body. My only goal is to find someone that is as adventurous as I am. I am eager to please and want to explore the wild side and need a man to lead me on my journey. Whether you want me to play the babe in the woods or you want to wake the beast in me, bottom line is you are satisfied.call or text me anytime the mood strikes at 413 345 8638\n"
     ]
    },
    {
     "data": {
      "text/plain": [
       "['Ashley', 'Monica', 'Alanda', 'Brit']"
      ]
     },
     "execution_count": 18,
     "metadata": {},
     "output_type": "execute_result"
    }
   ],
   "source": [
    "# my name / names is:   My name is Ashley . my name Monica I am the one and, My names is Alanda\n",
    "\n",
    "rule_01 = {\n",
    "      \"identifier\": \"name_rule_01\",\n",
    "      \"description\": \"my name/names is\",\n",
    "      \"is_active\": \"true\",\n",
    "      \"output_format\": \"{1}\",\n",
    "      \"pattern\": [\n",
    "          word_token(token=[\"my\"]),\n",
    "          word_token(token=[\"name\", \"names\"]),\n",
    "          word_token(token=[\"is\"], is_required=\"false\"),\n",
    "          word_token(part_of_speech=[\"proper noun\"], capitalization=[\"title\", \"upper\"], is_in_output=\"true\")\n",
    "      ]\n",
    "    }\n",
    "\n",
    "field_rules = {\n",
    "  \"rules\": [\n",
    "      rule_01\n",
    "  ]\n",
    "}\n",
    "\n",
    "print \"text:\", d['text']\n",
    "results = c.extract_using_custom_spacy(d, config, field_rules=field_rules)\n",
    "tele_lst = []\n",
    "for i in results:\n",
    "    tele_lst.append(''.join((i.values()[1]).split()))\n",
    "tele_lst\n"
   ]
  },
  {
   "cell_type": "code",
   "execution_count": 19,
   "metadata": {},
   "outputs": [
    {
     "name": "stdout",
     "output_type": "stream",
     "text": [
      "text: Hello guy's, it's Jessica here from the #@%%% Spa. I cant say the name on here, and it is JessicaLa, and it is Cold\n",
      "Hi Gentlemen, My name is Ashley . my name Monica I am the one and, My names is Alanda\n",
      "Name : Sara . I am the one and, Name: JILL , Name:Jessie\n",
      "Ashley (702)628-9035 XOXO . Aslll (702) 628-9035 XOXO Alppp 7026289035\n",
      "I'm Ashley I'm bored i am All, I am ALL\n",
      "this is Ashleyb I'm bored This is Ashleya  This is AshleyC\n",
      "   Hello boys my name is Brit and I’m a 28 year old BBW with blonde hair and blue eyes and a curvaceous body. My only goal is to find someone that is as adventurous as I am. I am eager to please and want to explore the wild side and need a man to lead me on my journey. Whether you want me to play the babe in the woods or you want to wake the beast in me, bottom line is you are satisfied.call or text me anytime the mood strikes at 413 345 8638\n"
     ]
    },
    {
     "data": {
      "text/plain": [
       "['All', 'ALL']"
      ]
     },
     "execution_count": 19,
     "metadata": {},
     "output_type": "execute_result"
    }
   ],
   "source": [
    "#i am: i am All, I am ALL\n",
    "\n",
    "rule_02 = {\n",
    "      \"identifier\": \"name_rule_02\",\n",
    "      \"description\": \"i am\",\n",
    "      \"is_active\": \"true\",\n",
    "      \"output_format\": \"{1}\",\n",
    "      \"pattern\": [\n",
    "            word_token(token=[\"i\"]),\n",
    "            word_token(token=[\"am\"]),\n",
    "            word_token(capitalization=[\"title\", \"upper\"], is_in_output=\"true\")\n",
    "      ]\n",
    "    }\n",
    "\n",
    "field_rules = {\n",
    "  \"rules\": [\n",
    "      rule_02\n",
    "  ]\n",
    "}\n",
    "\n",
    "print \"text:\", d['text']\n",
    "results = c.extract_using_custom_spacy(d, config, field_rules=field_rules)\n",
    "tele_lst = []\n",
    "for i in results:\n",
    "    tele_lst.append(''.join((i.values()[1]).split()))\n",
    "tele_lst\n"
   ]
  },
  {
   "cell_type": "code",
   "execution_count": 20,
   "metadata": {},
   "outputs": [
    {
     "name": "stdout",
     "output_type": "stream",
     "text": [
      "text: Hello guy's, it's Jessica here from the #@%%% Spa. I cant say the name on here, and it is JessicaLa, and it is Cold\n",
      "Hi Gentlemen, My name is Ashley . my name Monica I am the one and, My names is Alanda\n",
      "Name : Sara . I am the one and, Name: JILL , Name:Jessie\n",
      "Ashley (702)628-9035 XOXO . Aslll (702) 628-9035 XOXO Alppp 7026289035\n",
      "I'm Ashley I'm bored i am All, I am ALL\n",
      "this is Ashleyb I'm bored This is Ashleya  This is AshleyC\n",
      "   Hello boys my name is Brit and I’m a 28 year old BBW with blonde hair and blue eyes and a curvaceous body. My only goal is to find someone that is as adventurous as I am. I am eager to please and want to explore the wild side and need a man to lead me on my journey. Whether you want me to play the babe in the woods or you want to wake the beast in me, bottom line is you are satisfied.call or text me anytime the mood strikes at 413 345 8638\n"
     ]
    },
    {
     "data": {
      "text/plain": [
       "['Sara', 'JILL', 'Jessie']"
      ]
     },
     "execution_count": 20,
     "metadata": {},
     "output_type": "execute_result"
    }
   ],
   "source": [
    "# name :  Name    Name : Sara . I am the one and, Name: JILL , Name:Jessie\n",
    "\n",
    "rule_03 = {\n",
    "      \"identifier\": \"name_rule_03\",\n",
    "      \"description\": \"name : Sara\",\n",
    "      \"is_active\": \"true\",\n",
    "      \"output_format\": \"{1}\",\n",
    "      \"pattern\": [\n",
    "          word_token(token=[\"name\"]),\n",
    "          punctuation_token(token=[\":\"]),\n",
    "          word_token(token=[], is_in_output=\"true\"),\n",
    "      ]\n",
    "    }\n",
    "\n",
    "field_rules = {\n",
    "  \"rules\": [\n",
    "      rule_03\n",
    "  ]\n",
    "}\n",
    "\n",
    "\n",
    "print \"text:\", d['text']\n",
    "results = c.extract_using_custom_spacy(d, config, field_rules=field_rules)\n",
    "tele_lst = []\n",
    "for i in results:\n",
    "    tele_lst.append(''.join((i.values()[1]).split()))\n",
    "tele_lst\n"
   ]
  },
  {
   "cell_type": "code",
   "execution_count": 21,
   "metadata": {},
   "outputs": [
    {
     "name": "stdout",
     "output_type": "stream",
     "text": [
      "text: Hello guy's, it's Jessica here from the #@%%% Spa. I cant say the name on here, and it is JessicaLa, and it is Cold\n",
      "Hi Gentlemen, My name is Ashley . my name Monica I am the one and, My names is Alanda\n",
      "Name : Sara . I am the one and, Name: JILL , Name:Jessie\n",
      "Ashley (702)628-9035 XOXO . Aslll (702) 628-9035 XOXO Alppp 7026289035\n",
      "I'm Ashley I'm bored i am All, I am ALL\n",
      "this is Ashleyb I'm bored This is Ashleya  This is AshleyC\n",
      "   Hello boys my name is Brit and I’m a 28 year old BBW with blonde hair and blue eyes and a curvaceous body. My only goal is to find someone that is as adventurous as I am. I am eager to please and want to explore the wild side and need a man to lead me on my journey. Whether you want me to play the babe in the woods or you want to wake the beast in me, bottom line is you are satisfied.call or text me anytime the mood strikes at 413 345 8638\n"
     ]
    },
    {
     "data": {
      "text/plain": [
       "['Cold']"
      ]
     },
     "execution_count": 21,
     "metadata": {},
     "output_type": "execute_result"
    }
   ],
   "source": [
    "# it is: it is JessicaLa, and it is Cold\n",
    "\n",
    "rule_04 = {\n",
    "      \"identifier\": \"name_rule_04\",\n",
    "      \"description\": \"it is Jessicala\",\n",
    "      \"is_active\": \"true\",\n",
    "      \"output_format\": \"{1}\",\n",
    "      \"pattern\": [\n",
    "          word_token(token=[\"it\"]),\n",
    "          word_token(token=[\"is\"]),\n",
    "#           word_token(capitalization=[\"title\", \"mixed\"], is_in_output=\"true\")\n",
    "          word_token(part_of_speech=[\"proper noun\"], capitalization=[\"title\",\"upper\"], is_in_output=\"true\")\n",
    "      ]\n",
    "    }\n",
    "\n",
    "field_rules = {\n",
    "  \"rules\": [\n",
    "      rule_04\n",
    "  ]\n",
    "}\n",
    "\n",
    "\n",
    "print \"text:\", d['text']\n",
    "results = c.extract_using_custom_spacy(d, config, field_rules=field_rules)\n",
    "tele_lst = []\n",
    "for i in results:\n",
    "    tele_lst.append(''.join((i.values()[1]).split()))\n",
    "tele_lst\n"
   ]
  },
  {
   "cell_type": "code",
   "execution_count": 22,
   "metadata": {},
   "outputs": [
    {
     "name": "stdout",
     "output_type": "stream",
     "text": [
      "text: Hello guy's, it's Jessica here from the #@%%% Spa. I cant say the name on here, and it is JessicaLa, and it is Cold\n",
      "Hi Gentlemen, My name is Ashley . my name Monica I am the one and, My names is Alanda\n",
      "Name : Sara . I am the one and, Name: JILL , Name:Jessie\n",
      "Ashley (702)628-9035 XOXO . Aslll (702) 628-9035 XOXO Alppp 7026289035\n",
      "I'm Ashley I'm bored i am All, I am ALL\n",
      "this is Ashleyb I'm bored This is Ashleya  This is AshleyC\n",
      "   Hello boys my name is Brit and I’m a 28 year old BBW with blonde hair and blue eyes and a curvaceous body. My only goal is to find someone that is as adventurous as I am. I am eager to please and want to explore the wild side and need a man to lead me on my journey. Whether you want me to play the babe in the woods or you want to wake the beast in me, bottom line is you are satisfied.call or text me anytime the mood strikes at 413 345 8638\n"
     ]
    },
    {
     "data": {
      "text/plain": [
       "['Ashleyb', 'Ashleya']"
      ]
     },
     "execution_count": 22,
     "metadata": {},
     "output_type": "execute_result"
    }
   ],
   "source": [
    "# this is , This is : this is Ashleyb\n",
    "\n",
    "rule_05 = {\n",
    "      \"identifier\": \"name_rule_05\",\n",
    "      \"description\": \"this is\",\n",
    "      \"is_active\": \"true\",\n",
    "      \"output_format\": \"{1}\",\n",
    "      \"pattern\": [\n",
    "          word_token(token=[\"this\"]),\n",
    "          word_token(token=[\"is\"]),\n",
    "          word_token(part_of_speech=[\"proper noun\"], capitalization=[\"title\",\"upper\"], is_in_output=\"true\")\n",
    "      ]\n",
    "    }\n",
    "\n",
    "field_rules = {\n",
    "  \"rules\": [\n",
    "      rule_05\n",
    "  ]\n",
    "}\n",
    "\n",
    "\n",
    "print \"text:\", d['text']\n",
    "results = c.extract_using_custom_spacy(d, config, field_rules=field_rules)\n",
    "tele_lst = []\n",
    "for i in results:\n",
    "    tele_lst.append(''.join((i.values()[1]).split()))\n",
    "tele_lst\n"
   ]
  },
  {
   "cell_type": "code",
   "execution_count": 23,
   "metadata": {},
   "outputs": [
    {
     "name": "stdout",
     "output_type": "stream",
     "text": [
      "text: Hello guy's, it's Jessica here from the #@%%% Spa. I cant say the name on here, and it is JessicaLa, and it is Cold\n",
      "Hi Gentlemen, My name is Ashley . my name Monica I am the one and, My names is Alanda\n",
      "Name : Sara . I am the one and, Name: JILL , Name:Jessie\n",
      "Ashley (702)628-9035 XOXO . Aslll (702) 628-9035 XOXO Alppp 7026289035\n",
      "I'm Ashley I'm bored i am All, I am ALL\n",
      "this is Ashleyb I'm bored This is Ashleya  This is AshleyC\n",
      "   Hello boys my name is Brit and I’m a 28 year old BBW with blonde hair and blue eyes and a curvaceous body. My only goal is to find someone that is as adventurous as I am. I am eager to please and want to explore the wild side and need a man to lead me on my journey. Whether you want me to play the babe in the woods or you want to wake the beast in me, bottom line is you are satisfied.call or text me anytime the mood strikes at 413 345 8638\n"
     ]
    },
    {
     "data": {
      "text/plain": [
       "['Ashley']"
      ]
     },
     "execution_count": 23,
     "metadata": {},
     "output_type": "execute_result"
    }
   ],
   "source": [
    "#I'm: I'm Ashley\n",
    "\n",
    "rule_06 = {\n",
    "      \"identifier\": \"name_rule_06\",\n",
    "      \"description\": \"i'm\",\n",
    "      \"is_active\": \"true\",\n",
    "      \"output_format\": \"{1}\",\n",
    "      \"pattern\": [\n",
    "          word_token(token=[\"i\"]),\n",
    "          punctuation_token(token=[\"'\"]),\n",
    "          word_token(token=[\"m\"]),\n",
    "          word_token(part_of_speech=[\"proper noun\"], capitalization=[\"title\", \"upper\"], is_in_output=\"true\")\n",
    "      ]\n",
    "    }\n",
    "\n",
    "field_rules = {\n",
    "  \"rules\": [\n",
    "      rule_06\n",
    "  ]\n",
    "}\n",
    "\n",
    "\n",
    "print \"text:\", d['text']\n",
    "results = c.extract_using_custom_spacy(d, config, field_rules=field_rules)\n",
    "tele_lst = []\n",
    "for i in results:\n",
    "    tele_lst.append(''.join((i.values()[1]).split()))\n",
    "tele_lst\n"
   ]
  },
  {
   "cell_type": "code",
   "execution_count": 24,
   "metadata": {},
   "outputs": [
    {
     "name": "stdout",
     "output_type": "stream",
     "text": [
      "text: Hello guy's, it's Jessica here from the #@%%% Spa. I cant say the name on here, and it is JessicaLa, and it is Cold\n",
      "Hi Gentlemen, My name is Ashley . my name Monica I am the one and, My names is Alanda\n",
      "Name : Sara . I am the one and, Name: JILL , Name:Jessie\n",
      "Ashley (702)628-9035 XOXO . Aslll (702) 628-9035 XOXO Alppp 7026289035\n",
      "I'm Ashley I'm bored i am All, I am ALL\n",
      "this is Ashleyb I'm bored This is Ashleya  This is AshleyC\n",
      "   Hello boys my name is Brit and I’m a 28 year old BBW with blonde hair and blue eyes and a curvaceous body. My only goal is to find someone that is as adventurous as I am. I am eager to please and want to explore the wild side and need a man to lead me on my journey. Whether you want me to play the babe in the woods or you want to wake the beast in me, bottom line is you are satisfied.call or text me anytime the mood strikes at 413 345 8638\n"
     ]
    },
    {
     "data": {
      "text/plain": [
       "['Jessica']"
      ]
     },
     "execution_count": 24,
     "metadata": {},
     "output_type": "execute_result"
    }
   ],
   "source": [
    "#it's: it's Jessica\n",
    "\n",
    "rule_07 = {\n",
    "      \"identifier\": \"name_rule_07\",\n",
    "      \"description\": \"it's\",\n",
    "      \"is_active\": \"true\",\n",
    "      \"output_format\": \"{1}\",\n",
    "      \"pattern\": [\n",
    "          word_token(token=[\"it\"]),\n",
    "          punctuation_token(token=[\"'\"]),\n",
    "          word_token(token=[\"s\"]),\n",
    "          word_token(part_of_speech=[\"proper noun\"], capitalization=[\"title\", \"upper\"], is_in_output=\"true\")          \n",
    "      ]\n",
    "    }\n",
    "\n",
    "field_rules = {\n",
    "  \"rules\": [\n",
    "      rule_07\n",
    "  ]\n",
    "}\n",
    "\n",
    "\n",
    "\n",
    "print \"text:\", d['text']\n",
    "results = c.extract_using_custom_spacy(d, config, field_rules=field_rules)\n",
    "tele_lst = []\n",
    "for i in results:\n",
    "    tele_lst.append(''.join((i.values()[1]).split()))\n",
    "tele_lst\n"
   ]
  },
  {
   "cell_type": "code",
   "execution_count": 25,
   "metadata": {},
   "outputs": [
    {
     "name": "stdout",
     "output_type": "stream",
     "text": [
      "text: Hello guy's, it's Jessica here from the #@%%% Spa. I cant say the name on here, and it is JessicaLa, and it is Cold\n",
      "Hi Gentlemen, My name is Ashley . my name Monica I am the one and, My names is Alanda\n",
      "Name : Sara . I am the one and, Name: JILL , Name:Jessie\n",
      "Ashley (702)628-9035 XOXO . Aslll (702) 628-9035 XOXO Alppp 7026289035\n",
      "I'm Ashley I'm bored i am All, I am ALL\n",
      "this is Ashleyb I'm bored This is Ashleya  This is AshleyC\n",
      "   Hello boys my name is Brit and I’m a 28 year old BBW with blonde hair and blue eyes and a curvaceous body. My only goal is to find someone that is as adventurous as I am. I am eager to please and want to explore the wild side and need a man to lead me on my journey. Whether you want me to play the babe in the woods or you want to wake the beast in me, bottom line is you are satisfied.call or text me anytime the mood strikes at 413 345 8638\n"
     ]
    },
    {
     "data": {
      "text/plain": [
       "['Ashley', 'Aslll']"
      ]
     },
     "execution_count": 25,
     "metadata": {},
     "output_type": "execute_result"
    }
   ],
   "source": [
    "#Ashley (702)\n",
    "rule_08 = {\n",
    "      \"identifier\": \"name_rule_08\",\n",
    "      \"description\": \"name followed by telephone number[123]\",\n",
    "      \"is_active\": \"true\",\n",
    "      \"output_format\": \"{1}\",\n",
    "      \"pattern\": [\n",
    "          word_token(capitalization=[\"title\"], is_in_output=\"true\"),\n",
    "          punctuation_token(token=[\"(\", \"[\"]),\n",
    "          shape_token(shape=[\"ddd\"])\n",
    "      ]\n",
    "    }\n",
    "\n",
    "field_rules = {\n",
    "  \"rules\": [\n",
    "      rule_08\n",
    "  ]\n",
    "}\n",
    "\n",
    "\n",
    "print \"text:\", d['text']\n",
    "results = c.extract_using_custom_spacy(d, config, field_rules=field_rules)\n",
    "tele_lst = []\n",
    "for i in results:\n",
    "    tele_lst.append(''.join((i.values()[1]).split()))\n",
    "tele_lst\n"
   ]
  },
  {
   "cell_type": "code",
   "execution_count": 26,
   "metadata": {},
   "outputs": [
    {
     "name": "stdout",
     "output_type": "stream",
     "text": [
      "text: Hello guy's, it's Jessica here from the #@%%% Spa. I cant say the name on here, and it is JessicaLa, and it is Cold\n",
      "Hi Gentlemen, My name is Ashley . my name Monica I am the one and, My names is Alanda\n",
      "Name : Sara . I am the one and, Name: JILL , Name:Jessie\n",
      "Ashley (702)628-9035 XOXO . Aslll (702) 628-9035 XOXO Alppp 7026289035\n",
      "I'm Ashley I'm bored i am All, I am ALL\n",
      "this is Ashleyb I'm bored This is Ashleya  This is AshleyC\n",
      "   Hello boys my name is Brit and I’m a 28 year old BBW with blonde hair and blue eyes and a curvaceous body. My only goal is to find someone that is as adventurous as I am. I am eager to please and want to explore the wild side and need a man to lead me on my journey. Whether you want me to play the babe in the woods or you want to wake the beast in me, bottom line is you are satisfied.call or text me anytime the mood strikes at 413 345 8638\n"
     ]
    },
    {
     "data": {
      "text/plain": [
       "['Alppp']"
      ]
     },
     "execution_count": 26,
     "metadata": {},
     "output_type": "execute_result"
    }
   ],
   "source": [
    "#Jessica 7135975313\n",
    "\n",
    "rule_09 = {\n",
    "      \"identifier\": \"name_rule_09\",\n",
    "      \"description\": \"name followed by telephone number 7135975313\",\n",
    "      \"is_active\": \"true\",\n",
    "      \"output_format\": \"{1}\",\n",
    "      \"pattern\": [\n",
    "          word_token(capitalization=[\"title\", \"upper\"], is_in_output=\"true\"),\n",
    "          shape_token(shape=[\"dddddddddd\"])\n",
    "      ]\n",
    "    }\n",
    "\n",
    "field_rules = {\n",
    "  \"rules\": [\n",
    "      rule_09\n",
    "  ]\n",
    "}\n",
    "\n",
    "\n",
    "print \"text:\", d['text']\n",
    "results = c.extract_using_custom_spacy(d, config, field_rules=field_rules)\n",
    "tele_lst = []\n",
    "for i in results:\n",
    "    tele_lst.append(''.join((i.values()[1]).split()))\n",
    "tele_lst\n"
   ]
  },
  {
   "cell_type": "markdown",
   "metadata": {},
   "source": [
    "## Test Several Rules"
   ]
  },
  {
   "cell_type": "code",
   "execution_count": 27,
   "metadata": {},
   "outputs": [
    {
     "name": "stdout",
     "output_type": "stream",
     "text": [
      "['Jessica', 'Cold', 'Ashley', 'Monica', 'Alanda', 'Sara', 'JILL', 'Jessie', 'Ashley', 'Aslll', 'Alppp', 'Ashley', 'All', 'ALL', 'Ashleyb', 'Ashleya', 'Brit']\n"
     ]
    }
   ],
   "source": [
    "field_rules = {\n",
    "  \"rules\": [\n",
    "    rule_01, \n",
    "    rule_02,\n",
    "    rule_03,\n",
    "    rule_04,\n",
    "    rule_05,\n",
    "    rule_06,\n",
    "    rule_07,\n",
    "    rule_08,\n",
    "    rule_09\n",
    "  ],\n",
    "    \"test_text\": d['text'],\n",
    "    \"test_tokens\": c.extract_tokens_from_crf(c.extract_crftokens(d['text'], lowercase=False))\n",
    "}\n",
    "\n",
    "\n",
    "\n",
    "results = c.extract_using_custom_spacy(d, config, field_rules=field_rules)\n",
    "\n",
    "tele_lst = []\n",
    "for i in results:\n",
    "    tele_lst.append(''.join((i.values()[1]).split()))\n",
    "results.append(tele_lst)\n",
    "\n",
    "print tele_lst\n",
    "field_rules['results']=results\n",
    "\n",
    "s = json.dumps(field_rules, indent=2)\n",
    "\n",
    "\n",
    "import codecs\n",
    "o = codecs.open('name.json', 'w')\n",
    "o.write(s)\n",
    "o.close()"
   ]
  },
  {
   "cell_type": "code",
   "execution_count": 28,
   "metadata": {},
   "outputs": [
    {
     "name": "stdout",
     "output_type": "stream",
     "text": [
      "{'prefix': '', 'suffix': '', 'capitalization': [], 'part_of_speech': [], 'length': [], 'maximum': '', 'shapes': [], 'token': ['hello'], 'minimum': '', 'numbers': [], 'contain_digit': '', 'is_in_vocabulary': '', 'is_out_of_vocabulary': '', 'is_required': 'true', 'type': 'word', 'is_in_output': 'false'}\n"
     ]
    }
   ],
   "source": [
    "\n",
    "print word_token(token=[\"hello\"])"
   ]
  }
 ],
 "metadata": {
  "kernelspec": {
   "display_name": "Python [conda env:etk_env]",
   "language": "python",
   "name": "conda-env-etk_env-py"
  },
  "language_info": {
   "codemirror_mode": {
    "name": "ipython",
    "version": 2
   },
   "file_extension": ".py",
   "mimetype": "text/x-python",
   "name": "python",
   "nbconvert_exporter": "python",
   "pygments_lexer": "ipython2",
   "version": "2.7.12"
  }
 },
 "nbformat": 4,
 "nbformat_minor": 1
}
