{
 "cells": [
  {
   "cell_type": "markdown",
   "metadata": {
    "collapsed": true
   },
   "source": [
    "# Custom Spacy Rules"
   ]
  },
  {
   "cell_type": "code",
   "execution_count": 210,
   "metadata": {
    "collapsed": true
   },
   "outputs": [],
   "source": [
    "def generic_token(type=\"word\", token=[], shape=[], number =[], capitalization=[], part_of_speech=[], length=[], minimum=\"\", maximum=\"\", prefix=\"\", suffix=\"\", is_followed_by_space=\"\", is_required=\"true\", is_in_output=\"true\", is_out_of_vocabulary=\"\", is_in_vocabulary=\"\", contain_digit=\"\"):\n",
    "    return {\n",
    "        \"type\": type,\n",
    "        \"token\": token,\n",
    "        \"shapes\": shape,\n",
    "        \"numbers\": number,\n",
    "        \"capitalization\": capitalization,\n",
    "        \"part_of_speech\": part_of_speech,\n",
    "        \"length\": length,\n",
    "        \"minimum\": minimum,\n",
    "        \"maximum\": maximum,\n",
    "        \"prefix\": prefix,\n",
    "        \"suffix\": suffix,\n",
    "        \"is_required\": is_required,\n",
    "        \"is_in_output\": is_in_output,\n",
    "        \"is_out_of_vocabulary\": is_out_of_vocabulary,\n",
    "        \"is_in_vocabulary\": is_in_vocabulary,\n",
    "        \"contain_digit\": contain_digit\n",
    "    }\n",
    "def word_token(token=[], capitalization=[], part_of_speech=[], length=[], minimum=\"\", maximum=\"\", prefix=\"\", suffix=\"\", is_required=\"true\", is_in_output=\"false\", is_out_of_vocabulary=\"\", is_in_vocabulary=\"\", contain_digit=\"\"):\n",
    "     return generic_token(type=\"word\", token=token, capitalization=capitalization, part_of_speech=part_of_speech, length=length, minimum=minimum, maximum=maximum,prefix=prefix, suffix=suffix, is_required=is_required, is_in_output=is_in_output, is_out_of_vocabulary=is_out_of_vocabulary, is_in_vocabulary=is_in_vocabulary, contain_digit=contain_digit)\n",
    "    \n",
    "def punctuation_token(token=[], capitalization=[], part_of_speech=[], length=[], minimum=\"\", maximum=\"\", prefix=\"\", suffix=\"\",  is_required=\"true\", is_in_output=\"false\", is_out_of_vocabulary=\"\", is_in_vocabulary=\"\", contain_digit=\"\"):\n",
    "     return generic_token(type=\"punctuation\", token=token, capitalization=capitalization, part_of_speech=part_of_speech, length=length, minimum=minimum, maximum=maximum,prefix=prefix, suffix=suffix, is_required=is_required, is_in_output=is_in_output, is_out_of_vocabulary=is_out_of_vocabulary, is_in_vocabulary=is_in_vocabulary, contain_digit=contain_digit)\n",
    "\n",
    "def shape_token(shape=[], capitalization=[], part_of_speech=[], length=[], minimum=\"\", maximum=\"\", prefix=\"\", suffix=\"\",is_required=\"true\", is_in_output=\"false\", is_out_of_vocabulary=\"\", is_in_vocabulary=\"\", contain_digit=\"\"):\n",
    "     return generic_token(type=\"shape\", shape=shape, capitalization=capitalization, part_of_speech=part_of_speech, length=length, minimum=minimum, maximum=maximum,prefix=prefix, suffix=suffix, is_required=is_required, is_in_output=is_in_output, is_out_of_vocabulary=is_out_of_vocabulary, is_in_vocabulary=is_in_vocabulary, contain_digit=contain_digit)\n",
    "\n",
    "def number_token(number =[], capitalization=[], part_of_speech=[], length=[], minimum=\"\", maximum=\"\", prefix=\"\", suffix=\"\",is_required=\"true\", is_in_output=\"false\", is_out_of_vocabulary=\"\", is_in_vocabulary=\"\", contain_digit=\"\"):\n",
    "     return generic_token(type=\"number\", number=number, capitalization=capitalization, part_of_speech=part_of_speech, length=length, minimum=minimum, maximum=maximum,prefix=prefix, suffix=suffix, is_required=is_required, is_in_output=is_in_output, is_out_of_vocabulary=is_out_of_vocabulary, is_in_vocabulary=is_in_vocabulary, contain_digit=contain_digit)\n",
    "\n",
    "\n",
    "    \n",
    "    \n"
   ]
  },
  {
   "cell_type": "code",
   "execution_count": 211,
   "metadata": {
    "collapsed": true
   },
   "outputs": [],
   "source": [
    "import json\n",
    "from etk.core import Core\n",
    "c = Core()"
   ]
  },
  {
   "cell_type": "code",
   "execution_count": 212,
   "metadata": {},
   "outputs": [
    {
     "name": "stdout",
     "output_type": "stream",
     "text": [
      "{'text': u' A, BA,  \\n C^J,        BAC,      C-C,         JW.B,    \\n BK^C,       ABRN,     NS-A,  \\n ADK^A,      ABEOW ,    ABC-A,      BAC.A,       HK.WS,  \\n MITT^A,                             HCAC.U,     BTX.WS,     ,       C.WS.A,\\n                                                 IMUC.WS,   \\n                                                                   BAC.WS.A \\n CHSP^A.CL \\n Alibaba Group Holding Ltd (NYSE:BABA) dealt another ,  (NASDAQ:AMZN) this week \\n $USCR, $TSLA \\n common    Stock (AAPL)  \\n Apple    Inc. (AAPL). \\n AMZA - Free Report,  \\nGOOGL 919.46 -10.22 -1.10%,AAPL 146.28 0.65 0.45% :\\nAAPL is looking to, |  for AAPQ was 8.31 For the fiscal y  | ,AAPW has efficiently invested ,| AAPE comes one wee,,AAPR may refer to:  |,AAPl closed at ab|including AAPT news, historical|The bank lowered its AAPY price target to $150, |Earnings estimates for AAPU from thousands of | View the basic AAPO stock chart \\nAAPA: Get the latest Apple, unveiled, ', 'simple_tokens_original_case': [u'A', u',', u'BA', u',', u'\\n', u'C', u'^', u'J', u',', u'BAC', u',', u'C', u'-', u'C', u',', u'JW', u'.', u'B', u',', u'\\n', u'BK', u'^', u'C', u',', u'ABRN', u',', u'NS', u'-', u'A', u',', u'\\n', u'ADK', u'^', u'A', u',', u'ABEOW', u',', u'ABC', u'-', u'A', u',', u'BAC', u'.', u'A', u',', u'HK', u'.', u'WS', u',', u'\\n', u'MITT', u'^', u'A', u',', u'HCAC', u'.', u'U', u',', u'BTX', u'.', u'WS', u',', u',', u'C', u'.', u'WS', u'.', u'A', u',', u'\\n', u'IMUC', u'.', u'WS', u',', u'\\n', u'BAC', u'.', u'WS', u'.', u'A', u'\\n', u'CHSP', u'^', u'A', u'.', u'CL', u'\\n', u'Alibaba', u'Group', u'Holding', u'Ltd', u'(', u'NYSE', u':', u'BABA', u')', u'dealt', u'another', u',', u'(', u'NASDAQ', u':', u'AMZN', u')', u'this', u'week', u'\\n', u'$', u'USCR', u',', u'$', u'TSLA', u'\\n', u'common', u'Stock', u'(', u'AAPL', u')', u'\\n', u'Apple', u'Inc', u'.', u'(', u'AAPL', u')', u'.', u'\\n', u'AMZA', u'-', u'Free', u'Report', u',', u'\\n', u'GOOGL', u'919', u'.', u'46', u'-', u'10', u'.', u'22', u'-', u'1', u'.', u'10', u'%', u',', u'AAPL', u'146', u'.', u'28', u'0', u'.', u'65', u'0', u'.', u'45', u'%', u':', u'\\n', u'AAPL', u'is', u'looking', u'to', u',', u'|', u'for', u'AAPQ', u'was', u'8', u'.', u'31', u'For', u'the', u'fiscal', u'y', u'|', u',', u'AAPW', u'has', u'efficiently', u'invested', u',', u'|', u'AAPE', u'comes', u'one', u'wee', u',', u',', u'AAPR', u'may', u'refer', u'to', u':', u'|', u',', u'AAPl', u'closed', u'at', u'ab', u'|', u'including', u'AAPT', u'news', u',', u'historical', u'|', u'The', u'bank', u'lowered', u'its', u'AAPY', u'price', u'target', u'to', u'$', u'150', u',', u'|', u'Earnings', u'estimates', u'for', u'AAPU', u'from', u'thousands', u'of', u'|', u'View', u'the', u'basic', u'AAPO', u'stock', u'chart', u'\\n', u'AAPA', u':', u'Get', u'the', u'latest', u'Apple', u',', u'unveiled', u',']}\n"
     ]
    }
   ],
   "source": [
    "# Text to test the rules\n",
    "t = []\n",
    "t.append(u\" A, BA,  \")\n",
    "t.append(u\" C^J,        BAC,      C-C,         JW.B,    \")\n",
    "t.append(u\" BK^C,       ABRN,     NS-A,  \")\n",
    "t.append(u\" ADK^A,      ABEOW ,    ABC-A,      BAC.A,       HK.WS,  \") #5\n",
    "t.append(u\" MITT^A,                             HCAC.U,     BTX.WS,     ,       C.WS.A,\") #6\n",
    "t.append(u\"                                                 IMUC.WS,   \") #7\n",
    "t.append(u\"                                                                   BAC.WS.A \") #8\n",
    "t.append(u\" CHSP^A.CL \") #9\n",
    "\n",
    "\n",
    "t.append(u\" Alibaba Group Holding Ltd (NYSE:BABA) dealt another ,  (NASDAQ:AMZN) this week \")\n",
    "t.append(u\" $USCR, $TSLA \")\n",
    "t.append(u\" common    Stock (AAPL)  \")\n",
    "t.append(u\" Apple    Inc. (AAPL). \")\n",
    "t.append(u\" AMZA - Free Report,  \")\n",
    "t.append(u\"GOOGL 919.46 -10.22 -1.10%,AAPL 146.28 0.65 0.45% :\")\n",
    "\n",
    "\n",
    "t.append(u\"AAPL is looking to, |  for AAPQ was 8.31 For the fiscal y  | ,AAPW has efficiently invested ,| AAPE comes one wee,,AAPR may refer to:  |,AAPl closed at ab|including AAPT news, historical|The bank lowered its AAPY price target to $150, |Earnings estimates for AAPU from thousands of | View the basic AAPO stock chart \")\n",
    "\n",
    "t.append(u\"AAPA: Get the latest Apple, unveiled, \")\n",
    "\n",
    "\n",
    "\n",
    "# XNAS:AAPL price,  (APPLE price)\n",
    "#AAPD's stock sold off\n",
    "\n",
    "\n",
    "# Tobacco, Firearms and Explosives (ATF) Dallas \n",
    "#  Handgun (IN) Seller: T&\n",
    "# lt Pistol (ACP)Barrel Len\n",
    "# Precision (LRP) 12 LRPV V\n",
    "#  Connecticut Valley Arms (CVA) Cooey Crio C\n",
    "# Series XD(M) Series \n",
    "    \n",
    "    \n",
    "d = dict()\n",
    "d['text'] = \"\\n\".join(t)\n",
    "d['simple_tokens_original_case'] = c.extract_tokens_from_crf(c.extract_crftokens(d['text'], lowercase=False))\n",
    "\n",
    "print d\n",
    "\n",
    "config = dict()\n",
    "config['field_name'] = 'field02'\n"
   ]
  },
  {
   "cell_type": "code",
   "execution_count": 213,
   "metadata": {},
   "outputs": [
    {
     "name": "stdout",
     "output_type": "stream",
     "text": [
      "text:  A, BA,  \n",
      " C^J,        BAC,      C-C,         JW.B,    \n",
      " BK^C,       ABRN,     NS-A,  \n",
      " ADK^A,      ABEOW ,    ABC-A,      BAC.A,       HK.WS,  \n",
      " MITT^A,                             HCAC.U,     BTX.WS,     ,       C.WS.A,\n",
      "                                                 IMUC.WS,   \n",
      "                                                                   BAC.WS.A \n",
      " CHSP^A.CL \n",
      " Alibaba Group Holding Ltd (NYSE:BABA) dealt another ,  (NASDAQ:AMZN) this week \n",
      " $USCR, $TSLA \n",
      " common    Stock (AAPL)  \n",
      " Apple    Inc. (AAPL). \n",
      " AMZA - Free Report,  \n",
      "GOOGL 919.46 -10.22 -1.10%,AAPL 146.28 0.65 0.45% :\n",
      "AAPL is looking to, |  for AAPQ was 8.31 For the fiscal y  | ,AAPW has efficiently invested ,| AAPE comes one wee,,AAPR may refer to:  |,AAPl closed at ab|including AAPT news, historical|The bank lowered its AAPY price target to $150, |Earnings estimates for AAPU from thousands of | View the basic AAPO stock chart \n",
      "AAPA: Get the latest Apple, unveiled, \n"
     ]
    },
    {
     "data": {
      "text/plain": [
       "['C^J', 'BK^C', 'ADK^A', 'MITT^A', 'CHSP^A']"
      ]
     },
     "execution_count": 213,
     "metadata": {},
     "output_type": "execute_result"
    }
   ],
   "source": [
    "# C^J, BK^C, ADK^A, MITT^A,\n",
    "\n",
    "rule_01 = {\n",
    "      \"identifier\": \"#rule_01 C^J, BK^C, ADK^A, MITT^A,\",\n",
    "      \"description\": \"a description\",\n",
    "      \"is_active\": \"true\",\n",
    "      \"output_format\": \"{1}{2}{3}\",\n",
    "      \"pattern\": [\n",
    "            shape_token(shape =[\"X\",\"XX\",\"XXX\",\"XXXX\"],  is_in_output=\"true\"),\n",
    "            punctuation_token(token=[\"^\"],  is_in_output=\"true\"),\n",
    "            shape_token(shape =[\"X\"],  is_in_output=\"true\")\n",
    "      ]\n",
    "    }\n",
    "\n",
    "field_rules = {\n",
    "  \"rules\": [\n",
    "      rule_01\n",
    "  ]\n",
    "}\n",
    "\n",
    "print \"text:\", d['text']\n",
    "results = c.extract_using_custom_spacy(d, config, field_rules=field_rules)\n",
    "tele_lst = []\n",
    "for i in results:\n",
    "    tele_lst.append(''.join((i.values()[1]).split()))\n",
    "tele_lst"
   ]
  },
  {
   "cell_type": "code",
   "execution_count": 214,
   "metadata": {},
   "outputs": [
    {
     "name": "stdout",
     "output_type": "stream",
     "text": [
      "text:  A, BA,  \n",
      " C^J,        BAC,      C-C,         JW.B,    \n",
      " BK^C,       ABRN,     NS-A,  \n",
      " ADK^A,      ABEOW ,    ABC-A,      BAC.A,       HK.WS,  \n",
      " MITT^A,                             HCAC.U,     BTX.WS,     ,       C.WS.A,\n",
      "                                                 IMUC.WS,   \n",
      "                                                                   BAC.WS.A \n",
      " CHSP^A.CL \n",
      " Alibaba Group Holding Ltd (NYSE:BABA) dealt another ,  (NASDAQ:AMZN) this week \n",
      " $USCR, $TSLA \n",
      " common    Stock (AAPL)  \n",
      " Apple    Inc. (AAPL). \n",
      " AMZA - Free Report,  \n",
      "GOOGL 919.46 -10.22 -1.10%,AAPL 146.28 0.65 0.45% :\n",
      "AAPL is looking to, |  for AAPQ was 8.31 For the fiscal y  | ,AAPW has efficiently invested ,| AAPE comes one wee,,AAPR may refer to:  |,AAPl closed at ab|including AAPT news, historical|The bank lowered its AAPY price target to $150, |Earnings estimates for AAPU from thousands of | View the basic AAPO stock chart \n",
      "AAPA: Get the latest Apple, unveiled, \n"
     ]
    },
    {
     "data": {
      "text/plain": [
       "['CHSP^A.CL']"
      ]
     },
     "execution_count": 214,
     "metadata": {},
     "output_type": "execute_result"
    }
   ],
   "source": [
    "# CHSP^A.CL \n",
    "rule_02 = {\n",
    "      \"identifier\": \"#rule_02 CHSP^A.CL \",\n",
    "      \"description\": \"a description\",\n",
    "      \"is_active\": \"true\",\n",
    "      \"output_format\": \"{1}{2}{3}{4}{5}\",\n",
    "      \"pattern\": [\n",
    "            shape_token(shape =[\"X\",\"XX\",\"XXX\",\"XXXX\"],  is_in_output=\"true\"),\n",
    "            punctuation_token(token=[\"^\"],  is_in_output=\"true\"),\n",
    "            shape_token(shape =[\"X\"],  is_in_output=\"true\"),\n",
    "            punctuation_token(token=[\".\"],  is_in_output=\"true\"),\n",
    "            shape_token(shape =[\"XX\"],  is_in_output=\"true\"),\n",
    "      ]\n",
    "    }\n",
    "\n",
    "field_rules = {\n",
    "  \"rules\": [\n",
    "      rule_02\n",
    "  ]\n",
    "}\n",
    "\n",
    "print \"text:\", d['text']\n",
    "results = c.extract_using_custom_spacy(d, config, field_rules=field_rules)\n",
    "tele_lst = []\n",
    "for i in results:\n",
    "    tele_lst.append(''.join((i.values()[1]).split()))\n",
    "tele_lst"
   ]
  },
  {
   "cell_type": "code",
   "execution_count": 215,
   "metadata": {},
   "outputs": [
    {
     "name": "stdout",
     "output_type": "stream",
     "text": [
      "text:  A, BA,  \n",
      " C^J,        BAC,      C-C,         JW.B,    \n",
      " BK^C,       ABRN,     NS-A,  \n",
      " ADK^A,      ABEOW ,    ABC-A,      BAC.A,       HK.WS,  \n",
      " MITT^A,                             HCAC.U,     BTX.WS,     ,       C.WS.A,\n",
      "                                                 IMUC.WS,   \n",
      "                                                                   BAC.WS.A \n",
      " CHSP^A.CL \n",
      " Alibaba Group Holding Ltd (NYSE:BABA) dealt another ,  (NASDAQ:AMZN) this week \n",
      " $USCR, $TSLA \n",
      " common    Stock (AAPL)  \n",
      " Apple    Inc. (AAPL). \n",
      " AMZA - Free Report,  \n",
      "GOOGL 919.46 -10.22 -1.10%,AAPL 146.28 0.65 0.45% :\n",
      "AAPL is looking to, |  for AAPQ was 8.31 For the fiscal y  | ,AAPW has efficiently invested ,| AAPE comes one wee,,AAPR may refer to:  |,AAPl closed at ab|including AAPT news, historical|The bank lowered its AAPY price target to $150, |Earnings estimates for AAPU from thousands of | View the basic AAPO stock chart \n",
      "AAPA: Get the latest Apple, unveiled, \n"
     ]
    },
    {
     "data": {
      "text/plain": [
       "[]"
      ]
     },
     "execution_count": 215,
     "metadata": {},
     "output_type": "execute_result"
    }
   ],
   "source": [
    "# BAC, ABRN, ABEOW ,\n",
    "\n",
    "rule_03 = {\n",
    "      \"identifier\": \"#rule_03 BAC, ABRN, ABEOW ,\",\n",
    "      \"description\": \"a description\",\n",
    "      \"is_active\": \"false\",\n",
    "      \"output_format\": \"{1}\",\n",
    "      \"pattern\": [\n",
    "            shape_token(shape =[\"X\",\"XX\",\"XXX\",\"XXXX\",\"XXXXX\"],  is_in_output=\"true\")\n",
    "      ]\n",
    "    }\n",
    "\n",
    "field_rules = {\n",
    "  \"rules\": [\n",
    "      rule_03\n",
    "  ]\n",
    "}\n",
    "\n",
    "print \"text:\", d['text']\n",
    "results = c.extract_using_custom_spacy(d, config, field_rules=field_rules)\n",
    "tele_lst = []\n",
    "for i in results:\n",
    "    tele_lst.append(''.join((i.values()[1]).split()))\n",
    "tele_lst"
   ]
  },
  {
   "cell_type": "code",
   "execution_count": 216,
   "metadata": {},
   "outputs": [
    {
     "name": "stdout",
     "output_type": "stream",
     "text": [
      "text:  A, BA,  \n",
      " C^J,        BAC,      C-C,         JW.B,    \n",
      " BK^C,       ABRN,     NS-A,  \n",
      " ADK^A,      ABEOW ,    ABC-A,      BAC.A,       HK.WS,  \n",
      " MITT^A,                             HCAC.U,     BTX.WS,     ,       C.WS.A,\n",
      "                                                 IMUC.WS,   \n",
      "                                                                   BAC.WS.A \n",
      " CHSP^A.CL \n",
      " Alibaba Group Holding Ltd (NYSE:BABA) dealt another ,  (NASDAQ:AMZN) this week \n",
      " $USCR, $TSLA \n",
      " common    Stock (AAPL)  \n",
      " Apple    Inc. (AAPL). \n",
      " AMZA - Free Report,  \n",
      "GOOGL 919.46 -10.22 -1.10%,AAPL 146.28 0.65 0.45% :\n",
      "AAPL is looking to, |  for AAPQ was 8.31 For the fiscal y  | ,AAPW has efficiently invested ,| AAPE comes one wee,,AAPR may refer to:  |,AAPl closed at ab|including AAPT news, historical|The bank lowered its AAPY price target to $150, |Earnings estimates for AAPU from thousands of | View the basic AAPO stock chart \n",
      "AAPA: Get the latest Apple, unveiled, \n"
     ]
    },
    {
     "data": {
      "text/plain": [
       "['C-C', 'NS-A', 'ABC-A']"
      ]
     },
     "execution_count": 216,
     "metadata": {},
     "output_type": "execute_result"
    }
   ],
   "source": [
    "# C-C, NS-A, ABC-A,\n",
    "rule_04 = {\n",
    "      \"identifier\": \"#rule_04 C-C, NS-A, ABC-A,\",\n",
    "      \"description\": \"a description\",\n",
    "      \"is_active\": \"true\",\n",
    "      \"output_format\": \"{1}{2}{3}\",\n",
    "      \"pattern\": [\n",
    "            shape_token(shape =[\"X\",\"XX\",\"XXX\"],  is_in_output=\"true\"),\n",
    "            punctuation_token(token=[\"-\"],  is_in_output=\"true\"),\n",
    "            shape_token(shape =[\"X\"],  is_in_output=\"true\")\n",
    "      ]\n",
    "    }\n",
    "\n",
    "field_rules = {\n",
    "  \"rules\": [\n",
    "      rule_04\n",
    "  ]\n",
    "}\n",
    "\n",
    "print \"text:\", d['text']\n",
    "results = c.extract_using_custom_spacy(d, config, field_rules=field_rules)\n",
    "tele_lst = []\n",
    "for i in results:\n",
    "    tele_lst.append(''.join((i.values()[1]).split()))\n",
    "tele_lst"
   ]
  },
  {
   "cell_type": "code",
   "execution_count": 217,
   "metadata": {},
   "outputs": [
    {
     "name": "stdout",
     "output_type": "stream",
     "text": [
      "text:  A, BA,  \n",
      " C^J,        BAC,      C-C,         JW.B,    \n",
      " BK^C,       ABRN,     NS-A,  \n",
      " ADK^A,      ABEOW ,    ABC-A,      BAC.A,       HK.WS,  \n",
      " MITT^A,                             HCAC.U,     BTX.WS,     ,       C.WS.A,\n",
      "                                                 IMUC.WS,   \n",
      "                                                                   BAC.WS.A \n",
      " CHSP^A.CL \n",
      " Alibaba Group Holding Ltd (NYSE:BABA) dealt another ,  (NASDAQ:AMZN) this week \n",
      " $USCR, $TSLA \n",
      " common    Stock (AAPL)  \n",
      " Apple    Inc. (AAPL). \n",
      " AMZA - Free Report,  \n",
      "GOOGL 919.46 -10.22 -1.10%,AAPL 146.28 0.65 0.45% :\n",
      "AAPL is looking to, |  for AAPQ was 8.31 For the fiscal y  | ,AAPW has efficiently invested ,| AAPE comes one wee,,AAPR may refer to:  |,AAPl closed at ab|including AAPT news, historical|The bank lowered its AAPY price target to $150, |Earnings estimates for AAPU from thousands of | View the basic AAPO stock chart \n",
      "AAPA: Get the latest Apple, unveiled, \n"
     ]
    },
    {
     "data": {
      "text/plain": [
       "['JW.B', 'BAC.A', 'HCAC.U', 'WS.A', 'WS.A']"
      ]
     },
     "execution_count": 217,
     "metadata": {},
     "output_type": "execute_result"
    }
   ],
   "source": [
    "# JW.B, BAC.A, HCAC.U,\n",
    "\n",
    "rule_05 = {\n",
    "      \"identifier\": \"#rule_05 JW.B, BAC.A, HCAC.U,\",\n",
    "      \"description\": \"a description\",\n",
    "      \"is_active\": \"true\",\n",
    "      \"output_format\": \"{1}{2}{3}\",\n",
    "      \"pattern\": [\n",
    "            shape_token(shape =[\"XX\",\"XXX\",\"XXXX\"],  is_in_output=\"true\"),\n",
    "            punctuation_token(token=[\".\"],  is_in_output=\"true\"),\n",
    "            shape_token(shape =[\"X\"],  is_in_output=\"true\")\n",
    "      ]\n",
    "    }\n",
    "\n",
    "field_rules = {\n",
    "  \"rules\": [\n",
    "      rule_05\n",
    "  ]\n",
    "}\n",
    "\n",
    "print \"text:\", d['text']\n",
    "results = c.extract_using_custom_spacy(d, config, field_rules=field_rules)\n",
    "tele_lst = []\n",
    "for i in results:\n",
    "    tele_lst.append(''.join((i.values()[1]).split()))\n",
    "tele_lst"
   ]
  },
  {
   "cell_type": "code",
   "execution_count": 218,
   "metadata": {},
   "outputs": [
    {
     "name": "stdout",
     "output_type": "stream",
     "text": [
      "text:  A, BA,  \n",
      " C^J,        BAC,      C-C,         JW.B,    \n",
      " BK^C,       ABRN,     NS-A,  \n",
      " ADK^A,      ABEOW ,    ABC-A,      BAC.A,       HK.WS,  \n",
      " MITT^A,                             HCAC.U,     BTX.WS,     ,       C.WS.A,\n",
      "                                                 IMUC.WS,   \n",
      "                                                                   BAC.WS.A \n",
      " CHSP^A.CL \n",
      " Alibaba Group Holding Ltd (NYSE:BABA) dealt another ,  (NASDAQ:AMZN) this week \n",
      " $USCR, $TSLA \n",
      " common    Stock (AAPL)  \n",
      " Apple    Inc. (AAPL). \n",
      " AMZA - Free Report,  \n",
      "GOOGL 919.46 -10.22 -1.10%,AAPL 146.28 0.65 0.45% :\n",
      "AAPL is looking to, |  for AAPQ was 8.31 For the fiscal y  | ,AAPW has efficiently invested ,| AAPE comes one wee,,AAPR may refer to:  |,AAPl closed at ab|including AAPT news, historical|The bank lowered its AAPY price target to $150, |Earnings estimates for AAPU from thousands of | View the basic AAPO stock chart \n",
      "AAPA: Get the latest Apple, unveiled, \n"
     ]
    },
    {
     "data": {
      "text/plain": [
       "['HK.WS', 'BTX.WS', 'IMUC.WS', 'BAC.WS']"
      ]
     },
     "execution_count": 218,
     "metadata": {},
     "output_type": "execute_result"
    }
   ],
   "source": [
    "# HK.WS, BTX.WS,  IMUC.WS, \n",
    "\n",
    "rule_06 = {\n",
    "      \"identifier\": \"#rule_06 HK.WS, BTX.WS,  IMUC.WS, \",\n",
    "      \"description\": \"a description\",\n",
    "      \"is_active\": \"true\",\n",
    "      \"output_format\": \"{1}{2}{3}\",\n",
    "      \"pattern\": [\n",
    "            shape_token(shape =[\"XX\",\"XXX\",\"XXXX\"],  is_in_output=\"true\"),\n",
    "            punctuation_token(token=[\".\"],  is_in_output=\"true\"),\n",
    "            shape_token(shape =[\"XX\"],  is_in_output=\"true\")\n",
    "      ]\n",
    "    }\n",
    "\n",
    "field_rules = {\n",
    "  \"rules\": [\n",
    "      rule_06\n",
    "  ]\n",
    "}\n",
    "\n",
    "print \"text:\", d['text']\n",
    "results = c.extract_using_custom_spacy(d, config, field_rules=field_rules)\n",
    "tele_lst = []\n",
    "for i in results:\n",
    "    tele_lst.append(''.join((i.values()[1]).split()))\n",
    "tele_lst"
   ]
  },
  {
   "cell_type": "code",
   "execution_count": 219,
   "metadata": {},
   "outputs": [
    {
     "name": "stdout",
     "output_type": "stream",
     "text": [
      "text:  A, BA,  \n",
      " C^J,        BAC,      C-C,         JW.B,    \n",
      " BK^C,       ABRN,     NS-A,  \n",
      " ADK^A,      ABEOW ,    ABC-A,      BAC.A,       HK.WS,  \n",
      " MITT^A,                             HCAC.U,     BTX.WS,     ,       C.WS.A,\n",
      "                                                 IMUC.WS,   \n",
      "                                                                   BAC.WS.A \n",
      " CHSP^A.CL \n",
      " Alibaba Group Holding Ltd (NYSE:BABA) dealt another ,  (NASDAQ:AMZN) this week \n",
      " $USCR, $TSLA \n",
      " common    Stock (AAPL)  \n",
      " Apple    Inc. (AAPL). \n",
      " AMZA - Free Report,  \n",
      "GOOGL 919.46 -10.22 -1.10%,AAPL 146.28 0.65 0.45% :\n",
      "AAPL is looking to, |  for AAPQ was 8.31 For the fiscal y  | ,AAPW has efficiently invested ,| AAPE comes one wee,,AAPR may refer to:  |,AAPl closed at ab|including AAPT news, historical|The bank lowered its AAPY price target to $150, |Earnings estimates for AAPU from thousands of | View the basic AAPO stock chart \n",
      "AAPA: Get the latest Apple, unveiled, \n"
     ]
    },
    {
     "data": {
      "text/plain": [
       "['C.WS.A', 'BAC.WS.A']"
      ]
     },
     "execution_count": 219,
     "metadata": {},
     "output_type": "execute_result"
    }
   ],
   "source": [
    "# C.WS.A,  BAC.WS.A\n",
    "\n",
    "rule_07 = {\n",
    "      \"identifier\": \"#rule_07 C.WS.A,  BAC.WS.A\",\n",
    "      \"description\": \"a description\",\n",
    "      \"is_active\": \"true\",\n",
    "      \"output_format\": \"{1}{2}{3}{4}{5}\",\n",
    "      \"pattern\": [\n",
    "            shape_token(shape =[\"X\",\"XXX\"],  is_in_output=\"true\"),\n",
    "            punctuation_token(token=[\".\"],  is_in_output=\"true\"),\n",
    "            shape_token(shape =[\"XX\"],  is_in_output=\"true\"),\n",
    "            punctuation_token(token=[\".\"],  is_in_output=\"true\"),\n",
    "            shape_token(shape =[\"X\"],  is_in_output=\"true\")\n",
    "\n",
    "      ]\n",
    "    }\n",
    "\n",
    "field_rules = {\n",
    "  \"rules\": [\n",
    "      rule_07\n",
    "  ]\n",
    "}\n",
    "\n",
    "print \"text:\", d['text']\n",
    "results = c.extract_using_custom_spacy(d, config, field_rules=field_rules)\n",
    "tele_lst = []\n",
    "for i in results:\n",
    "    tele_lst.append(''.join((i.values()[1]).split()))\n",
    "tele_lst"
   ]
  },
  {
   "cell_type": "code",
   "execution_count": 220,
   "metadata": {},
   "outputs": [
    {
     "name": "stdout",
     "output_type": "stream",
     "text": [
      "text:  A, BA,  \n",
      " C^J,        BAC,      C-C,         JW.B,    \n",
      " BK^C,       ABRN,     NS-A,  \n",
      " ADK^A,      ABEOW ,    ABC-A,      BAC.A,       HK.WS,  \n",
      " MITT^A,                             HCAC.U,     BTX.WS,     ,       C.WS.A,\n",
      "                                                 IMUC.WS,   \n",
      "                                                                   BAC.WS.A \n",
      " CHSP^A.CL \n",
      " Alibaba Group Holding Ltd (NYSE:BABA) dealt another ,  (NASDAQ:AMZN) this week \n",
      " $USCR, $TSLA \n",
      " common    Stock (AAPL)  \n",
      " Apple    Inc. (AAPL). \n",
      " AMZA - Free Report,  \n",
      "GOOGL 919.46 -10.22 -1.10%,AAPL 146.28 0.65 0.45% :\n",
      "AAPL is looking to, |  for AAPQ was 8.31 For the fiscal y  | ,AAPW has efficiently invested ,| AAPE comes one wee,,AAPR may refer to:  |,AAPl closed at ab|including AAPT news, historical|The bank lowered its AAPY price target to $150, |Earnings estimates for AAPU from thousands of | View the basic AAPO stock chart \n",
      "AAPA: Get the latest Apple, unveiled, \n"
     ]
    },
    {
     "data": {
      "text/plain": [
       "[]"
      ]
     },
     "execution_count": 220,
     "metadata": {},
     "output_type": "execute_result"
    }
   ],
   "source": [
    "# C^J, BK^C, ADK^A, MITT^A,   (NYSE:BABA) dealt another ,  (NASDAQ:AMZN) this \n",
    "\n",
    "rule_08 = {\n",
    "      \"identifier\": \"#rule_08 C^J, BK^C, ADK^A, MITT^A,   (NYSE:BABA) dealt another ,  (NASDAQ:AMZN) this \",\n",
    "      \"description\": \"a description\",\n",
    "      \"is_active\": \"true\",\n",
    "      \"output_format\": \"{1}{2}{3}\",\n",
    "      \"pattern\": [\n",
    "            word_token(token=[\"NYSE\",\"NASDAQ\"],is_in_output=\"false\"),\n",
    "            punctuation_token(token=[\":\"],  is_in_output=\"false\"),\n",
    "\n",
    "            shape_token(shape =[\"X\",\"XX\",\"XXX\",\"XXXX\"],  is_in_output=\"true\"),\n",
    "            punctuation_token(token=[\"^\"],  is_in_output=\"true\"),\n",
    "            shape_token(shape =[\"X\"],  is_in_output=\"true\")\n",
    "      ]\n",
    "    }\n",
    "\n",
    "field_rules = {\n",
    "  \"rules\": [\n",
    "      rule_08\n",
    "  ]\n",
    "}\n",
    "\n",
    "print \"text:\", d['text']\n",
    "results = c.extract_using_custom_spacy(d, config, field_rules=field_rules)\n",
    "tele_lst = []\n",
    "for i in results:\n",
    "    tele_lst.append(''.join((i.values()[1]).split()))\n",
    "tele_lst"
   ]
  },
  {
   "cell_type": "code",
   "execution_count": 221,
   "metadata": {},
   "outputs": [
    {
     "name": "stdout",
     "output_type": "stream",
     "text": [
      "text:  A, BA,  \n",
      " C^J,        BAC,      C-C,         JW.B,    \n",
      " BK^C,       ABRN,     NS-A,  \n",
      " ADK^A,      ABEOW ,    ABC-A,      BAC.A,       HK.WS,  \n",
      " MITT^A,                             HCAC.U,     BTX.WS,     ,       C.WS.A,\n",
      "                                                 IMUC.WS,   \n",
      "                                                                   BAC.WS.A \n",
      " CHSP^A.CL \n",
      " Alibaba Group Holding Ltd (NYSE:BABA) dealt another ,  (NASDAQ:AMZN) this week \n",
      " $USCR, $TSLA \n",
      " common    Stock (AAPL)  \n",
      " Apple    Inc. (AAPL). \n",
      " AMZA - Free Report,  \n",
      "GOOGL 919.46 -10.22 -1.10%,AAPL 146.28 0.65 0.45% :\n",
      "AAPL is looking to, |  for AAPQ was 8.31 For the fiscal y  | ,AAPW has efficiently invested ,| AAPE comes one wee,,AAPR may refer to:  |,AAPl closed at ab|including AAPT news, historical|The bank lowered its AAPY price target to $150, |Earnings estimates for AAPU from thousands of | View the basic AAPO stock chart \n",
      "AAPA: Get the latest Apple, unveiled, \n"
     ]
    },
    {
     "data": {
      "text/plain": [
       "[]"
      ]
     },
     "execution_count": 221,
     "metadata": {},
     "output_type": "execute_result"
    }
   ],
   "source": [
    "# CHSP^A.CL \n",
    "rule_09 = {\n",
    "      \"identifier\": \"#rule_09 CHSP^A.CL , (NYSE:BABA) dealt another ,  (NASDAQ:AMZN) \",\n",
    "      \"description\": \"a description\",\n",
    "      \"is_active\": \"true\",\n",
    "      \"output_format\": \"{1}{2}{3}{4}{5}\",\n",
    "      \"pattern\": [\n",
    "            word_token(token=[\"NYSE\",\"NASDAQ\"],is_in_output=\"false\"),\n",
    "            punctuation_token(token=[\":\"],  is_in_output=\"false\"),\n",
    "\n",
    "            shape_token(shape =[\"X\",\"XX\",\"XXX\",\"XXXX\"],  is_in_output=\"true\"),\n",
    "            punctuation_token(token=[\"^\"],  is_in_output=\"true\"),\n",
    "            shape_token(shape =[\"X\"],  is_in_output=\"true\"),\n",
    "            punctuation_token(token=[\".\"],  is_in_output=\"true\"),\n",
    "            shape_token(shape =[\"XX\"],  is_in_output=\"true\"),\n",
    "      ]\n",
    "    }\n",
    "\n",
    "field_rules = {\n",
    "  \"rules\": [\n",
    "      rule_09\n",
    "  ]\n",
    "}\n",
    "\n",
    "print \"text:\", d['text']\n",
    "results = c.extract_using_custom_spacy(d, config, field_rules=field_rules)\n",
    "tele_lst = []\n",
    "for i in results:\n",
    "    tele_lst.append(''.join((i.values()[1]).split()))\n",
    "tele_lst"
   ]
  },
  {
   "cell_type": "code",
   "execution_count": 222,
   "metadata": {},
   "outputs": [
    {
     "name": "stdout",
     "output_type": "stream",
     "text": [
      "text:  A, BA,  \n",
      " C^J,        BAC,      C-C,         JW.B,    \n",
      " BK^C,       ABRN,     NS-A,  \n",
      " ADK^A,      ABEOW ,    ABC-A,      BAC.A,       HK.WS,  \n",
      " MITT^A,                             HCAC.U,     BTX.WS,     ,       C.WS.A,\n",
      "                                                 IMUC.WS,   \n",
      "                                                                   BAC.WS.A \n",
      " CHSP^A.CL \n",
      " Alibaba Group Holding Ltd (NYSE:BABA) dealt another ,  (NASDAQ:AMZN) this week \n",
      " $USCR, $TSLA \n",
      " common    Stock (AAPL)  \n",
      " Apple    Inc. (AAPL). \n",
      " AMZA - Free Report,  \n",
      "GOOGL 919.46 -10.22 -1.10%,AAPL 146.28 0.65 0.45% :\n",
      "AAPL is looking to, |  for AAPQ was 8.31 For the fiscal y  | ,AAPW has efficiently invested ,| AAPE comes one wee,,AAPR may refer to:  |,AAPl closed at ab|including AAPT news, historical|The bank lowered its AAPY price target to $150, |Earnings estimates for AAPU from thousands of | View the basic AAPO stock chart \n",
      "AAPA: Get the latest Apple, unveiled, \n"
     ]
    },
    {
     "data": {
      "text/plain": [
       "['BABA', 'AMZN']"
      ]
     },
     "execution_count": 222,
     "metadata": {},
     "output_type": "execute_result"
    }
   ],
   "source": [
    "# BAC, ABRN, ABEOW ,\n",
    "\n",
    "rule_10 = {\n",
    "      \"identifier\": \"#rule_10 BAC, ABRN, ABEOW ,(NYSE:BABA) dealt another ,  (NASDAQ:AMZN)\",\n",
    "      \"description\": \"a description\",\n",
    "      \"is_active\": \"true\",\n",
    "      \"output_format\": \"{1}\",\n",
    "      \"pattern\": [\n",
    "            word_token(token=[\"NYSE\",\"NASDAQ\"],is_in_output=\"false\"),\n",
    "            punctuation_token(token=[\":\"],  is_in_output=\"false\"),\n",
    "\n",
    "            shape_token(shape =[\"X\",\"XX\",\"XXX\",\"XXXX\",\"XXXXX\"],  is_in_output=\"true\")\n",
    "      ]\n",
    "    }\n",
    "\n",
    "field_rules = {\n",
    "  \"rules\": [\n",
    "      rule_10\n",
    "  ]\n",
    "}\n",
    "\n",
    "print \"text:\", d['text']\n",
    "results = c.extract_using_custom_spacy(d, config, field_rules=field_rules)\n",
    "tele_lst = []\n",
    "for i in results:\n",
    "    tele_lst.append(''.join((i.values()[1]).split()))\n",
    "tele_lst"
   ]
  },
  {
   "cell_type": "code",
   "execution_count": 223,
   "metadata": {
    "scrolled": true
   },
   "outputs": [
    {
     "name": "stdout",
     "output_type": "stream",
     "text": [
      "text:  A, BA,  \n",
      " C^J,        BAC,      C-C,         JW.B,    \n",
      " BK^C,       ABRN,     NS-A,  \n",
      " ADK^A,      ABEOW ,    ABC-A,      BAC.A,       HK.WS,  \n",
      " MITT^A,                             HCAC.U,     BTX.WS,     ,       C.WS.A,\n",
      "                                                 IMUC.WS,   \n",
      "                                                                   BAC.WS.A \n",
      " CHSP^A.CL \n",
      " Alibaba Group Holding Ltd (NYSE:BABA) dealt another ,  (NASDAQ:AMZN) this week \n",
      " $USCR, $TSLA \n",
      " common    Stock (AAPL)  \n",
      " Apple    Inc. (AAPL). \n",
      " AMZA - Free Report,  \n",
      "GOOGL 919.46 -10.22 -1.10%,AAPL 146.28 0.65 0.45% :\n",
      "AAPL is looking to, |  for AAPQ was 8.31 For the fiscal y  | ,AAPW has efficiently invested ,| AAPE comes one wee,,AAPR may refer to:  |,AAPl closed at ab|including AAPT news, historical|The bank lowered its AAPY price target to $150, |Earnings estimates for AAPU from thousands of | View the basic AAPO stock chart \n",
      "AAPA: Get the latest Apple, unveiled, \n"
     ]
    },
    {
     "data": {
      "text/plain": [
       "[]"
      ]
     },
     "execution_count": 223,
     "metadata": {},
     "output_type": "execute_result"
    }
   ],
   "source": [
    "# C-C, NS-A, ABC-A,\n",
    "rule_11 = {\n",
    "      \"identifier\": \"#rule_11 C-C, NS-A, ABC-A, (NYSE:BABA) dealt another ,  (NASDAQ:AMZN)\",\n",
    "      \"description\": \"a description\",\n",
    "      \"is_active\": \"true\",\n",
    "      \"output_format\": \"{1}{2}{3}\",\n",
    "      \"pattern\": [\n",
    "            word_token(token=[\"NYSE\",\"NASDAQ\"],is_in_output=\"false\"),\n",
    "            punctuation_token(token=[\":\"],  is_in_output=\"false\"),\n",
    "\n",
    "            shape_token(shape =[\"X\",\"XX\",\"XXX\"],  is_in_output=\"true\"),\n",
    "            punctuation_token(token=[\"-\"],  is_in_output=\"true\"),\n",
    "            shape_token(shape =[\"X\"],  is_in_output=\"true\")\n",
    "      ]\n",
    "    }\n",
    "\n",
    "field_rules = {\n",
    "  \"rules\": [\n",
    "      rule_11\n",
    "  ]\n",
    "}\n",
    "\n",
    "print \"text:\", d['text']\n",
    "results = c.extract_using_custom_spacy(d, config, field_rules=field_rules)\n",
    "tele_lst = []\n",
    "for i in results:\n",
    "    tele_lst.append(''.join((i.values()[1]).split()))\n",
    "tele_lst"
   ]
  },
  {
   "cell_type": "code",
   "execution_count": 224,
   "metadata": {},
   "outputs": [
    {
     "name": "stdout",
     "output_type": "stream",
     "text": [
      "text:  A, BA,  \n",
      " C^J,        BAC,      C-C,         JW.B,    \n",
      " BK^C,       ABRN,     NS-A,  \n",
      " ADK^A,      ABEOW ,    ABC-A,      BAC.A,       HK.WS,  \n",
      " MITT^A,                             HCAC.U,     BTX.WS,     ,       C.WS.A,\n",
      "                                                 IMUC.WS,   \n",
      "                                                                   BAC.WS.A \n",
      " CHSP^A.CL \n",
      " Alibaba Group Holding Ltd (NYSE:BABA) dealt another ,  (NASDAQ:AMZN) this week \n",
      " $USCR, $TSLA \n",
      " common    Stock (AAPL)  \n",
      " Apple    Inc. (AAPL). \n",
      " AMZA - Free Report,  \n",
      "GOOGL 919.46 -10.22 -1.10%,AAPL 146.28 0.65 0.45% :\n",
      "AAPL is looking to, |  for AAPQ was 8.31 For the fiscal y  | ,AAPW has efficiently invested ,| AAPE comes one wee,,AAPR may refer to:  |,AAPl closed at ab|including AAPT news, historical|The bank lowered its AAPY price target to $150, |Earnings estimates for AAPU from thousands of | View the basic AAPO stock chart \n",
      "AAPA: Get the latest Apple, unveiled, \n"
     ]
    },
    {
     "data": {
      "text/plain": [
       "[]"
      ]
     },
     "execution_count": 224,
     "metadata": {},
     "output_type": "execute_result"
    }
   ],
   "source": [
    "# JW.B, BAC.A, HCAC.U,\n",
    "\n",
    "rule_12 = {\n",
    "      \"identifier\": \"#rule_12 JW.B, BAC.A, HCAC.U,(NYSE:BABA) dealt another ,  (NASDAQ:AMZN)\",\n",
    "      \"description\": \"a description\",\n",
    "      \"is_active\": \"true\",\n",
    "      \"output_format\": \"{1}{2}{3}\",\n",
    "      \"pattern\": [\n",
    "            word_token(token=[\"NYSE\",\"NASDAQ\"],is_in_output=\"false\"),\n",
    "            punctuation_token(token=[\":\"],  is_in_output=\"false\"),\n",
    "\n",
    "            shape_token(shape =[\"XX\",\"XXX\",\"XXXX\"],  is_in_output=\"true\"),\n",
    "            punctuation_token(token=[\".\"],  is_in_output=\"true\"),\n",
    "            shape_token(shape =[\"X\"],  is_in_output=\"true\")\n",
    "      ]\n",
    "    }\n",
    "\n",
    "field_rules = {\n",
    "  \"rules\": [\n",
    "      rule_12\n",
    "  ]\n",
    "}\n",
    "\n",
    "print \"text:\", d['text']\n",
    "results = c.extract_using_custom_spacy(d, config, field_rules=field_rules)\n",
    "tele_lst = []\n",
    "for i in results:\n",
    "    tele_lst.append(''.join((i.values()[1]).split()))\n",
    "tele_lst"
   ]
  },
  {
   "cell_type": "code",
   "execution_count": 225,
   "metadata": {},
   "outputs": [
    {
     "name": "stdout",
     "output_type": "stream",
     "text": [
      "text:  A, BA,  \n",
      " C^J,        BAC,      C-C,         JW.B,    \n",
      " BK^C,       ABRN,     NS-A,  \n",
      " ADK^A,      ABEOW ,    ABC-A,      BAC.A,       HK.WS,  \n",
      " MITT^A,                             HCAC.U,     BTX.WS,     ,       C.WS.A,\n",
      "                                                 IMUC.WS,   \n",
      "                                                                   BAC.WS.A \n",
      " CHSP^A.CL \n",
      " Alibaba Group Holding Ltd (NYSE:BABA) dealt another ,  (NASDAQ:AMZN) this week \n",
      " $USCR, $TSLA \n",
      " common    Stock (AAPL)  \n",
      " Apple    Inc. (AAPL). \n",
      " AMZA - Free Report,  \n",
      "GOOGL 919.46 -10.22 -1.10%,AAPL 146.28 0.65 0.45% :\n",
      "AAPL is looking to, |  for AAPQ was 8.31 For the fiscal y  | ,AAPW has efficiently invested ,| AAPE comes one wee,,AAPR may refer to:  |,AAPl closed at ab|including AAPT news, historical|The bank lowered its AAPY price target to $150, |Earnings estimates for AAPU from thousands of | View the basic AAPO stock chart \n",
      "AAPA: Get the latest Apple, unveiled, \n"
     ]
    },
    {
     "data": {
      "text/plain": [
       "[]"
      ]
     },
     "execution_count": 225,
     "metadata": {},
     "output_type": "execute_result"
    }
   ],
   "source": [
    "# HK.WS, BTX.WS,  IMUC.WS, \n",
    "\n",
    "rule_13 = {\n",
    "      \"identifier\": \"#rule_13 HK.WS, BTX.WS,  IMUC.WS, (NYSE:BABA) dealt another ,  (NASDAQ:AMZN)\",\n",
    "      \"description\": \"a description\",\n",
    "      \"is_active\": \"true\",\n",
    "      \"output_format\": \"{1}{2}{3}\",\n",
    "      \"pattern\": [\n",
    "            word_token(token=[\"NYSE\",\"NASDAQ\"],is_in_output=\"false\"),\n",
    "            punctuation_token(token=[\":\"],  is_in_output=\"false\"),\n",
    "\n",
    "            shape_token(shape =[\"XX\",\"XXX\",\"XXXX\"],  is_in_output=\"true\"),\n",
    "            punctuation_token(token=[\".\"],  is_in_output=\"true\"),\n",
    "            shape_token(shape =[\"XX\"],  is_in_output=\"true\")\n",
    "      ]\n",
    "    }\n",
    "\n",
    "field_rules = {\n",
    "  \"rules\": [\n",
    "      rule_13\n",
    "  ]\n",
    "}\n",
    "\n",
    "print \"text:\", d['text']\n",
    "results = c.extract_using_custom_spacy(d, config, field_rules=field_rules)\n",
    "tele_lst = []\n",
    "for i in results:\n",
    "    tele_lst.append(''.join((i.values()[1]).split()))\n",
    "tele_lst"
   ]
  },
  {
   "cell_type": "code",
   "execution_count": 226,
   "metadata": {},
   "outputs": [
    {
     "name": "stdout",
     "output_type": "stream",
     "text": [
      "text:  A, BA,  \n",
      " C^J,        BAC,      C-C,         JW.B,    \n",
      " BK^C,       ABRN,     NS-A,  \n",
      " ADK^A,      ABEOW ,    ABC-A,      BAC.A,       HK.WS,  \n",
      " MITT^A,                             HCAC.U,     BTX.WS,     ,       C.WS.A,\n",
      "                                                 IMUC.WS,   \n",
      "                                                                   BAC.WS.A \n",
      " CHSP^A.CL \n",
      " Alibaba Group Holding Ltd (NYSE:BABA) dealt another ,  (NASDAQ:AMZN) this week \n",
      " $USCR, $TSLA \n",
      " common    Stock (AAPL)  \n",
      " Apple    Inc. (AAPL). \n",
      " AMZA - Free Report,  \n",
      "GOOGL 919.46 -10.22 -1.10%,AAPL 146.28 0.65 0.45% :\n",
      "AAPL is looking to, |  for AAPQ was 8.31 For the fiscal y  | ,AAPW has efficiently invested ,| AAPE comes one wee,,AAPR may refer to:  |,AAPl closed at ab|including AAPT news, historical|The bank lowered its AAPY price target to $150, |Earnings estimates for AAPU from thousands of | View the basic AAPO stock chart \n",
      "AAPA: Get the latest Apple, unveiled, \n"
     ]
    },
    {
     "data": {
      "text/plain": [
       "[]"
      ]
     },
     "execution_count": 226,
     "metadata": {},
     "output_type": "execute_result"
    }
   ],
   "source": [
    "# C.WS.A,  BAC.WS.A\n",
    "\n",
    "rule_14 = {\n",
    "      \"identifier\": \"#rule_14 C.WS.A,  BAC.WS.A(NYSE:BABA) dealt another ,  (NASDAQ:AMZN)\",\n",
    "      \"description\": \"a description\",\n",
    "      \"is_active\": \"true\",\n",
    "      \"output_format\": \"{1}{2}{3}{4}{5}\",\n",
    "      \"pattern\": [\n",
    "            word_token(token=[\"NYSE\",\"NASDAQ\"],is_in_output=\"false\"),\n",
    "            punctuation_token(token=[\":\"],  is_in_output=\"false\"),\n",
    "\n",
    "            shape_token(shape =[\"X\",\"XXX\"],  is_in_output=\"true\"),\n",
    "            punctuation_token(token=[\".\"],  is_in_output=\"true\"),\n",
    "            shape_token(shape =[\"XX\"],  is_in_output=\"true\"),\n",
    "            punctuation_token(token=[\".\"],  is_in_output=\"true\"),\n",
    "            shape_token(shape =[\"X\"],  is_in_output=\"true\")\n",
    "\n",
    "      ]\n",
    "    }\n",
    "\n",
    "field_rules = {\n",
    "  \"rules\": [\n",
    "      rule_14\n",
    "  ]\n",
    "}\n",
    "\n",
    "print \"text:\", d['text']\n",
    "results = c.extract_using_custom_spacy(d, config, field_rules=field_rules)\n",
    "tele_lst = []\n",
    "for i in results:\n",
    "    tele_lst.append(''.join((i.values()[1]).split()))\n",
    "tele_lst"
   ]
  },
  {
   "cell_type": "code",
   "execution_count": 227,
   "metadata": {},
   "outputs": [
    {
     "name": "stdout",
     "output_type": "stream",
     "text": [
      "text:  A, BA,  \n",
      " C^J,        BAC,      C-C,         JW.B,    \n",
      " BK^C,       ABRN,     NS-A,  \n",
      " ADK^A,      ABEOW ,    ABC-A,      BAC.A,       HK.WS,  \n",
      " MITT^A,                             HCAC.U,     BTX.WS,     ,       C.WS.A,\n",
      "                                                 IMUC.WS,   \n",
      "                                                                   BAC.WS.A \n",
      " CHSP^A.CL \n",
      " Alibaba Group Holding Ltd (NYSE:BABA) dealt another ,  (NASDAQ:AMZN) this week \n",
      " $USCR, $TSLA \n",
      " common    Stock (AAPL)  \n",
      " Apple    Inc. (AAPL). \n",
      " AMZA - Free Report,  \n",
      "GOOGL 919.46 -10.22 -1.10%,AAPL 146.28 0.65 0.45% :\n",
      "AAPL is looking to, |  for AAPQ was 8.31 For the fiscal y  | ,AAPW has efficiently invested ,| AAPE comes one wee,,AAPR may refer to:  |,AAPl closed at ab|including AAPT news, historical|The bank lowered its AAPY price target to $150, |Earnings estimates for AAPU from thousands of | View the basic AAPO stock chart \n",
      "AAPA: Get the latest Apple, unveiled, \n"
     ]
    },
    {
     "data": {
      "text/plain": [
       "[]"
      ]
     },
     "execution_count": 227,
     "metadata": {},
     "output_type": "execute_result"
    }
   ],
   "source": [
    "# C^J, BK^C, ADK^A, MITT^A,   $USCR, $TSLA\n",
    "\n",
    "rule_15 = {\n",
    "      \"identifier\": \"#rule_15 C^J, BK^C, ADK^A, MITT^A,   $USCR, $TSLA\",\n",
    "      \"description\": \"a description\",\n",
    "      \"is_active\": \"true\",\n",
    "      \"output_format\": \"{1}{2}{3}\",\n",
    "      \"pattern\": [\n",
    "            punctuation_token(token=[\"$\"],  is_in_output=\"false\"),\n",
    "\n",
    "            shape_token(shape =[\"X\",\"XX\",\"XXX\",\"XXXX\"],  is_in_output=\"true\"),\n",
    "            punctuation_token(token=[\"^\"],  is_in_output=\"true\"),\n",
    "            shape_token(shape =[\"X\"],  is_in_output=\"true\")\n",
    "      ]\n",
    "    }\n",
    "\n",
    "field_rules = {\n",
    "  \"rules\": [\n",
    "      rule_15\n",
    "  ]\n",
    "}\n",
    "\n",
    "print \"text:\", d['text']\n",
    "results = c.extract_using_custom_spacy(d, config, field_rules=field_rules)\n",
    "tele_lst = []\n",
    "for i in results:\n",
    "    tele_lst.append(''.join((i.values()[1]).split()))\n",
    "tele_lst"
   ]
  },
  {
   "cell_type": "code",
   "execution_count": 228,
   "metadata": {},
   "outputs": [
    {
     "name": "stdout",
     "output_type": "stream",
     "text": [
      "text:  A, BA,  \n",
      " C^J,        BAC,      C-C,         JW.B,    \n",
      " BK^C,       ABRN,     NS-A,  \n",
      " ADK^A,      ABEOW ,    ABC-A,      BAC.A,       HK.WS,  \n",
      " MITT^A,                             HCAC.U,     BTX.WS,     ,       C.WS.A,\n",
      "                                                 IMUC.WS,   \n",
      "                                                                   BAC.WS.A \n",
      " CHSP^A.CL \n",
      " Alibaba Group Holding Ltd (NYSE:BABA) dealt another ,  (NASDAQ:AMZN) this week \n",
      " $USCR, $TSLA \n",
      " common    Stock (AAPL)  \n",
      " Apple    Inc. (AAPL). \n",
      " AMZA - Free Report,  \n",
      "GOOGL 919.46 -10.22 -1.10%,AAPL 146.28 0.65 0.45% :\n",
      "AAPL is looking to, |  for AAPQ was 8.31 For the fiscal y  | ,AAPW has efficiently invested ,| AAPE comes one wee,,AAPR may refer to:  |,AAPl closed at ab|including AAPT news, historical|The bank lowered its AAPY price target to $150, |Earnings estimates for AAPU from thousands of | View the basic AAPO stock chart \n",
      "AAPA: Get the latest Apple, unveiled, \n"
     ]
    },
    {
     "data": {
      "text/plain": [
       "[]"
      ]
     },
     "execution_count": 228,
     "metadata": {},
     "output_type": "execute_result"
    }
   ],
   "source": [
    "# CHSP^A.CL \n",
    "rule_16 = {\n",
    "      \"identifier\": \"#rule_16 CHSP^A.CL $USCR, $TSLA\",\n",
    "      \"description\": \"a description\",\n",
    "      \"is_active\": \"true\",\n",
    "      \"output_format\": \"{1}{2}{3}{4}{5}\",\n",
    "      \"pattern\": [\n",
    "            punctuation_token(token=[\"$\"],  is_in_output=\"false\"),\n",
    "\n",
    "            shape_token(shape =[\"X\",\"XX\",\"XXX\",\"XXXX\"],  is_in_output=\"true\"),\n",
    "            punctuation_token(token=[\"^\"],  is_in_output=\"true\"),\n",
    "            shape_token(shape =[\"X\"],  is_in_output=\"true\"),\n",
    "            punctuation_token(token=[\".\"],  is_in_output=\"true\"),\n",
    "            shape_token(shape =[\"XX\"],  is_in_output=\"true\"),\n",
    "      ]\n",
    "    }\n",
    "\n",
    "field_rules = {\n",
    "  \"rules\": [\n",
    "      rule_16\n",
    "  ]\n",
    "}\n",
    "\n",
    "print \"text:\", d['text']\n",
    "results = c.extract_using_custom_spacy(d, config, field_rules=field_rules)\n",
    "tele_lst = []\n",
    "for i in results:\n",
    "    tele_lst.append(''.join((i.values()[1]).split()))\n",
    "tele_lst"
   ]
  },
  {
   "cell_type": "code",
   "execution_count": 229,
   "metadata": {},
   "outputs": [
    {
     "name": "stdout",
     "output_type": "stream",
     "text": [
      "text:  A, BA,  \n",
      " C^J,        BAC,      C-C,         JW.B,    \n",
      " BK^C,       ABRN,     NS-A,  \n",
      " ADK^A,      ABEOW ,    ABC-A,      BAC.A,       HK.WS,  \n",
      " MITT^A,                             HCAC.U,     BTX.WS,     ,       C.WS.A,\n",
      "                                                 IMUC.WS,   \n",
      "                                                                   BAC.WS.A \n",
      " CHSP^A.CL \n",
      " Alibaba Group Holding Ltd (NYSE:BABA) dealt another ,  (NASDAQ:AMZN) this week \n",
      " $USCR, $TSLA \n",
      " common    Stock (AAPL)  \n",
      " Apple    Inc. (AAPL). \n",
      " AMZA - Free Report,  \n",
      "GOOGL 919.46 -10.22 -1.10%,AAPL 146.28 0.65 0.45% :\n",
      "AAPL is looking to, |  for AAPQ was 8.31 For the fiscal y  | ,AAPW has efficiently invested ,| AAPE comes one wee,,AAPR may refer to:  |,AAPl closed at ab|including AAPT news, historical|The bank lowered its AAPY price target to $150, |Earnings estimates for AAPU from thousands of | View the basic AAPO stock chart \n",
      "AAPA: Get the latest Apple, unveiled, \n"
     ]
    },
    {
     "data": {
      "text/plain": [
       "['USCR', 'TSLA']"
      ]
     },
     "execution_count": 229,
     "metadata": {},
     "output_type": "execute_result"
    }
   ],
   "source": [
    "# BAC, ABRN, ABEOW ,\n",
    "\n",
    "rule_17 = {\n",
    "      \"identifier\": \"#rule_17 BAC, ABRN, ABEOW , $USCR, $TSLA\",\n",
    "      \"description\": \"a description\",\n",
    "      \"is_active\": \"true\",\n",
    "      \"output_format\": \"{1}\",\n",
    "      \"pattern\": [\n",
    "            punctuation_token(token=[\"$\"],  is_in_output=\"false\"),\n",
    "\n",
    "            shape_token(shape =[\"X\",\"XX\",\"XXX\",\"XXXX\",\"XXXXX\"],  is_in_output=\"true\")\n",
    "      ]\n",
    "    }\n",
    "\n",
    "field_rules = {\n",
    "  \"rules\": [\n",
    "      rule_17\n",
    "  ]\n",
    "}\n",
    "\n",
    "print \"text:\", d['text']\n",
    "results = c.extract_using_custom_spacy(d, config, field_rules=field_rules)\n",
    "tele_lst = []\n",
    "for i in results:\n",
    "    tele_lst.append(''.join((i.values()[1]).split()))\n",
    "tele_lst"
   ]
  },
  {
   "cell_type": "code",
   "execution_count": 230,
   "metadata": {},
   "outputs": [
    {
     "name": "stdout",
     "output_type": "stream",
     "text": [
      "text:  A, BA,  \n",
      " C^J,        BAC,      C-C,         JW.B,    \n",
      " BK^C,       ABRN,     NS-A,  \n",
      " ADK^A,      ABEOW ,    ABC-A,      BAC.A,       HK.WS,  \n",
      " MITT^A,                             HCAC.U,     BTX.WS,     ,       C.WS.A,\n",
      "                                                 IMUC.WS,   \n",
      "                                                                   BAC.WS.A \n",
      " CHSP^A.CL \n",
      " Alibaba Group Holding Ltd (NYSE:BABA) dealt another ,  (NASDAQ:AMZN) this week \n",
      " $USCR, $TSLA \n",
      " common    Stock (AAPL)  \n",
      " Apple    Inc. (AAPL). \n",
      " AMZA - Free Report,  \n",
      "GOOGL 919.46 -10.22 -1.10%,AAPL 146.28 0.65 0.45% :\n",
      "AAPL is looking to, |  for AAPQ was 8.31 For the fiscal y  | ,AAPW has efficiently invested ,| AAPE comes one wee,,AAPR may refer to:  |,AAPl closed at ab|including AAPT news, historical|The bank lowered its AAPY price target to $150, |Earnings estimates for AAPU from thousands of | View the basic AAPO stock chart \n",
      "AAPA: Get the latest Apple, unveiled, \n"
     ]
    },
    {
     "data": {
      "text/plain": [
       "[]"
      ]
     },
     "execution_count": 230,
     "metadata": {},
     "output_type": "execute_result"
    }
   ],
   "source": [
    "# C-C, NS-A, ABC-A,\n",
    "rule_18 = {\n",
    "      \"identifier\": \"#rule_18 C-C, NS-A, ABC-A,$USCR, $TSLA\",\n",
    "      \"description\": \"a description\",\n",
    "      \"is_active\": \"true\",\n",
    "      \"output_format\": \"{1}{2}{3}\",\n",
    "      \"pattern\": [\n",
    "            punctuation_token(token=[\"$\"],  is_in_output=\"false\"),\n",
    "\n",
    "            shape_token(shape =[\"X\",\"XX\",\"XXX\"],  is_in_output=\"true\"),\n",
    "            punctuation_token(token=[\"-\"],  is_in_output=\"true\"),\n",
    "            shape_token(shape =[\"X\"],  is_in_output=\"true\")\n",
    "      ]\n",
    "    }\n",
    "\n",
    "field_rules = {\n",
    "  \"rules\": [\n",
    "      rule_18\n",
    "  ]\n",
    "}\n",
    "\n",
    "print \"text:\", d['text']\n",
    "results = c.extract_using_custom_spacy(d, config, field_rules=field_rules)\n",
    "tele_lst = []\n",
    "for i in results:\n",
    "    tele_lst.append(''.join((i.values()[1]).split()))\n",
    "tele_lst"
   ]
  },
  {
   "cell_type": "code",
   "execution_count": 231,
   "metadata": {},
   "outputs": [
    {
     "name": "stdout",
     "output_type": "stream",
     "text": [
      "text:  A, BA,  \n",
      " C^J,        BAC,      C-C,         JW.B,    \n",
      " BK^C,       ABRN,     NS-A,  \n",
      " ADK^A,      ABEOW ,    ABC-A,      BAC.A,       HK.WS,  \n",
      " MITT^A,                             HCAC.U,     BTX.WS,     ,       C.WS.A,\n",
      "                                                 IMUC.WS,   \n",
      "                                                                   BAC.WS.A \n",
      " CHSP^A.CL \n",
      " Alibaba Group Holding Ltd (NYSE:BABA) dealt another ,  (NASDAQ:AMZN) this week \n",
      " $USCR, $TSLA \n",
      " common    Stock (AAPL)  \n",
      " Apple    Inc. (AAPL). \n",
      " AMZA - Free Report,  \n",
      "GOOGL 919.46 -10.22 -1.10%,AAPL 146.28 0.65 0.45% :\n",
      "AAPL is looking to, |  for AAPQ was 8.31 For the fiscal y  | ,AAPW has efficiently invested ,| AAPE comes one wee,,AAPR may refer to:  |,AAPl closed at ab|including AAPT news, historical|The bank lowered its AAPY price target to $150, |Earnings estimates for AAPU from thousands of | View the basic AAPO stock chart \n",
      "AAPA: Get the latest Apple, unveiled, \n"
     ]
    },
    {
     "data": {
      "text/plain": [
       "[]"
      ]
     },
     "execution_count": 231,
     "metadata": {},
     "output_type": "execute_result"
    }
   ],
   "source": [
    "# JW.B, BAC.A, HCAC.U,\n",
    "\n",
    "rule_19 = {\n",
    "      \"identifier\": \"#rule_19 JW.B, BAC.A, HCAC.U,$USCR, $TSLA\",\n",
    "      \"description\": \"a description\",\n",
    "      \"is_active\": \"true\",\n",
    "      \"output_format\": \"{1}{2}{3}\",\n",
    "      \"pattern\": [\n",
    "            punctuation_token(token=[\"$\"],  is_in_output=\"false\"),\n",
    "\n",
    "            shape_token(shape =[\"XX\",\"XXX\",\"XXXX\"],  is_in_output=\"true\"),\n",
    "            punctuation_token(token=[\".\"],  is_in_output=\"true\"),\n",
    "            shape_token(shape =[\"X\"],  is_in_output=\"true\")\n",
    "      ]\n",
    "    }\n",
    "\n",
    "field_rules = {\n",
    "  \"rules\": [\n",
    "      rule_19\n",
    "  ]\n",
    "}\n",
    "\n",
    "print \"text:\", d['text']\n",
    "results = c.extract_using_custom_spacy(d, config, field_rules=field_rules)\n",
    "tele_lst = []\n",
    "for i in results:\n",
    "    tele_lst.append(''.join((i.values()[1]).split()))\n",
    "tele_lst"
   ]
  },
  {
   "cell_type": "code",
   "execution_count": 232,
   "metadata": {},
   "outputs": [
    {
     "name": "stdout",
     "output_type": "stream",
     "text": [
      "text:  A, BA,  \n",
      " C^J,        BAC,      C-C,         JW.B,    \n",
      " BK^C,       ABRN,     NS-A,  \n",
      " ADK^A,      ABEOW ,    ABC-A,      BAC.A,       HK.WS,  \n",
      " MITT^A,                             HCAC.U,     BTX.WS,     ,       C.WS.A,\n",
      "                                                 IMUC.WS,   \n",
      "                                                                   BAC.WS.A \n",
      " CHSP^A.CL \n",
      " Alibaba Group Holding Ltd (NYSE:BABA) dealt another ,  (NASDAQ:AMZN) this week \n",
      " $USCR, $TSLA \n",
      " common    Stock (AAPL)  \n",
      " Apple    Inc. (AAPL). \n",
      " AMZA - Free Report,  \n",
      "GOOGL 919.46 -10.22 -1.10%,AAPL 146.28 0.65 0.45% :\n",
      "AAPL is looking to, |  for AAPQ was 8.31 For the fiscal y  | ,AAPW has efficiently invested ,| AAPE comes one wee,,AAPR may refer to:  |,AAPl closed at ab|including AAPT news, historical|The bank lowered its AAPY price target to $150, |Earnings estimates for AAPU from thousands of | View the basic AAPO stock chart \n",
      "AAPA: Get the latest Apple, unveiled, \n"
     ]
    },
    {
     "data": {
      "text/plain": [
       "[]"
      ]
     },
     "execution_count": 232,
     "metadata": {},
     "output_type": "execute_result"
    }
   ],
   "source": [
    "# HK.WS, BTX.WS,  IMUC.WS, \n",
    "\n",
    "rule_20 = {\n",
    "      \"identifier\": \"#rule_20 HK.WS, BTX.WS,  IMUC.WS, $USCR, $TSLA\",\n",
    "      \"description\": \"a description\",\n",
    "      \"is_active\": \"true\",\n",
    "      \"output_format\": \"{1}{2}{3}\",\n",
    "      \"pattern\": [\n",
    "            punctuation_token(token=[\"$\"],  is_in_output=\"false\"),\n",
    "\n",
    "            shape_token(shape =[\"XX\",\"XXX\",\"XXXX\"],  is_in_output=\"true\"),\n",
    "            punctuation_token(token=[\".\"],  is_in_output=\"true\"),\n",
    "            shape_token(shape =[\"XX\"],  is_in_output=\"true\")\n",
    "      ]\n",
    "    }\n",
    "\n",
    "field_rules = {\n",
    "  \"rules\": [\n",
    "      rule_20\n",
    "  ]\n",
    "}\n",
    "\n",
    "print \"text:\", d['text']\n",
    "results = c.extract_using_custom_spacy(d, config, field_rules=field_rules)\n",
    "tele_lst = []\n",
    "for i in results:\n",
    "    tele_lst.append(''.join((i.values()[1]).split()))\n",
    "tele_lst"
   ]
  },
  {
   "cell_type": "code",
   "execution_count": 233,
   "metadata": {},
   "outputs": [
    {
     "name": "stdout",
     "output_type": "stream",
     "text": [
      "text:  A, BA,  \n",
      " C^J,        BAC,      C-C,         JW.B,    \n",
      " BK^C,       ABRN,     NS-A,  \n",
      " ADK^A,      ABEOW ,    ABC-A,      BAC.A,       HK.WS,  \n",
      " MITT^A,                             HCAC.U,     BTX.WS,     ,       C.WS.A,\n",
      "                                                 IMUC.WS,   \n",
      "                                                                   BAC.WS.A \n",
      " CHSP^A.CL \n",
      " Alibaba Group Holding Ltd (NYSE:BABA) dealt another ,  (NASDAQ:AMZN) this week \n",
      " $USCR, $TSLA \n",
      " common    Stock (AAPL)  \n",
      " Apple    Inc. (AAPL). \n",
      " AMZA - Free Report,  \n",
      "GOOGL 919.46 -10.22 -1.10%,AAPL 146.28 0.65 0.45% :\n",
      "AAPL is looking to, |  for AAPQ was 8.31 For the fiscal y  | ,AAPW has efficiently invested ,| AAPE comes one wee,,AAPR may refer to:  |,AAPl closed at ab|including AAPT news, historical|The bank lowered its AAPY price target to $150, |Earnings estimates for AAPU from thousands of | View the basic AAPO stock chart \n",
      "AAPA: Get the latest Apple, unveiled, \n"
     ]
    },
    {
     "data": {
      "text/plain": [
       "[]"
      ]
     },
     "execution_count": 233,
     "metadata": {},
     "output_type": "execute_result"
    }
   ],
   "source": [
    "# C.WS.A,  BAC.WS.A\n",
    "\n",
    "rule_21 = {\n",
    "      \"identifier\": \"#rule_21 C.WS.A,  BAC.WS.A$USCR, $TSLA\",\n",
    "      \"description\": \"a description\",\n",
    "      \"is_active\": \"true\",\n",
    "      \"output_format\": \"{1}{2}{3}{4}{5}\",\n",
    "      \"pattern\": [\n",
    "            punctuation_token(token=[\"$\"],  is_in_output=\"false\"),\n",
    "\n",
    "            shape_token(shape =[\"X\",\"XXX\"],  is_in_output=\"true\"),\n",
    "            punctuation_token(token=[\".\"],  is_in_output=\"true\"),\n",
    "            shape_token(shape =[\"XX\"],  is_in_output=\"true\"),\n",
    "            punctuation_token(token=[\".\"],  is_in_output=\"true\"),\n",
    "            shape_token(shape =[\"X\"],  is_in_output=\"true\")\n",
    "\n",
    "      ]\n",
    "    }\n",
    "\n",
    "field_rules = {\n",
    "  \"rules\": [\n",
    "      rule_21\n",
    "  ]\n",
    "}\n",
    "\n",
    "print \"text:\", d['text']\n",
    "results = c.extract_using_custom_spacy(d, config, field_rules=field_rules)\n",
    "tele_lst = []\n",
    "for i in results:\n",
    "    tele_lst.append(''.join((i.values()[1]).split()))\n",
    "tele_lst"
   ]
  },
  {
   "cell_type": "code",
   "execution_count": 234,
   "metadata": {},
   "outputs": [
    {
     "name": "stdout",
     "output_type": "stream",
     "text": [
      "text:  A, BA,  \n",
      " C^J,        BAC,      C-C,         JW.B,    \n",
      " BK^C,       ABRN,     NS-A,  \n",
      " ADK^A,      ABEOW ,    ABC-A,      BAC.A,       HK.WS,  \n",
      " MITT^A,                             HCAC.U,     BTX.WS,     ,       C.WS.A,\n",
      "                                                 IMUC.WS,   \n",
      "                                                                   BAC.WS.A \n",
      " CHSP^A.CL \n",
      " Alibaba Group Holding Ltd (NYSE:BABA) dealt another ,  (NASDAQ:AMZN) this week \n",
      " $USCR, $TSLA \n",
      " common    Stock (AAPL)  \n",
      " Apple    Inc. (AAPL). \n",
      " AMZA - Free Report,  \n",
      "GOOGL 919.46 -10.22 -1.10%,AAPL 146.28 0.65 0.45% :\n",
      "AAPL is looking to, |  for AAPQ was 8.31 For the fiscal y  | ,AAPW has efficiently invested ,| AAPE comes one wee,,AAPR may refer to:  |,AAPl closed at ab|including AAPT news, historical|The bank lowered its AAPY price target to $150, |Earnings estimates for AAPU from thousands of | View the basic AAPO stock chart \n",
      "AAPA: Get the latest Apple, unveiled, \n"
     ]
    },
    {
     "data": {
      "text/plain": [
       "[]"
      ]
     },
     "execution_count": 234,
     "metadata": {},
     "output_type": "execute_result"
    }
   ],
   "source": [
    "# C^J, BK^C, ADK^A, MITT^A,   Stock (AAPL) , \n",
    "\n",
    "rule_22 = {\n",
    "      \"identifier\": \"#rule_22 C^J, BK^C, ADK^A, MITT^A,   Stock (AAPL)\",\n",
    "      \"description\": \"a description\",\n",
    "      \"is_active\": \"true\",\n",
    "      \"output_format\": \"{1}{2}{3}\",\n",
    "      \"pattern\": [\n",
    "            word_token(token=[\"stock\"],is_in_output=\"false\"),\n",
    "            punctuation_token(token=[\"(\"],  is_in_output=\"false\"),\n",
    "          \n",
    "            shape_token(shape =[\"X\",\"XX\",\"XXX\",\"XXXX\"],  is_in_output=\"true\"),\n",
    "            punctuation_token(token=[\"^\"],  is_in_output=\"true\"),\n",
    "            shape_token(shape =[\"X\"],  is_in_output=\"true\"),\n",
    "          \n",
    "            punctuation_token(token=[\")\"],  is_in_output=\"false\")\n",
    "\n",
    "      ]\n",
    "    }\n",
    "\n",
    "field_rules = {\n",
    "  \"rules\": [\n",
    "      rule_22\n",
    "  ]\n",
    "}\n",
    "\n",
    "print \"text:\", d['text']\n",
    "results = c.extract_using_custom_spacy(d, config, field_rules=field_rules)\n",
    "tele_lst = []\n",
    "for i in results:\n",
    "    tele_lst.append(''.join((i.values()[1]).split()))\n",
    "tele_lst"
   ]
  },
  {
   "cell_type": "code",
   "execution_count": 235,
   "metadata": {},
   "outputs": [
    {
     "name": "stdout",
     "output_type": "stream",
     "text": [
      "text:  A, BA,  \n",
      " C^J,        BAC,      C-C,         JW.B,    \n",
      " BK^C,       ABRN,     NS-A,  \n",
      " ADK^A,      ABEOW ,    ABC-A,      BAC.A,       HK.WS,  \n",
      " MITT^A,                             HCAC.U,     BTX.WS,     ,       C.WS.A,\n",
      "                                                 IMUC.WS,   \n",
      "                                                                   BAC.WS.A \n",
      " CHSP^A.CL \n",
      " Alibaba Group Holding Ltd (NYSE:BABA) dealt another ,  (NASDAQ:AMZN) this week \n",
      " $USCR, $TSLA \n",
      " common    Stock (AAPL)  \n",
      " Apple    Inc. (AAPL). \n",
      " AMZA - Free Report,  \n",
      "GOOGL 919.46 -10.22 -1.10%,AAPL 146.28 0.65 0.45% :\n",
      "AAPL is looking to, |  for AAPQ was 8.31 For the fiscal y  | ,AAPW has efficiently invested ,| AAPE comes one wee,,AAPR may refer to:  |,AAPl closed at ab|including AAPT news, historical|The bank lowered its AAPY price target to $150, |Earnings estimates for AAPU from thousands of | View the basic AAPO stock chart \n",
      "AAPA: Get the latest Apple, unveiled, \n"
     ]
    },
    {
     "data": {
      "text/plain": [
       "[]"
      ]
     },
     "execution_count": 235,
     "metadata": {},
     "output_type": "execute_result"
    }
   ],
   "source": [
    "# CHSP^A.CL  Stock (AAPL) , \n",
    "rule_23 = {\n",
    "      \"identifier\": \"#rule_23 CHSP^A.CL  Stock (AAPL) , \",\n",
    "      \"description\": \"a description\",\n",
    "      \"is_active\": \"true\",\n",
    "      \"output_format\": \"{1}{2}{3}{4}{5}\",\n",
    "      \"pattern\": [\n",
    "            word_token(token=[\"stock\"],is_in_output=\"false\"),\n",
    "            punctuation_token(token=[\"(\"],  is_in_output=\"false\"),\n",
    "\n",
    "            shape_token(shape =[\"X\",\"XX\",\"XXX\",\"XXXX\"],  is_in_output=\"true\"),\n",
    "            punctuation_token(token=[\"^\"],  is_in_output=\"true\"),\n",
    "            shape_token(shape =[\"X\"],  is_in_output=\"true\"),\n",
    "            punctuation_token(token=[\".\"],  is_in_output=\"true\"),\n",
    "            shape_token(shape =[\"XX\"],  is_in_output=\"true\"),\n",
    "          \n",
    "            punctuation_token(token=[\")\"],  is_in_output=\"false\")\n",
    "      ]\n",
    "    }\n",
    "\n",
    "field_rules = {\n",
    "  \"rules\": [\n",
    "      rule_23\n",
    "  ]\n",
    "}\n",
    "\n",
    "print \"text:\", d['text']\n",
    "results = c.extract_using_custom_spacy(d, config, field_rules=field_rules)\n",
    "tele_lst = []\n",
    "for i in results:\n",
    "    tele_lst.append(''.join((i.values()[1]).split()))\n",
    "tele_lst"
   ]
  },
  {
   "cell_type": "code",
   "execution_count": 236,
   "metadata": {},
   "outputs": [
    {
     "name": "stdout",
     "output_type": "stream",
     "text": [
      "text:  A, BA,  \n",
      " C^J,        BAC,      C-C,         JW.B,    \n",
      " BK^C,       ABRN,     NS-A,  \n",
      " ADK^A,      ABEOW ,    ABC-A,      BAC.A,       HK.WS,  \n",
      " MITT^A,                             HCAC.U,     BTX.WS,     ,       C.WS.A,\n",
      "                                                 IMUC.WS,   \n",
      "                                                                   BAC.WS.A \n",
      " CHSP^A.CL \n",
      " Alibaba Group Holding Ltd (NYSE:BABA) dealt another ,  (NASDAQ:AMZN) this week \n",
      " $USCR, $TSLA \n",
      " common    Stock (AAPL)  \n",
      " Apple    Inc. (AAPL). \n",
      " AMZA - Free Report,  \n",
      "GOOGL 919.46 -10.22 -1.10%,AAPL 146.28 0.65 0.45% :\n",
      "AAPL is looking to, |  for AAPQ was 8.31 For the fiscal y  | ,AAPW has efficiently invested ,| AAPE comes one wee,,AAPR may refer to:  |,AAPl closed at ab|including AAPT news, historical|The bank lowered its AAPY price target to $150, |Earnings estimates for AAPU from thousands of | View the basic AAPO stock chart \n",
      "AAPA: Get the latest Apple, unveiled, \n"
     ]
    },
    {
     "data": {
      "text/plain": [
       "['AAPL']"
      ]
     },
     "execution_count": 236,
     "metadata": {},
     "output_type": "execute_result"
    }
   ],
   "source": [
    "# BAC, ABRN, ABEOW ,  Stock (AAPL) , \n",
    "\n",
    "rule_24 = {\n",
    "      \"identifier\": \"#rule_24 BAC, ABRN, ABEOW ,  Stock (AAPL) , \",\n",
    "      \"description\": \"a description\",\n",
    "      \"is_active\": \"true\",\n",
    "      \"output_format\": \"{1}\",\n",
    "      \"pattern\": [\n",
    "            word_token(token=[\"stock\"],is_in_output=\"false\"),\n",
    "            punctuation_token(token=[\"(\"],  is_in_output=\"false\"),\n",
    "\n",
    "            shape_token(shape =[\"X\",\"XX\",\"XXX\",\"XXXX\",\"XXXXX\"],  is_in_output=\"true\"),\n",
    "          \n",
    "            punctuation_token(token=[\")\"],  is_in_output=\"false\")\n",
    "\n",
    "      ]\n",
    "    }\n",
    "\n",
    "field_rules = {\n",
    "  \"rules\": [\n",
    "      rule_24\n",
    "  ]\n",
    "}\n",
    "\n",
    "print \"text:\", d['text']\n",
    "results = c.extract_using_custom_spacy(d, config, field_rules=field_rules)\n",
    "tele_lst = []\n",
    "for i in results:\n",
    "    tele_lst.append(''.join((i.values()[1]).split()))\n",
    "tele_lst"
   ]
  },
  {
   "cell_type": "code",
   "execution_count": 237,
   "metadata": {},
   "outputs": [
    {
     "name": "stdout",
     "output_type": "stream",
     "text": [
      "text:  A, BA,  \n",
      " C^J,        BAC,      C-C,         JW.B,    \n",
      " BK^C,       ABRN,     NS-A,  \n",
      " ADK^A,      ABEOW ,    ABC-A,      BAC.A,       HK.WS,  \n",
      " MITT^A,                             HCAC.U,     BTX.WS,     ,       C.WS.A,\n",
      "                                                 IMUC.WS,   \n",
      "                                                                   BAC.WS.A \n",
      " CHSP^A.CL \n",
      " Alibaba Group Holding Ltd (NYSE:BABA) dealt another ,  (NASDAQ:AMZN) this week \n",
      " $USCR, $TSLA \n",
      " common    Stock (AAPL)  \n",
      " Apple    Inc. (AAPL). \n",
      " AMZA - Free Report,  \n",
      "GOOGL 919.46 -10.22 -1.10%,AAPL 146.28 0.65 0.45% :\n",
      "AAPL is looking to, |  for AAPQ was 8.31 For the fiscal y  | ,AAPW has efficiently invested ,| AAPE comes one wee,,AAPR may refer to:  |,AAPl closed at ab|including AAPT news, historical|The bank lowered its AAPY price target to $150, |Earnings estimates for AAPU from thousands of | View the basic AAPO stock chart \n",
      "AAPA: Get the latest Apple, unveiled, \n"
     ]
    },
    {
     "data": {
      "text/plain": [
       "[]"
      ]
     },
     "execution_count": 237,
     "metadata": {},
     "output_type": "execute_result"
    }
   ],
   "source": [
    "# C-C, NS-A, ABC-A,  Stock (AAPL) , \n",
    "rule_25 = {\n",
    "      \"identifier\": \"#rule_25 C-C, NS-A, ABC-A,  Stock (AAPL) , \",\n",
    "      \"description\": \"a description\",\n",
    "      \"is_active\": \"true\",\n",
    "      \"output_format\": \"{1}{2}{3}\",\n",
    "      \"pattern\": [\n",
    "            word_token(token=[\"stock\"],is_in_output=\"false\"),\n",
    "            punctuation_token(token=[\"(\"],  is_in_output=\"false\"),\n",
    "\n",
    "            shape_token(shape =[\"X\",\"XX\",\"XXX\"],  is_in_output=\"true\"),\n",
    "            punctuation_token(token=[\"-\"],  is_in_output=\"true\"),\n",
    "            shape_token(shape =[\"X\"],  is_in_output=\"true\"),\n",
    "\n",
    "            punctuation_token(token=[\")\"],  is_in_output=\"false\")\n",
    "\n",
    "      ]\n",
    "    }\n",
    "\n",
    "field_rules = {\n",
    "  \"rules\": [\n",
    "      rule_25\n",
    "  ]\n",
    "}\n",
    "\n",
    "print \"text:\", d['text']\n",
    "results = c.extract_using_custom_spacy(d, config, field_rules=field_rules)\n",
    "tele_lst = []\n",
    "for i in results:\n",
    "    tele_lst.append(''.join((i.values()[1]).split()))\n",
    "tele_lst"
   ]
  },
  {
   "cell_type": "code",
   "execution_count": 238,
   "metadata": {},
   "outputs": [
    {
     "name": "stdout",
     "output_type": "stream",
     "text": [
      "text:  A, BA,  \n",
      " C^J,        BAC,      C-C,         JW.B,    \n",
      " BK^C,       ABRN,     NS-A,  \n",
      " ADK^A,      ABEOW ,    ABC-A,      BAC.A,       HK.WS,  \n",
      " MITT^A,                             HCAC.U,     BTX.WS,     ,       C.WS.A,\n",
      "                                                 IMUC.WS,   \n",
      "                                                                   BAC.WS.A \n",
      " CHSP^A.CL \n",
      " Alibaba Group Holding Ltd (NYSE:BABA) dealt another ,  (NASDAQ:AMZN) this week \n",
      " $USCR, $TSLA \n",
      " common    Stock (AAPL)  \n",
      " Apple    Inc. (AAPL). \n",
      " AMZA - Free Report,  \n",
      "GOOGL 919.46 -10.22 -1.10%,AAPL 146.28 0.65 0.45% :\n",
      "AAPL is looking to, |  for AAPQ was 8.31 For the fiscal y  | ,AAPW has efficiently invested ,| AAPE comes one wee,,AAPR may refer to:  |,AAPl closed at ab|including AAPT news, historical|The bank lowered its AAPY price target to $150, |Earnings estimates for AAPU from thousands of | View the basic AAPO stock chart \n",
      "AAPA: Get the latest Apple, unveiled, \n"
     ]
    },
    {
     "data": {
      "text/plain": [
       "[]"
      ]
     },
     "execution_count": 238,
     "metadata": {},
     "output_type": "execute_result"
    }
   ],
   "source": [
    "# JW.B, BAC.A, HCAC.U,  Stock (AAPL) , \n",
    "\n",
    "rule_26 = {\n",
    "      \"identifier\": \"#rule_26 JW.B, BAC.A, HCAC.U,  Stock (AAPL) , \",\n",
    "      \"description\": \"a description\",\n",
    "      \"is_active\": \"true\",\n",
    "      \"output_format\": \"{1}{2}{3}\",\n",
    "      \"pattern\": [\n",
    "            word_token(token=[\"stock\"],is_in_output=\"false\"),\n",
    "            punctuation_token(token=[\"(\"],  is_in_output=\"false\"),\n",
    "\n",
    "            shape_token(shape =[\"XX\",\"XXX\",\"XXXX\"],  is_in_output=\"true\"),\n",
    "            punctuation_token(token=[\".\"],  is_in_output=\"true\"),\n",
    "            shape_token(shape =[\"X\"],  is_in_output=\"true\"),\n",
    "\n",
    "            punctuation_token(token=[\")\"],  is_in_output=\"false\")\n",
    "\n",
    "      ]\n",
    "    }\n",
    "\n",
    "field_rules = {\n",
    "  \"rules\": [\n",
    "      rule_26\n",
    "  ]\n",
    "}\n",
    "\n",
    "print \"text:\", d['text']\n",
    "results = c.extract_using_custom_spacy(d, config, field_rules=field_rules)\n",
    "tele_lst = []\n",
    "for i in results:\n",
    "    tele_lst.append(''.join((i.values()[1]).split()))\n",
    "tele_lst"
   ]
  },
  {
   "cell_type": "code",
   "execution_count": 239,
   "metadata": {},
   "outputs": [
    {
     "name": "stdout",
     "output_type": "stream",
     "text": [
      "text:  A, BA,  \n",
      " C^J,        BAC,      C-C,         JW.B,    \n",
      " BK^C,       ABRN,     NS-A,  \n",
      " ADK^A,      ABEOW ,    ABC-A,      BAC.A,       HK.WS,  \n",
      " MITT^A,                             HCAC.U,     BTX.WS,     ,       C.WS.A,\n",
      "                                                 IMUC.WS,   \n",
      "                                                                   BAC.WS.A \n",
      " CHSP^A.CL \n",
      " Alibaba Group Holding Ltd (NYSE:BABA) dealt another ,  (NASDAQ:AMZN) this week \n",
      " $USCR, $TSLA \n",
      " common    Stock (AAPL)  \n",
      " Apple    Inc. (AAPL). \n",
      " AMZA - Free Report,  \n",
      "GOOGL 919.46 -10.22 -1.10%,AAPL 146.28 0.65 0.45% :\n",
      "AAPL is looking to, |  for AAPQ was 8.31 For the fiscal y  | ,AAPW has efficiently invested ,| AAPE comes one wee,,AAPR may refer to:  |,AAPl closed at ab|including AAPT news, historical|The bank lowered its AAPY price target to $150, |Earnings estimates for AAPU from thousands of | View the basic AAPO stock chart \n",
      "AAPA: Get the latest Apple, unveiled, \n"
     ]
    },
    {
     "data": {
      "text/plain": [
       "[]"
      ]
     },
     "execution_count": 239,
     "metadata": {},
     "output_type": "execute_result"
    }
   ],
   "source": [
    "# HK.WS, BTX.WS,  IMUC.WS,   Stock (AAPL) , \n",
    "\n",
    "\n",
    "rule_27 = {\n",
    "      \"identifier\": \"#rule_27 HK.WS, BTX.WS,  IMUC.WS,   Stock (AAPL) , \",\n",
    "      \"description\": \"a description\",\n",
    "      \"is_active\": \"true\",\n",
    "      \"output_format\": \"{1}{2}{3}\",\n",
    "      \"pattern\": [\n",
    "            word_token(token=[\"stock\"],is_in_output=\"false\"),\n",
    "            punctuation_token(token=[\"(\"],  is_in_output=\"false\"),\n",
    "\n",
    "            shape_token(shape =[\"XX\",\"XXX\",\"XXXX\"],  is_in_output=\"true\"),\n",
    "            punctuation_token(token=[\".\"],  is_in_output=\"true\"),\n",
    "            shape_token(shape =[\"XX\"],  is_in_output=\"true\"),\n",
    "          \n",
    "            punctuation_token(token=[\")\"],  is_in_output=\"false\")\n",
    "\n",
    "      ]\n",
    "    }\n",
    "\n",
    "field_rules = {\n",
    "  \"rules\": [\n",
    "      rule_27\n",
    "  ]\n",
    "}\n",
    "\n",
    "print \"text:\", d['text']\n",
    "results = c.extract_using_custom_spacy(d, config, field_rules=field_rules)\n",
    "tele_lst = []\n",
    "for i in results:\n",
    "    tele_lst.append(''.join((i.values()[1]).split()))\n",
    "tele_lst"
   ]
  },
  {
   "cell_type": "code",
   "execution_count": 240,
   "metadata": {},
   "outputs": [
    {
     "name": "stdout",
     "output_type": "stream",
     "text": [
      "text:  A, BA,  \n",
      " C^J,        BAC,      C-C,         JW.B,    \n",
      " BK^C,       ABRN,     NS-A,  \n",
      " ADK^A,      ABEOW ,    ABC-A,      BAC.A,       HK.WS,  \n",
      " MITT^A,                             HCAC.U,     BTX.WS,     ,       C.WS.A,\n",
      "                                                 IMUC.WS,   \n",
      "                                                                   BAC.WS.A \n",
      " CHSP^A.CL \n",
      " Alibaba Group Holding Ltd (NYSE:BABA) dealt another ,  (NASDAQ:AMZN) this week \n",
      " $USCR, $TSLA \n",
      " common    Stock (AAPL)  \n",
      " Apple    Inc. (AAPL). \n",
      " AMZA - Free Report,  \n",
      "GOOGL 919.46 -10.22 -1.10%,AAPL 146.28 0.65 0.45% :\n",
      "AAPL is looking to, |  for AAPQ was 8.31 For the fiscal y  | ,AAPW has efficiently invested ,| AAPE comes one wee,,AAPR may refer to:  |,AAPl closed at ab|including AAPT news, historical|The bank lowered its AAPY price target to $150, |Earnings estimates for AAPU from thousands of | View the basic AAPO stock chart \n",
      "AAPA: Get the latest Apple, unveiled, \n"
     ]
    },
    {
     "data": {
      "text/plain": [
       "[]"
      ]
     },
     "execution_count": 240,
     "metadata": {},
     "output_type": "execute_result"
    }
   ],
   "source": [
    "# C.WS.A,  BAC.WS.A  Stock (AAPL) , \n",
    "\n",
    "rule_28 = {\n",
    "      \"identifier\": \"#rule_28 C.WS.A,  BAC.WS.A  Stock (AAPL) , \",\n",
    "      \"description\": \"a description\",\n",
    "      \"is_active\": \"true\",\n",
    "      \"output_format\": \"{1}{2}{3}{4}{5}\",\n",
    "      \"pattern\": [\n",
    "            word_token(token=[\"stock\"],is_in_output=\"false\"),\n",
    "            punctuation_token(token=[\"(\"],  is_in_output=\"false\"),\n",
    "\n",
    "            shape_token(shape =[\"X\",\"XXX\"],  is_in_output=\"true\"),\n",
    "            punctuation_token(token=[\".\"],  is_in_output=\"true\"),\n",
    "            shape_token(shape =[\"XX\"],  is_in_output=\"true\"),\n",
    "            punctuation_token(token=[\".\"],  is_in_output=\"true\"),\n",
    "            shape_token(shape =[\"X\"],  is_in_output=\"true\"),\n",
    "\n",
    "            punctuation_token(token=[\")\"],  is_in_output=\"false\")\n",
    "\n",
    "\n",
    "      ]\n",
    "    }\n",
    "\n",
    "field_rules = {\n",
    "  \"rules\": [\n",
    "      rule_28\n",
    "  ]\n",
    "}\n",
    "\n",
    "print \"text:\", d['text']\n",
    "results = c.extract_using_custom_spacy(d, config, field_rules=field_rules)\n",
    "tele_lst = []\n",
    "for i in results:\n",
    "    tele_lst.append(''.join((i.values()[1]).split()))\n",
    "tele_lst"
   ]
  },
  {
   "cell_type": "code",
   "execution_count": 241,
   "metadata": {},
   "outputs": [
    {
     "name": "stdout",
     "output_type": "stream",
     "text": [
      "text:  A, BA,  \n",
      " C^J,        BAC,      C-C,         JW.B,    \n",
      " BK^C,       ABRN,     NS-A,  \n",
      " ADK^A,      ABEOW ,    ABC-A,      BAC.A,       HK.WS,  \n",
      " MITT^A,                             HCAC.U,     BTX.WS,     ,       C.WS.A,\n",
      "                                                 IMUC.WS,   \n",
      "                                                                   BAC.WS.A \n",
      " CHSP^A.CL \n",
      " Alibaba Group Holding Ltd (NYSE:BABA) dealt another ,  (NASDAQ:AMZN) this week \n",
      " $USCR, $TSLA \n",
      " common    Stock (AAPL)  \n",
      " Apple    Inc. (AAPL). \n",
      " AMZA - Free Report,  \n",
      "GOOGL 919.46 -10.22 -1.10%,AAPL 146.28 0.65 0.45% :\n",
      "AAPL is looking to, |  for AAPQ was 8.31 For the fiscal y  | ,AAPW has efficiently invested ,| AAPE comes one wee,,AAPR may refer to:  |,AAPl closed at ab|including AAPT news, historical|The bank lowered its AAPY price target to $150, |Earnings estimates for AAPU from thousands of | View the basic AAPO stock chart \n",
      "AAPA: Get the latest Apple, unveiled, \n"
     ]
    },
    {
     "data": {
      "text/plain": [
       "[]"
      ]
     },
     "execution_count": 241,
     "metadata": {},
     "output_type": "execute_result"
    }
   ],
   "source": [
    "# C^J, BK^C, ADK^A, MITT^A,\n",
    "# \"AAPL is looking to, |  for AAPL was 8.31 For the fiscal y  | ,AAPL has efficiently invested ,| AAPL comes one wee,,AAPL may refer to:  |,AAPl closed at ab|including AAPL news, historical|The bank lowered its AAPL price target to $150, |Earnings estimates for AAPL from thousands of | View the basic AAPL stock chart \")\n",
    "\n",
    "rule_29 = {\n",
    "      \"identifier\": \"stock_symbol_rule_us\",\n",
    "      \"description\": \"a description\",\n",
    "      \"is_active\": \"false\",\n",
    "      \"output_format\": \"{1}{2}{3}\",\n",
    "      \"pattern\": [\n",
    "            shape_token(shape =[\"X\",\"XX\",\"XXX\",\"XXXX\"],  is_in_output=\"true\"),\n",
    "            punctuation_token(token=[\"^\"],  is_in_output=\"true\"),\n",
    "            shape_token(shape =[\"X\"],  is_in_output=\"true\"),\n",
    "            word_token(token=[\"is\",\"was\",\"has\",\"comes\",\"closed\",\"news\",\"price\",\"from\",\"stock\",\"may\",\":\",\"-\", \"'\"],is_in_output=\"false\")\n",
    "\n",
    "      ]\n",
    "    }\n",
    "\n",
    "field_rules = {\n",
    "  \"rules\": [\n",
    "      rule_29\n",
    "  ]\n",
    "}\n",
    "\n",
    "print \"text:\", d['text']\n",
    "results = c.extract_using_custom_spacy(d, config, field_rules=field_rules)\n",
    "tele_lst = []\n",
    "for i in results:\n",
    "    tele_lst.append(''.join((i.values()[1]).split()))\n",
    "tele_lst"
   ]
  },
  {
   "cell_type": "code",
   "execution_count": 242,
   "metadata": {},
   "outputs": [
    {
     "name": "stdout",
     "output_type": "stream",
     "text": [
      "text:  A, BA,  \n",
      " C^J,        BAC,      C-C,         JW.B,    \n",
      " BK^C,       ABRN,     NS-A,  \n",
      " ADK^A,      ABEOW ,    ABC-A,      BAC.A,       HK.WS,  \n",
      " MITT^A,                             HCAC.U,     BTX.WS,     ,       C.WS.A,\n",
      "                                                 IMUC.WS,   \n",
      "                                                                   BAC.WS.A \n",
      " CHSP^A.CL \n",
      " Alibaba Group Holding Ltd (NYSE:BABA) dealt another ,  (NASDAQ:AMZN) this week \n",
      " $USCR, $TSLA \n",
      " common    Stock (AAPL)  \n",
      " Apple    Inc. (AAPL). \n",
      " AMZA - Free Report,  \n",
      "GOOGL 919.46 -10.22 -1.10%,AAPL 146.28 0.65 0.45% :\n",
      "AAPL is looking to, |  for AAPQ was 8.31 For the fiscal y  | ,AAPW has efficiently invested ,| AAPE comes one wee,,AAPR may refer to:  |,AAPl closed at ab|including AAPT news, historical|The bank lowered its AAPY price target to $150, |Earnings estimates for AAPU from thousands of | View the basic AAPO stock chart \n",
      "AAPA: Get the latest Apple, unveiled, \n"
     ]
    },
    {
     "data": {
      "text/plain": [
       "[]"
      ]
     },
     "execution_count": 242,
     "metadata": {},
     "output_type": "execute_result"
    }
   ],
   "source": [
    "# CHSP^A.CL \n",
    "rule_30 = {\n",
    "      \"identifier\": \"stock_symbol_rule_us\",\n",
    "      \"description\": \"a description\",\n",
    "      \"is_active\": \"false\",\n",
    "      \"output_format\": \"{1}{2}{3}{4}{5}\",\n",
    "      \"pattern\": [\n",
    "            shape_token(shape =[\"X\",\"XX\",\"XXX\",\"XXXX\"],  is_in_output=\"true\"),\n",
    "            punctuation_token(token=[\"^\"],  is_in_output=\"true\"),\n",
    "            shape_token(shape =[\"X\"],  is_in_output=\"true\"),\n",
    "            punctuation_token(token=[\".\"],  is_in_output=\"true\"),\n",
    "            shape_token(shape =[\"XX\"],  is_in_output=\"true\"),\n",
    "\n",
    "            word_token(token=[\"is\",\"was\",\"has\",\"comes\",\"closed\",\"news\",\"price\",\"from\",\"stock\",\"may\",\":\",\"-\", \"'\"],is_in_output=\"false\")\n",
    "\n",
    "      ]\n",
    "    }\n",
    "\n",
    "field_rules = {\n",
    "  \"rules\": [\n",
    "      rule_30\n",
    "  ]\n",
    "}\n",
    "\n",
    "print \"text:\", d['text']\n",
    "results = c.extract_using_custom_spacy(d, config, field_rules=field_rules)\n",
    "tele_lst = []\n",
    "for i in results:\n",
    "    tele_lst.append(''.join((i.values()[1]).split()))\n",
    "tele_lst"
   ]
  },
  {
   "cell_type": "code",
   "execution_count": 243,
   "metadata": {},
   "outputs": [
    {
     "name": "stdout",
     "output_type": "stream",
     "text": [
      "text:  A, BA,  \n",
      " C^J,        BAC,      C-C,         JW.B,    \n",
      " BK^C,       ABRN,     NS-A,  \n",
      " ADK^A,      ABEOW ,    ABC-A,      BAC.A,       HK.WS,  \n",
      " MITT^A,                             HCAC.U,     BTX.WS,     ,       C.WS.A,\n",
      "                                                 IMUC.WS,   \n",
      "                                                                   BAC.WS.A \n",
      " CHSP^A.CL \n",
      " Alibaba Group Holding Ltd (NYSE:BABA) dealt another ,  (NASDAQ:AMZN) this week \n",
      " $USCR, $TSLA \n",
      " common    Stock (AAPL)  \n",
      " Apple    Inc. (AAPL). \n",
      " AMZA - Free Report,  \n",
      "GOOGL 919.46 -10.22 -1.10%,AAPL 146.28 0.65 0.45% :\n",
      "AAPL is looking to, |  for AAPQ was 8.31 For the fiscal y  | ,AAPW has efficiently invested ,| AAPE comes one wee,,AAPR may refer to:  |,AAPl closed at ab|including AAPT news, historical|The bank lowered its AAPY price target to $150, |Earnings estimates for AAPU from thousands of | View the basic AAPO stock chart \n",
      "AAPA: Get the latest Apple, unveiled, \n"
     ]
    },
    {
     "data": {
      "text/plain": [
       "[]"
      ]
     },
     "execution_count": 243,
     "metadata": {},
     "output_type": "execute_result"
    }
   ],
   "source": [
    "# BAC, ABRN, ABEOW ,\n",
    "#\"AAPL: Get the latest Apple, AMZN - Free Report, unveiled, AAPL's \n",
    "rule_31 = {\n",
    "      \"identifier\": \"stock_symbol_rule_us\",\n",
    "      \"description\": \"a description\",\n",
    "      \"is_active\": \"false\",\n",
    "      \"output_format\": \"{1}\",\n",
    "      \"pattern\": [\n",
    "            shape_token(shape =[\"X\",\"XX\",\"XXX\",\"XXXX\",\"XXXXX\"],  is_in_output=\"true\"),\n",
    "            word_token(token=[\"is\",\"was\",\"has\",\"comes\",\"closed\",\"news\",\"price\",\"from\",\"stock\",\"may\",\":\",\"-\", \"'\"],is_in_output=\"false\")\n",
    "\n",
    "      ]\n",
    "    }\n",
    "\n",
    "field_rules = {\n",
    "  \"rules\": [\n",
    "      rule_31\n",
    "  ]\n",
    "}\n",
    "\n",
    "print \"text:\", d['text']\n",
    "results = c.extract_using_custom_spacy(d, config, field_rules=field_rules)\n",
    "tele_lst = []\n",
    "for i in results:\n",
    "    tele_lst.append(''.join((i.values()[1]).split()))\n",
    "tele_lst"
   ]
  },
  {
   "cell_type": "code",
   "execution_count": 244,
   "metadata": {},
   "outputs": [
    {
     "name": "stdout",
     "output_type": "stream",
     "text": [
      "text:  A, BA,  \n",
      " C^J,        BAC,      C-C,         JW.B,    \n",
      " BK^C,       ABRN,     NS-A,  \n",
      " ADK^A,      ABEOW ,    ABC-A,      BAC.A,       HK.WS,  \n",
      " MITT^A,                             HCAC.U,     BTX.WS,     ,       C.WS.A,\n",
      "                                                 IMUC.WS,   \n",
      "                                                                   BAC.WS.A \n",
      " CHSP^A.CL \n",
      " Alibaba Group Holding Ltd (NYSE:BABA) dealt another ,  (NASDAQ:AMZN) this week \n",
      " $USCR, $TSLA \n",
      " common    Stock (AAPL)  \n",
      " Apple    Inc. (AAPL). \n",
      " AMZA - Free Report,  \n",
      "GOOGL 919.46 -10.22 -1.10%,AAPL 146.28 0.65 0.45% :\n",
      "AAPL is looking to, |  for AAPQ was 8.31 For the fiscal y  | ,AAPW has efficiently invested ,| AAPE comes one wee,,AAPR may refer to:  |,AAPl closed at ab|including AAPT news, historical|The bank lowered its AAPY price target to $150, |Earnings estimates for AAPU from thousands of | View the basic AAPO stock chart \n",
      "AAPA: Get the latest Apple, unveiled, \n"
     ]
    },
    {
     "data": {
      "text/plain": [
       "[]"
      ]
     },
     "execution_count": 244,
     "metadata": {},
     "output_type": "execute_result"
    }
   ],
   "source": [
    "# C-C, NS-A, ABC-A,\n",
    "rule_32 = {\n",
    "      \"identifier\": \"stock_symbol_rule_us\",\n",
    "      \"description\": \"a description\",\n",
    "      \"is_active\": \"false\",\n",
    "      \"output_format\": \"{1}{2}{3}\",\n",
    "      \"pattern\": [\n",
    "            shape_token(shape =[\"X\",\"XX\",\"XXX\"],  is_in_output=\"true\"),\n",
    "            punctuation_token(token=[\"-\"],  is_in_output=\"true\"),\n",
    "            shape_token(shape =[\"X\"],  is_in_output=\"true\"),\n",
    "            word_token(token=[\"is\",\"was\",\"has\",\"comes\",\"closed\",\"news\",\"price\",\"from\",\"stock\",\"may\",\":\",\"-\", \"'\"],is_in_output=\"false\")\n",
    "\n",
    "      ]\n",
    "    }\n",
    "\n",
    "field_rules = {\n",
    "  \"rules\": [\n",
    "      rule_32\n",
    "  ]\n",
    "}\n",
    "\n",
    "print \"text:\", d['text']\n",
    "results = c.extract_using_custom_spacy(d, config, field_rules=field_rules)\n",
    "tele_lst = []\n",
    "for i in results:\n",
    "    tele_lst.append(''.join((i.values()[1]).split()))\n",
    "tele_lst"
   ]
  },
  {
   "cell_type": "code",
   "execution_count": 245,
   "metadata": {},
   "outputs": [
    {
     "name": "stdout",
     "output_type": "stream",
     "text": [
      "text:  A, BA,  \n",
      " C^J,        BAC,      C-C,         JW.B,    \n",
      " BK^C,       ABRN,     NS-A,  \n",
      " ADK^A,      ABEOW ,    ABC-A,      BAC.A,       HK.WS,  \n",
      " MITT^A,                             HCAC.U,     BTX.WS,     ,       C.WS.A,\n",
      "                                                 IMUC.WS,   \n",
      "                                                                   BAC.WS.A \n",
      " CHSP^A.CL \n",
      " Alibaba Group Holding Ltd (NYSE:BABA) dealt another ,  (NASDAQ:AMZN) this week \n",
      " $USCR, $TSLA \n",
      " common    Stock (AAPL)  \n",
      " Apple    Inc. (AAPL). \n",
      " AMZA - Free Report,  \n",
      "GOOGL 919.46 -10.22 -1.10%,AAPL 146.28 0.65 0.45% :\n",
      "AAPL is looking to, |  for AAPQ was 8.31 For the fiscal y  | ,AAPW has efficiently invested ,| AAPE comes one wee,,AAPR may refer to:  |,AAPl closed at ab|including AAPT news, historical|The bank lowered its AAPY price target to $150, |Earnings estimates for AAPU from thousands of | View the basic AAPO stock chart \n",
      "AAPA: Get the latest Apple, unveiled, \n"
     ]
    },
    {
     "data": {
      "text/plain": [
       "[]"
      ]
     },
     "execution_count": 245,
     "metadata": {},
     "output_type": "execute_result"
    }
   ],
   "source": [
    "# JW.B, BAC.A, HCAC.U,\n",
    "\n",
    "rule_33 = {\n",
    "      \"identifier\": \"stock_symbol_rule_us\",\n",
    "      \"description\": \"a description\",\n",
    "      \"is_active\": \"false\",\n",
    "      \"output_format\": \"{1}{2}{3}\",\n",
    "      \"pattern\": [\n",
    "            shape_token(shape =[\"XX\",\"XXX\",\"XXXX\"],  is_in_output=\"true\"),\n",
    "            punctuation_token(token=[\".\"],  is_in_output=\"true\"),\n",
    "            shape_token(shape =[\"X\"],  is_in_output=\"true\"),\n",
    "            word_token(token=[\"is\",\"was\",\"has\",\"comes\",\"closed\",\"news\",\"price\",\"from\",\"stock\",\"may\",\":\",\"-\", \"'\"],is_in_output=\"false\")\n",
    "\n",
    "      ]\n",
    "    }\n",
    "\n",
    "field_rules = {\n",
    "  \"rules\": [\n",
    "      rule_33\n",
    "  ]\n",
    "}\n",
    "\n",
    "print \"text:\", d['text']\n",
    "results = c.extract_using_custom_spacy(d, config, field_rules=field_rules)\n",
    "tele_lst = []\n",
    "for i in results:\n",
    "    tele_lst.append(''.join((i.values()[1]).split()))\n",
    "tele_lst"
   ]
  },
  {
   "cell_type": "code",
   "execution_count": 246,
   "metadata": {},
   "outputs": [
    {
     "name": "stdout",
     "output_type": "stream",
     "text": [
      "text:  A, BA,  \n",
      " C^J,        BAC,      C-C,         JW.B,    \n",
      " BK^C,       ABRN,     NS-A,  \n",
      " ADK^A,      ABEOW ,    ABC-A,      BAC.A,       HK.WS,  \n",
      " MITT^A,                             HCAC.U,     BTX.WS,     ,       C.WS.A,\n",
      "                                                 IMUC.WS,   \n",
      "                                                                   BAC.WS.A \n",
      " CHSP^A.CL \n",
      " Alibaba Group Holding Ltd (NYSE:BABA) dealt another ,  (NASDAQ:AMZN) this week \n",
      " $USCR, $TSLA \n",
      " common    Stock (AAPL)  \n",
      " Apple    Inc. (AAPL). \n",
      " AMZA - Free Report,  \n",
      "GOOGL 919.46 -10.22 -1.10%,AAPL 146.28 0.65 0.45% :\n",
      "AAPL is looking to, |  for AAPQ was 8.31 For the fiscal y  | ,AAPW has efficiently invested ,| AAPE comes one wee,,AAPR may refer to:  |,AAPl closed at ab|including AAPT news, historical|The bank lowered its AAPY price target to $150, |Earnings estimates for AAPU from thousands of | View the basic AAPO stock chart \n",
      "AAPA: Get the latest Apple, unveiled, \n"
     ]
    },
    {
     "data": {
      "text/plain": [
       "[]"
      ]
     },
     "execution_count": 246,
     "metadata": {},
     "output_type": "execute_result"
    }
   ],
   "source": [
    "# HK.WS, BTX.WS,  IMUC.WS, \n",
    "\n",
    "rule_34 = {\n",
    "      \"identifier\": \"stock_symbol_rule_us\",\n",
    "      \"description\": \"a description\",\n",
    "      \"is_active\": \"false\",\n",
    "      \"output_format\": \"{1}{2}{3}\",\n",
    "      \"pattern\": [\n",
    "            shape_token(shape =[\"XX\",\"XXX\",\"XXXX\"],  is_in_output=\"true\"),\n",
    "            punctuation_token(token=[\".\"],  is_in_output=\"true\"),\n",
    "            shape_token(shape =[\"XX\"],  is_in_output=\"true\"),\n",
    "            word_token(token=[\"is\",\"was\",\"has\",\"comes\",\"closed\",\"news\",\"price\",\"from\",\"stock\",\"may\",\":\",\"-\", \"'\"],is_in_output=\"false\")\n",
    "\n",
    "      ]\n",
    "    }\n",
    "\n",
    "field_rules = {\n",
    "  \"rules\": [\n",
    "      rule_34\n",
    "  ]\n",
    "}\n",
    "\n",
    "print \"text:\", d['text']\n",
    "results = c.extract_using_custom_spacy(d, config, field_rules=field_rules)\n",
    "tele_lst = []\n",
    "for i in results:\n",
    "    tele_lst.append(''.join((i.values()[1]).split()))\n",
    "tele_lst"
   ]
  },
  {
   "cell_type": "code",
   "execution_count": 247,
   "metadata": {},
   "outputs": [
    {
     "name": "stdout",
     "output_type": "stream",
     "text": [
      "text:  A, BA,  \n",
      " C^J,        BAC,      C-C,         JW.B,    \n",
      " BK^C,       ABRN,     NS-A,  \n",
      " ADK^A,      ABEOW ,    ABC-A,      BAC.A,       HK.WS,  \n",
      " MITT^A,                             HCAC.U,     BTX.WS,     ,       C.WS.A,\n",
      "                                                 IMUC.WS,   \n",
      "                                                                   BAC.WS.A \n",
      " CHSP^A.CL \n",
      " Alibaba Group Holding Ltd (NYSE:BABA) dealt another ,  (NASDAQ:AMZN) this week \n",
      " $USCR, $TSLA \n",
      " common    Stock (AAPL)  \n",
      " Apple    Inc. (AAPL). \n",
      " AMZA - Free Report,  \n",
      "GOOGL 919.46 -10.22 -1.10%,AAPL 146.28 0.65 0.45% :\n",
      "AAPL is looking to, |  for AAPQ was 8.31 For the fiscal y  | ,AAPW has efficiently invested ,| AAPE comes one wee,,AAPR may refer to:  |,AAPl closed at ab|including AAPT news, historical|The bank lowered its AAPY price target to $150, |Earnings estimates for AAPU from thousands of | View the basic AAPO stock chart \n",
      "AAPA: Get the latest Apple, unveiled, \n"
     ]
    },
    {
     "data": {
      "text/plain": [
       "[]"
      ]
     },
     "execution_count": 247,
     "metadata": {},
     "output_type": "execute_result"
    }
   ],
   "source": [
    "# C.WS.A,  BAC.WS.A\n",
    "\n",
    "rule_35 = {\n",
    "      \"identifier\": \"stock_symbol_rule_us\",\n",
    "      \"description\": \"a description\",\n",
    "      \"is_active\": \"false\",\n",
    "      \"output_format\": \"{1}{2}{3}{4}{5}\",\n",
    "      \"pattern\": [\n",
    "            shape_token(shape =[\"X\",\"XXX\"],  is_in_output=\"true\"),\n",
    "            punctuation_token(token=[\".\"],  is_in_output=\"true\"),\n",
    "            shape_token(shape =[\"XX\"],  is_in_output=\"true\"),\n",
    "            punctuation_token(token=[\".\"],  is_in_output=\"true\"),\n",
    "            shape_token(shape =[\"X\"],  is_in_output=\"true\"),\n",
    "            word_token(token=[\"is\",\"was\",\"has\",\"comes\",\"closed\",\"news\",\"price\",\"from\",\"stock\",\"may\",\":\",\"-\", \"'\"],is_in_output=\"false\")\n",
    "\n",
    "\n",
    "      ]\n",
    "    }\n",
    "\n",
    "field_rules = {\n",
    "  \"rules\": [\n",
    "      rule_35\n",
    "  ]\n",
    "}\n",
    "\n",
    "print \"text:\", d['text']\n",
    "results = c.extract_using_custom_spacy(d, config, field_rules=field_rules)\n",
    "tele_lst = []\n",
    "for i in results:\n",
    "    tele_lst.append(''.join((i.values()[1]).split()))\n",
    "tele_lst"
   ]
  },
  {
   "cell_type": "code",
   "execution_count": 248,
   "metadata": {},
   "outputs": [
    {
     "name": "stdout",
     "output_type": "stream",
     "text": [
      "text:  A, BA,  \n",
      " C^J,        BAC,      C-C,         JW.B,    \n",
      " BK^C,       ABRN,     NS-A,  \n",
      " ADK^A,      ABEOW ,    ABC-A,      BAC.A,       HK.WS,  \n",
      " MITT^A,                             HCAC.U,     BTX.WS,     ,       C.WS.A,\n",
      "                                                 IMUC.WS,   \n",
      "                                                                   BAC.WS.A \n",
      " CHSP^A.CL \n",
      " Alibaba Group Holding Ltd (NYSE:BABA) dealt another ,  (NASDAQ:AMZN) this week \n",
      " $USCR, $TSLA \n",
      " common    Stock (AAPL)  \n",
      " Apple    Inc. (AAPL). \n",
      " AMZA - Free Report,  \n",
      "GOOGL 919.46 -10.22 -1.10%,AAPL 146.28 0.65 0.45% :\n",
      "AAPL is looking to, |  for AAPQ was 8.31 For the fiscal y  | ,AAPW has efficiently invested ,| AAPE comes one wee,,AAPR may refer to:  |,AAPl closed at ab|including AAPT news, historical|The bank lowered its AAPY price target to $150, |Earnings estimates for AAPU from thousands of | View the basic AAPO stock chart \n",
      "AAPA: Get the latest Apple, unveiled, \n"
     ]
    },
    {
     "data": {
      "text/plain": [
       "[]"
      ]
     },
     "execution_count": 248,
     "metadata": {},
     "output_type": "execute_result"
    }
   ],
   "source": [
    "# C^J, BK^C, ADK^A, MITT^A,   GOOGL 919.46 -10.22 -1.10%,AAPL 146.28 \n",
    "rule_36 = {\n",
    "      \"identifier\": \"#rule_36 C^J, BK^C, ADK^A, MITT^A, GOOGL 919.46 -10.22 -1.10%,AAPL 146.28 \",\n",
    "      \"description\": \"a description\",\n",
    "      \"is_active\": \"true\",\n",
    "      \"output_format\": \"{1}{2}{3}\",\n",
    "      \"pattern\": [\n",
    "            shape_token(shape =[\"X\",\"XX\",\"XXX\",\"XXXX\"],  is_in_output=\"true\"),\n",
    "            punctuation_token(token=[\"^\"],  is_in_output=\"true\"),\n",
    "            shape_token(shape =[\"X\"],  is_in_output=\"true\"),\n",
    "          \n",
    "            shape_token(shape =[\"ddd\"],is_in_output=\"false\"),\n",
    "            punctuation_token(token=[\".\"],  is_in_output=\"false\"),\n",
    "            shape_token(shape =[\"dd\"],is_in_output=\"false\")\n",
    "\n",
    "      ]\n",
    "    }\n",
    "\n",
    "field_rules = {\n",
    "  \"rules\": [\n",
    "      rule_36\n",
    "  ]\n",
    "}\n",
    "\n",
    "print \"text:\", d['text']\n",
    "results = c.extract_using_custom_spacy(d, config, field_rules=field_rules)\n",
    "tele_lst = []\n",
    "for i in results:\n",
    "    tele_lst.append(''.join((i.values()[1]).split()))\n",
    "tele_lst"
   ]
  },
  {
   "cell_type": "code",
   "execution_count": 249,
   "metadata": {},
   "outputs": [
    {
     "name": "stdout",
     "output_type": "stream",
     "text": [
      "text:  A, BA,  \n",
      " C^J,        BAC,      C-C,         JW.B,    \n",
      " BK^C,       ABRN,     NS-A,  \n",
      " ADK^A,      ABEOW ,    ABC-A,      BAC.A,       HK.WS,  \n",
      " MITT^A,                             HCAC.U,     BTX.WS,     ,       C.WS.A,\n",
      "                                                 IMUC.WS,   \n",
      "                                                                   BAC.WS.A \n",
      " CHSP^A.CL \n",
      " Alibaba Group Holding Ltd (NYSE:BABA) dealt another ,  (NASDAQ:AMZN) this week \n",
      " $USCR, $TSLA \n",
      " common    Stock (AAPL)  \n",
      " Apple    Inc. (AAPL). \n",
      " AMZA - Free Report,  \n",
      "GOOGL 919.46 -10.22 -1.10%,AAPL 146.28 0.65 0.45% :\n",
      "AAPL is looking to, |  for AAPQ was 8.31 For the fiscal y  | ,AAPW has efficiently invested ,| AAPE comes one wee,,AAPR may refer to:  |,AAPl closed at ab|including AAPT news, historical|The bank lowered its AAPY price target to $150, |Earnings estimates for AAPU from thousands of | View the basic AAPO stock chart \n",
      "AAPA: Get the latest Apple, unveiled, \n"
     ]
    },
    {
     "data": {
      "text/plain": [
       "[]"
      ]
     },
     "execution_count": 249,
     "metadata": {},
     "output_type": "execute_result"
    }
   ],
   "source": [
    "# CHSP^A.CL  GOOGL 919.46 -10.22 -1.10%,AAPL 146.28 \n",
    "rule_37 = {\n",
    "      \"identifier\": \"#rule_37 CHSP^A.CL  GOOGL 919.46 -10.22 -1.10%,AAPL 146.28 \",\n",
    "      \"description\": \"a description\",\n",
    "      \"is_active\": \"true\",\n",
    "      \"output_format\": \"{1}{2}{3}{4}{5}{6}\",\n",
    "      \"pattern\": [\n",
    "            shape_token(shape =[\"X\",\"XX\",\"XXX\",\"XXXX\"],  is_in_output=\"true\"),\n",
    "            punctuation_token(token=[\"^\"],  is_in_output=\"true\"),\n",
    "            shape_token(shape =[\"X\"],  is_in_output=\"true\"),\n",
    "            punctuation_token(token=[\".\"],  is_in_output=\"true\"),\n",
    "            shape_token(shape =[\"XX\"],  is_in_output=\"true\"),\n",
    "            shape_token(shape =[\"ddd\"],is_in_output=\"false\"),\n",
    "            punctuation_token(token=[\".\"],  is_in_output=\"true\"),\n",
    "            shape_token(shape =[\"dd\"],is_in_output=\"false\"),\n",
    "          \n",
    "            shape_token(shape =[\"ddd\"],is_in_output=\"false\"),\n",
    "            punctuation_token(token=[\".\"],  is_in_output=\"false\"),\n",
    "            shape_token(shape =[\"dd\"],is_in_output=\"false\")\n",
    "      ]\n",
    "    }\n",
    "\n",
    "field_rules = {\n",
    "  \"rules\": [\n",
    "      rule_37\n",
    "  ]\n",
    "}\n",
    "\n",
    "print \"text:\", d['text']\n",
    "results = c.extract_using_custom_spacy(d, config, field_rules=field_rules)\n",
    "tele_lst = []\n",
    "for i in results:\n",
    "    tele_lst.append(''.join((i.values()[1]).split()))\n",
    "tele_lst"
   ]
  },
  {
   "cell_type": "code",
   "execution_count": 250,
   "metadata": {},
   "outputs": [
    {
     "name": "stdout",
     "output_type": "stream",
     "text": [
      "text:  A, BA,  \n",
      " C^J,        BAC,      C-C,         JW.B,    \n",
      " BK^C,       ABRN,     NS-A,  \n",
      " ADK^A,      ABEOW ,    ABC-A,      BAC.A,       HK.WS,  \n",
      " MITT^A,                             HCAC.U,     BTX.WS,     ,       C.WS.A,\n",
      "                                                 IMUC.WS,   \n",
      "                                                                   BAC.WS.A \n",
      " CHSP^A.CL \n",
      " Alibaba Group Holding Ltd (NYSE:BABA) dealt another ,  (NASDAQ:AMZN) this week \n",
      " $USCR, $TSLA \n",
      " common    Stock (AAPL)  \n",
      " Apple    Inc. (AAPL). \n",
      " AMZA - Free Report,  \n",
      "GOOGL 919.46 -10.22 -1.10%,AAPL 146.28 0.65 0.45% :\n",
      "AAPL is looking to, |  for AAPQ was 8.31 For the fiscal y  | ,AAPW has efficiently invested ,| AAPE comes one wee,,AAPR may refer to:  |,AAPl closed at ab|including AAPT news, historical|The bank lowered its AAPY price target to $150, |Earnings estimates for AAPU from thousands of | View the basic AAPO stock chart \n",
      "AAPA: Get the latest Apple, unveiled, \n"
     ]
    },
    {
     "data": {
      "text/plain": [
       "['GOOGL', 'AAPL']"
      ]
     },
     "execution_count": 250,
     "metadata": {},
     "output_type": "execute_result"
    }
   ],
   "source": [
    "# BAC, ABRN, ABEOW ,  GOOGL 919.46 -10.22 -1.10%,AAPL 146.28 \n",
    "\n",
    "rule_38 = {\n",
    "      \"identifier\": \"#rule_38  BAC, ABRN, ABEOW ,  GOOGL 919.46 -10.22 -1.10%,AAPL 146.28 \",\n",
    "      \"description\": \"a description\",\n",
    "      \"is_active\": \"true\",\n",
    "      \"output_format\": \"{1}\",\n",
    "      \"pattern\": [\n",
    "            shape_token(shape =[\"X\",\"XX\",\"XXX\",\"XXXX\",\"XXXXX\"],  is_in_output=\"true\"),\n",
    "          \n",
    "            shape_token(shape =[\"ddd\"],is_in_output=\"false\"),\n",
    "            punctuation_token(token=[\".\"],  is_in_output=\"false\"),\n",
    "            shape_token(shape =[\"dd\"],is_in_output=\"false\")\n",
    "      ]\n",
    "    }\n",
    "\n",
    "field_rules = {\n",
    "  \"rules\": [\n",
    "      rule_38\n",
    "  ]\n",
    "}\n",
    "\n",
    "print \"text:\", d['text']\n",
    "results = c.extract_using_custom_spacy(d, config, field_rules=field_rules)\n",
    "tele_lst = []\n",
    "for i in results:\n",
    "    tele_lst.append(''.join((i.values()[1]).split()))\n",
    "tele_lst"
   ]
  },
  {
   "cell_type": "code",
   "execution_count": 251,
   "metadata": {},
   "outputs": [
    {
     "name": "stdout",
     "output_type": "stream",
     "text": [
      "text:  A, BA,  \n",
      " C^J,        BAC,      C-C,         JW.B,    \n",
      " BK^C,       ABRN,     NS-A,  \n",
      " ADK^A,      ABEOW ,    ABC-A,      BAC.A,       HK.WS,  \n",
      " MITT^A,                             HCAC.U,     BTX.WS,     ,       C.WS.A,\n",
      "                                                 IMUC.WS,   \n",
      "                                                                   BAC.WS.A \n",
      " CHSP^A.CL \n",
      " Alibaba Group Holding Ltd (NYSE:BABA) dealt another ,  (NASDAQ:AMZN) this week \n",
      " $USCR, $TSLA \n",
      " common    Stock (AAPL)  \n",
      " Apple    Inc. (AAPL). \n",
      " AMZA - Free Report,  \n",
      "GOOGL 919.46 -10.22 -1.10%,AAPL 146.28 0.65 0.45% :\n",
      "AAPL is looking to, |  for AAPQ was 8.31 For the fiscal y  | ,AAPW has efficiently invested ,| AAPE comes one wee,,AAPR may refer to:  |,AAPl closed at ab|including AAPT news, historical|The bank lowered its AAPY price target to $150, |Earnings estimates for AAPU from thousands of | View the basic AAPO stock chart \n",
      "AAPA: Get the latest Apple, unveiled, \n"
     ]
    },
    {
     "data": {
      "text/plain": [
       "[]"
      ]
     },
     "execution_count": 251,
     "metadata": {},
     "output_type": "execute_result"
    }
   ],
   "source": [
    "# C-C, NS-A, ABC-A,   GOOGL 919.46 -10.22 -1.10%,AAPL 146.28 \n",
    "rule_39 = {\n",
    "      \"identifier\": \"#rule_39 C-C, NS-A, ABC-A,   GOOGL 919.46 -10.22 -1.10%,AAPL 146.28 \",\n",
    "      \"description\": \"a description\",\n",
    "      \"is_active\": \"true\",\n",
    "      \"output_format\": \"{1}{2}{3}\",\n",
    "      \"pattern\": [\n",
    "            shape_token(shape =[\"X\",\"XX\",\"XXX\"],  is_in_output=\"true\"),\n",
    "            punctuation_token(token=[\"-\"],  is_in_output=\"true\"),\n",
    "            shape_token(shape =[\"X\"],  is_in_output=\"true\"),\n",
    "          \n",
    "            shape_token(shape =[\"ddd\"],is_in_output=\"false\"),\n",
    "            punctuation_token(token=[\".\"],  is_in_output=\"false\"),\n",
    "            shape_token(shape =[\"dd\"],is_in_output=\"false\")\n",
    "      ]\n",
    "    }\n",
    "\n",
    "field_rules = {\n",
    "  \"rules\": [\n",
    "      rule_39\n",
    "  ]\n",
    "}\n",
    "\n",
    "print \"text:\", d['text']\n",
    "results = c.extract_using_custom_spacy(d, config, field_rules=field_rules)\n",
    "tele_lst = []\n",
    "for i in results:\n",
    "    tele_lst.append(''.join((i.values()[1]).split()))\n",
    "tele_lst"
   ]
  },
  {
   "cell_type": "code",
   "execution_count": 252,
   "metadata": {},
   "outputs": [
    {
     "name": "stdout",
     "output_type": "stream",
     "text": [
      "text:  A, BA,  \n",
      " C^J,        BAC,      C-C,         JW.B,    \n",
      " BK^C,       ABRN,     NS-A,  \n",
      " ADK^A,      ABEOW ,    ABC-A,      BAC.A,       HK.WS,  \n",
      " MITT^A,                             HCAC.U,     BTX.WS,     ,       C.WS.A,\n",
      "                                                 IMUC.WS,   \n",
      "                                                                   BAC.WS.A \n",
      " CHSP^A.CL \n",
      " Alibaba Group Holding Ltd (NYSE:BABA) dealt another ,  (NASDAQ:AMZN) this week \n",
      " $USCR, $TSLA \n",
      " common    Stock (AAPL)  \n",
      " Apple    Inc. (AAPL). \n",
      " AMZA - Free Report,  \n",
      "GOOGL 919.46 -10.22 -1.10%,AAPL 146.28 0.65 0.45% :\n",
      "AAPL is looking to, |  for AAPQ was 8.31 For the fiscal y  | ,AAPW has efficiently invested ,| AAPE comes one wee,,AAPR may refer to:  |,AAPl closed at ab|including AAPT news, historical|The bank lowered its AAPY price target to $150, |Earnings estimates for AAPU from thousands of | View the basic AAPO stock chart \n",
      "AAPA: Get the latest Apple, unveiled, \n"
     ]
    },
    {
     "data": {
      "text/plain": [
       "[]"
      ]
     },
     "execution_count": 252,
     "metadata": {},
     "output_type": "execute_result"
    }
   ],
   "source": [
    "# JW.B, BAC.A, HCAC.U,   GOOGL 919.46 -10.22 -1.10%,AAPL 146.28 \n",
    "\n",
    "rule_40 = {\n",
    "      \"identifier\": \"#rule_40 JW.B, BAC.A, HCAC.U,   GOOGL 919.46 -10.22 -1.10%,AAPL 146.28 \",\n",
    "      \"description\": \"a description\",\n",
    "      \"is_active\": \"true\",\n",
    "      \"output_format\": \"{1}{2}{3}\",\n",
    "      \"pattern\": [\n",
    "            shape_token(shape =[\"XX\",\"XXX\",\"XXXX\"],  is_in_output=\"true\"),\n",
    "            punctuation_token(token=[\".\"],  is_in_output=\"true\"),\n",
    "            shape_token(shape =[\"X\"],  is_in_output=\"true\"),\n",
    "          \n",
    "            shape_token(shape =[\"ddd\"],is_in_output=\"false\"),\n",
    "            punctuation_token(token=[\".\"],  is_in_output=\"false\"),\n",
    "            shape_token(shape =[\"dd\"],is_in_output=\"false\")\n",
    "      ]\n",
    "    }\n",
    "\n",
    "field_rules = {\n",
    "  \"rules\": [\n",
    "      rule_40\n",
    "  ]\n",
    "}\n",
    "\n",
    "print \"text:\", d['text']\n",
    "results = c.extract_using_custom_spacy(d, config, field_rules=field_rules)\n",
    "tele_lst = []\n",
    "for i in results:\n",
    "    tele_lst.append(''.join((i.values()[1]).split()))\n",
    "tele_lst"
   ]
  },
  {
   "cell_type": "code",
   "execution_count": 253,
   "metadata": {},
   "outputs": [
    {
     "name": "stdout",
     "output_type": "stream",
     "text": [
      "text:  A, BA,  \n",
      " C^J,        BAC,      C-C,         JW.B,    \n",
      " BK^C,       ABRN,     NS-A,  \n",
      " ADK^A,      ABEOW ,    ABC-A,      BAC.A,       HK.WS,  \n",
      " MITT^A,                             HCAC.U,     BTX.WS,     ,       C.WS.A,\n",
      "                                                 IMUC.WS,   \n",
      "                                                                   BAC.WS.A \n",
      " CHSP^A.CL \n",
      " Alibaba Group Holding Ltd (NYSE:BABA) dealt another ,  (NASDAQ:AMZN) this week \n",
      " $USCR, $TSLA \n",
      " common    Stock (AAPL)  \n",
      " Apple    Inc. (AAPL). \n",
      " AMZA - Free Report,  \n",
      "GOOGL 919.46 -10.22 -1.10%,AAPL 146.28 0.65 0.45% :\n",
      "AAPL is looking to, |  for AAPQ was 8.31 For the fiscal y  | ,AAPW has efficiently invested ,| AAPE comes one wee,,AAPR may refer to:  |,AAPl closed at ab|including AAPT news, historical|The bank lowered its AAPY price target to $150, |Earnings estimates for AAPU from thousands of | View the basic AAPO stock chart \n",
      "AAPA: Get the latest Apple, unveiled, \n"
     ]
    },
    {
     "data": {
      "text/plain": [
       "[]"
      ]
     },
     "execution_count": 253,
     "metadata": {},
     "output_type": "execute_result"
    }
   ],
   "source": [
    "# HK.WS, BTX.WS,  IMUC.WS,   GOOGL 919.46 -10.22 -1.10%,AAPL 146.28 \n",
    "\n",
    "rule_41 = {\n",
    "      \"identifier\": \"#rule_41 HK.WS, BTX.WS,  IMUC.WS, GOOGL 919.46 -10.22 -1.10%,AAPL 146.28 \",\n",
    "      \"description\": \"a description\",\n",
    "      \"is_active\": \"true\",\n",
    "      \"output_format\": \"{1}{2}{3}\",\n",
    "      \"pattern\": [\n",
    "            shape_token(shape =[\"XX\",\"XXX\",\"XXXX\"],  is_in_output=\"true\"),\n",
    "            punctuation_token(token=[\".\"],  is_in_output=\"true\"),\n",
    "            shape_token(shape =[\"XX\"],  is_in_output=\"true\"),\n",
    "          \n",
    "            shape_token(shape =[\"ddd\"],is_in_output=\"false\"),\n",
    "            punctuation_token(token=[\".\"],  is_in_output=\"false\"),\n",
    "            shape_token(shape =[\"dd\"],is_in_output=\"false\")\n",
    "      ]\n",
    "    }\n",
    "\n",
    "field_rules = {\n",
    "  \"rules\": [\n",
    "      rule_41\n",
    "  ]\n",
    "}\n",
    "\n",
    "print \"text:\", d['text']\n",
    "results = c.extract_using_custom_spacy(d, config, field_rules=field_rules)\n",
    "tele_lst = []\n",
    "for i in results:\n",
    "    tele_lst.append(''.join((i.values()[1]).split()))\n",
    "tele_lst"
   ]
  },
  {
   "cell_type": "code",
   "execution_count": 254,
   "metadata": {
    "scrolled": true
   },
   "outputs": [
    {
     "name": "stdout",
     "output_type": "stream",
     "text": [
      "text:  A, BA,  \n",
      " C^J,        BAC,      C-C,         JW.B,    \n",
      " BK^C,       ABRN,     NS-A,  \n",
      " ADK^A,      ABEOW ,    ABC-A,      BAC.A,       HK.WS,  \n",
      " MITT^A,                             HCAC.U,     BTX.WS,     ,       C.WS.A,\n",
      "                                                 IMUC.WS,   \n",
      "                                                                   BAC.WS.A \n",
      " CHSP^A.CL \n",
      " Alibaba Group Holding Ltd (NYSE:BABA) dealt another ,  (NASDAQ:AMZN) this week \n",
      " $USCR, $TSLA \n",
      " common    Stock (AAPL)  \n",
      " Apple    Inc. (AAPL). \n",
      " AMZA - Free Report,  \n",
      "GOOGL 919.46 -10.22 -1.10%,AAPL 146.28 0.65 0.45% :\n",
      "AAPL is looking to, |  for AAPQ was 8.31 For the fiscal y  | ,AAPW has efficiently invested ,| AAPE comes one wee,,AAPR may refer to:  |,AAPl closed at ab|including AAPT news, historical|The bank lowered its AAPY price target to $150, |Earnings estimates for AAPU from thousands of | View the basic AAPO stock chart \n",
      "AAPA: Get the latest Apple, unveiled, \n"
     ]
    },
    {
     "data": {
      "text/plain": [
       "[]"
      ]
     },
     "execution_count": 254,
     "metadata": {},
     "output_type": "execute_result"
    }
   ],
   "source": [
    "# C.WS.A,  BAC.WS.A GOOGL 919.46 -10.22 -1.10%,AAPL 146.28 \n",
    "\n",
    "rule_42 = {\n",
    "      \"identifier\": \"#rule_42 C.WS.A,  BAC.WS.A GOOGL 919.46 -10.22 -1.10%,AAPL 146.28 \",\n",
    "      \"description\": \"a description\",\n",
    "      \"is_active\": \"true\",\n",
    "      \"output_format\": \"{1}{2}{3}{4}{5}\",\n",
    "      \"pattern\": [\n",
    "            shape_token(shape =[\"X\",\"XXX\"],  is_in_output=\"true\"),\n",
    "            punctuation_token(token=[\".\"],  is_in_output=\"true\"),\n",
    "            shape_token(shape =[\"XX\"],  is_in_output=\"true\"),\n",
    "            punctuation_token(token=[\".\"],  is_in_output=\"true\"),\n",
    "            shape_token(shape =[\"X\"],  is_in_output=\"true\"),\n",
    "\n",
    "            shape_token(shape =[\"ddd\"],is_in_output=\"false\"),\n",
    "            punctuation_token(token=[\".\"],  is_in_output=\"false\"),\n",
    "            shape_token(shape =[\"dd\"],is_in_output=\"false\")\n",
    "\n",
    "      ]\n",
    "    }\n",
    "\n",
    "field_rules = {\n",
    "  \"rules\": [\n",
    "      rule_42\n",
    "  ]\n",
    "}\n",
    "\n",
    "print \"text:\", d['text']\n",
    "results = c.extract_using_custom_spacy(d, config, field_rules=field_rules)\n",
    "tele_lst = []\n",
    "for i in results:\n",
    "    tele_lst.append(''.join((i.values()[1]).split()))\n",
    "tele_lst"
   ]
  },
  {
   "cell_type": "code",
   "execution_count": 255,
   "metadata": {},
   "outputs": [
    {
     "name": "stdout",
     "output_type": "stream",
     "text": [
      "text:  A, BA,  \n",
      " C^J,        BAC,      C-C,         JW.B,    \n",
      " BK^C,       ABRN,     NS-A,  \n",
      " ADK^A,      ABEOW ,    ABC-A,      BAC.A,       HK.WS,  \n",
      " MITT^A,                             HCAC.U,     BTX.WS,     ,       C.WS.A,\n",
      "                                                 IMUC.WS,   \n",
      "                                                                   BAC.WS.A \n",
      " CHSP^A.CL \n",
      " Alibaba Group Holding Ltd (NYSE:BABA) dealt another ,  (NASDAQ:AMZN) this week \n",
      " $USCR, $TSLA \n",
      " common    Stock (AAPL)  \n",
      " Apple    Inc. (AAPL). \n",
      " AMZA - Free Report,  \n",
      "GOOGL 919.46 -10.22 -1.10%,AAPL 146.28 0.65 0.45% :\n",
      "AAPL is looking to, |  for AAPQ was 8.31 For the fiscal y  | ,AAPW has efficiently invested ,| AAPE comes one wee,,AAPR may refer to:  |,AAPl closed at ab|including AAPT news, historical|The bank lowered its AAPY price target to $150, |Earnings estimates for AAPU from thousands of | View the basic AAPO stock chart \n",
      "AAPA: Get the latest Apple, unveiled, \n"
     ]
    },
    {
     "data": {
      "text/plain": [
       "[]"
      ]
     },
     "execution_count": 255,
     "metadata": {},
     "output_type": "execute_result"
    }
   ],
   "source": [
    "# C^J, BK^C, ADK^A, MITT^A,       Apple Inc. (AAPL).\n",
    "\n",
    "rule_43 = {\n",
    "      \"identifier\": \"#rule_43 C^J, BK^C, ADK^A, MITT^A,       Apple Inc. (AAPL).\",\n",
    "      \"description\": \"a description\",\n",
    "      \"is_active\": \"true\",\n",
    "      \"output_format\": \"{1}{2}{3}\",\n",
    "      \"pattern\": [\n",
    "            word_token(token=[\"Inc\"],is_in_output=\"false\"),\n",
    "            punctuation_token(token=[\".\"],is_required=\"false\"),\n",
    "            punctuation_token(token=[\"(\"],  is_in_output=\"false\"),\n",
    "          \n",
    "            shape_token(shape =[\"X\",\"XX\",\"XXX\",\"XXXX\"],  is_in_output=\"true\"),\n",
    "            punctuation_token(token=[\"^\"],  is_in_output=\"true\"),\n",
    "            shape_token(shape =[\"X\"],  is_in_output=\"true\"),\n",
    "          \n",
    "            punctuation_token(token=[\")\"],  is_in_output=\"false\")\n",
    "\n",
    "      ]\n",
    "    }\n",
    "\n",
    "field_rules = {\n",
    "  \"rules\": [\n",
    "      rule_43\n",
    "  ]\n",
    "}\n",
    "\n",
    "print \"text:\", d['text']\n",
    "results = c.extract_using_custom_spacy(d, config, field_rules=field_rules)\n",
    "tele_lst = []\n",
    "for i in results:\n",
    "    tele_lst.append(''.join((i.values()[1]).split()))\n",
    "tele_lst"
   ]
  },
  {
   "cell_type": "code",
   "execution_count": 256,
   "metadata": {},
   "outputs": [
    {
     "name": "stdout",
     "output_type": "stream",
     "text": [
      "text:  A, BA,  \n",
      " C^J,        BAC,      C-C,         JW.B,    \n",
      " BK^C,       ABRN,     NS-A,  \n",
      " ADK^A,      ABEOW ,    ABC-A,      BAC.A,       HK.WS,  \n",
      " MITT^A,                             HCAC.U,     BTX.WS,     ,       C.WS.A,\n",
      "                                                 IMUC.WS,   \n",
      "                                                                   BAC.WS.A \n",
      " CHSP^A.CL \n",
      " Alibaba Group Holding Ltd (NYSE:BABA) dealt another ,  (NASDAQ:AMZN) this week \n",
      " $USCR, $TSLA \n",
      " common    Stock (AAPL)  \n",
      " Apple    Inc. (AAPL). \n",
      " AMZA - Free Report,  \n",
      "GOOGL 919.46 -10.22 -1.10%,AAPL 146.28 0.65 0.45% :\n",
      "AAPL is looking to, |  for AAPQ was 8.31 For the fiscal y  | ,AAPW has efficiently invested ,| AAPE comes one wee,,AAPR may refer to:  |,AAPl closed at ab|including AAPT news, historical|The bank lowered its AAPY price target to $150, |Earnings estimates for AAPU from thousands of | View the basic AAPO stock chart \n",
      "AAPA: Get the latest Apple, unveiled, \n"
     ]
    },
    {
     "data": {
      "text/plain": [
       "[]"
      ]
     },
     "execution_count": 256,
     "metadata": {},
     "output_type": "execute_result"
    }
   ],
   "source": [
    "# CHSP^A.CL   Apple Inc. (AAPL).\n",
    "rule_44 = {\n",
    "      \"identifier\": \"#rule_44 CHSP^A.CL   Apple Inc. (AAPL).\",\n",
    "      \"description\": \"a description\",\n",
    "      \"is_active\": \"true\",\n",
    "      \"output_format\": \"{1}{2}{3}{4}{5}\",\n",
    "      \"pattern\": [\n",
    "            word_token(token=[\"Inc\"],is_in_output=\"false\"),\n",
    "            punctuation_token(token=[\".\"],is_required=\"false\"),\n",
    "            punctuation_token(token=[\"(\"],  is_in_output=\"false\"),\n",
    "\n",
    "            shape_token(shape =[\"X\",\"XX\",\"XXX\",\"XXXX\"],  is_in_output=\"true\"),\n",
    "            punctuation_token(token=[\"^\"],  is_in_output=\"true\"),\n",
    "            shape_token(shape =[\"X\"],  is_in_output=\"true\"),\n",
    "            punctuation_token(token=[\".\"],  is_in_output=\"true\"),\n",
    "            shape_token(shape =[\"XX\"],  is_in_output=\"true\"),\n",
    "          \n",
    "            punctuation_token(token=[\")\"],  is_in_output=\"false\")\n",
    "      ]\n",
    "    }\n",
    "\n",
    "field_rules = {\n",
    "  \"rules\": [\n",
    "      rule_44\n",
    "  ]\n",
    "}\n",
    "\n",
    "print \"text:\", d['text']\n",
    "results = c.extract_using_custom_spacy(d, config, field_rules=field_rules)\n",
    "tele_lst = []\n",
    "for i in results:\n",
    "    tele_lst.append(''.join((i.values()[1]).split()))\n",
    "tele_lst"
   ]
  },
  {
   "cell_type": "code",
   "execution_count": 257,
   "metadata": {},
   "outputs": [
    {
     "name": "stdout",
     "output_type": "stream",
     "text": [
      "text:  A, BA,  \n",
      " C^J,        BAC,      C-C,         JW.B,    \n",
      " BK^C,       ABRN,     NS-A,  \n",
      " ADK^A,      ABEOW ,    ABC-A,      BAC.A,       HK.WS,  \n",
      " MITT^A,                             HCAC.U,     BTX.WS,     ,       C.WS.A,\n",
      "                                                 IMUC.WS,   \n",
      "                                                                   BAC.WS.A \n",
      " CHSP^A.CL \n",
      " Alibaba Group Holding Ltd (NYSE:BABA) dealt another ,  (NASDAQ:AMZN) this week \n",
      " $USCR, $TSLA \n",
      " common    Stock (AAPL)  \n",
      " Apple    Inc. (AAPL). \n",
      " AMZA - Free Report,  \n",
      "GOOGL 919.46 -10.22 -1.10%,AAPL 146.28 0.65 0.45% :\n",
      "AAPL is looking to, |  for AAPQ was 8.31 For the fiscal y  | ,AAPW has efficiently invested ,| AAPE comes one wee,,AAPR may refer to:  |,AAPl closed at ab|including AAPT news, historical|The bank lowered its AAPY price target to $150, |Earnings estimates for AAPU from thousands of | View the basic AAPO stock chart \n",
      "AAPA: Get the latest Apple, unveiled, \n"
     ]
    },
    {
     "data": {
      "text/plain": [
       "['AAPL']"
      ]
     },
     "execution_count": 257,
     "metadata": {},
     "output_type": "execute_result"
    }
   ],
   "source": [
    "# BAC, ABRN, ABEOW ,  Apple Inc. (AAPL).\n",
    "\n",
    "rule_45 = {\n",
    "      \"identifier\": \"#rule_45 BAC, ABRN, ABEOW ,  Apple Inc. (AAPL).\",\n",
    "      \"description\": \"a description\",\n",
    "      \"is_active\": \"true\",\n",
    "      \"output_format\": \"{1}\",\n",
    "      \"pattern\": [\n",
    "            word_token(token=[\"Inc\"],is_in_output=\"false\"),\n",
    "            punctuation_token(token=[\".\"],is_required=\"false\"),\n",
    "            punctuation_token(token=[\"(\"],  is_in_output=\"false\"),\n",
    "\n",
    "            shape_token(shape =[\"X\",\"XX\",\"XXX\",\"XXXX\",\"XXXXX\"],  is_in_output=\"true\"),\n",
    "          \n",
    "            punctuation_token(token=[\")\"],  is_in_output=\"false\")\n",
    "\n",
    "      ]\n",
    "    }\n",
    "\n",
    "field_rules = {\n",
    "  \"rules\": [\n",
    "      rule_45\n",
    "  ]\n",
    "}\n",
    "\n",
    "print \"text:\", d['text']\n",
    "results = c.extract_using_custom_spacy(d, config, field_rules=field_rules)\n",
    "tele_lst = []\n",
    "for i in results:\n",
    "    tele_lst.append(''.join((i.values()[1]).split()))\n",
    "tele_lst"
   ]
  },
  {
   "cell_type": "code",
   "execution_count": 258,
   "metadata": {},
   "outputs": [
    {
     "name": "stdout",
     "output_type": "stream",
     "text": [
      "text:  A, BA,  \n",
      " C^J,        BAC,      C-C,         JW.B,    \n",
      " BK^C,       ABRN,     NS-A,  \n",
      " ADK^A,      ABEOW ,    ABC-A,      BAC.A,       HK.WS,  \n",
      " MITT^A,                             HCAC.U,     BTX.WS,     ,       C.WS.A,\n",
      "                                                 IMUC.WS,   \n",
      "                                                                   BAC.WS.A \n",
      " CHSP^A.CL \n",
      " Alibaba Group Holding Ltd (NYSE:BABA) dealt another ,  (NASDAQ:AMZN) this week \n",
      " $USCR, $TSLA \n",
      " common    Stock (AAPL)  \n",
      " Apple    Inc. (AAPL). \n",
      " AMZA - Free Report,  \n",
      "GOOGL 919.46 -10.22 -1.10%,AAPL 146.28 0.65 0.45% :\n",
      "AAPL is looking to, |  for AAPQ was 8.31 For the fiscal y  | ,AAPW has efficiently invested ,| AAPE comes one wee,,AAPR may refer to:  |,AAPl closed at ab|including AAPT news, historical|The bank lowered its AAPY price target to $150, |Earnings estimates for AAPU from thousands of | View the basic AAPO stock chart \n",
      "AAPA: Get the latest Apple, unveiled, \n"
     ]
    },
    {
     "data": {
      "text/plain": [
       "[]"
      ]
     },
     "execution_count": 258,
     "metadata": {},
     "output_type": "execute_result"
    }
   ],
   "source": [
    "# C-C, NS-A, ABC-A,   Apple Inc. (AAPL).\n",
    "rule_46 = {\n",
    "      \"identifier\": \"#rule_46 C-C, NS-A, ABC-A,    Apple Inc. (AAPL).\",\n",
    "      \"description\": \"a description\",\n",
    "      \"is_active\": \"true\",\n",
    "      \"output_format\": \"{1}{2}{3}\",\n",
    "      \"pattern\": [\n",
    "            word_token(token=[\"Inc\"],is_in_output=\"false\"),\n",
    "            punctuation_token(token=[\".\"],is_required=\"false\"),\n",
    "            punctuation_token(token=[\"(\"],  is_in_output=\"false\"),\n",
    "\n",
    "            shape_token(shape =[\"X\",\"XX\",\"XXX\"],  is_in_output=\"true\"),\n",
    "            punctuation_token(token=[\"-\"],  is_in_output=\"true\"),\n",
    "            shape_token(shape =[\"X\"],  is_in_output=\"true\"),\n",
    "\n",
    "            punctuation_token(token=[\")\"],  is_in_output=\"false\")\n",
    "\n",
    "      ]\n",
    "    }\n",
    "\n",
    "field_rules = {\n",
    "  \"rules\": [\n",
    "      rule_46\n",
    "  ]\n",
    "}\n",
    "\n",
    "print \"text:\", d['text']\n",
    "results = c.extract_using_custom_spacy(d, config, field_rules=field_rules)\n",
    "tele_lst = []\n",
    "for i in results:\n",
    "    tele_lst.append(''.join((i.values()[1]).split()))\n",
    "tele_lst"
   ]
  },
  {
   "cell_type": "code",
   "execution_count": 259,
   "metadata": {},
   "outputs": [
    {
     "name": "stdout",
     "output_type": "stream",
     "text": [
      "text:  A, BA,  \n",
      " C^J,        BAC,      C-C,         JW.B,    \n",
      " BK^C,       ABRN,     NS-A,  \n",
      " ADK^A,      ABEOW ,    ABC-A,      BAC.A,       HK.WS,  \n",
      " MITT^A,                             HCAC.U,     BTX.WS,     ,       C.WS.A,\n",
      "                                                 IMUC.WS,   \n",
      "                                                                   BAC.WS.A \n",
      " CHSP^A.CL \n",
      " Alibaba Group Holding Ltd (NYSE:BABA) dealt another ,  (NASDAQ:AMZN) this week \n",
      " $USCR, $TSLA \n",
      " common    Stock (AAPL)  \n",
      " Apple    Inc. (AAPL). \n",
      " AMZA - Free Report,  \n",
      "GOOGL 919.46 -10.22 -1.10%,AAPL 146.28 0.65 0.45% :\n",
      "AAPL is looking to, |  for AAPQ was 8.31 For the fiscal y  | ,AAPW has efficiently invested ,| AAPE comes one wee,,AAPR may refer to:  |,AAPl closed at ab|including AAPT news, historical|The bank lowered its AAPY price target to $150, |Earnings estimates for AAPU from thousands of | View the basic AAPO stock chart \n",
      "AAPA: Get the latest Apple, unveiled, \n"
     ]
    },
    {
     "data": {
      "text/plain": [
       "[]"
      ]
     },
     "execution_count": 259,
     "metadata": {},
     "output_type": "execute_result"
    }
   ],
   "source": [
    "# JW.B, BAC.A, HCAC.U,   Apple Inc. (AAPL).\n",
    "\n",
    "rule_47 = {\n",
    "      \"identifier\": \"#rule_47 JW.B, BAC.A, HCAC.U,   Apple Inc. (AAPL).\",\n",
    "      \"description\": \"a description\",\n",
    "      \"is_active\": \"true\",\n",
    "      \"output_format\": \"{1}{2}{3}\",\n",
    "      \"pattern\": [\n",
    "            word_token(token=[\"Inc\"],is_in_output=\"false\"),\n",
    "            punctuation_token(token=[\".\"],is_required=\"false\"),\n",
    "            punctuation_token(token=[\"(\"],  is_in_output=\"false\"),\n",
    "\n",
    "            shape_token(shape =[\"XX\",\"XXX\",\"XXXX\"],  is_in_output=\"true\"),\n",
    "            punctuation_token(token=[\".\"],  is_in_output=\"true\"),\n",
    "            shape_token(shape =[\"X\"],  is_in_output=\"true\"),\n",
    "\n",
    "            punctuation_token(token=[\")\"],  is_in_output=\"false\")\n",
    "\n",
    "      ]\n",
    "    }\n",
    "\n",
    "field_rules = {\n",
    "  \"rules\": [\n",
    "      rule_47\n",
    "  ]\n",
    "}\n",
    "\n",
    "print \"text:\", d['text']\n",
    "results = c.extract_using_custom_spacy(d, config, field_rules=field_rules)\n",
    "tele_lst = []\n",
    "for i in results:\n",
    "    tele_lst.append(''.join((i.values()[1]).split()))\n",
    "tele_lst"
   ]
  },
  {
   "cell_type": "code",
   "execution_count": 260,
   "metadata": {},
   "outputs": [
    {
     "name": "stdout",
     "output_type": "stream",
     "text": [
      "text:  A, BA,  \n",
      " C^J,        BAC,      C-C,         JW.B,    \n",
      " BK^C,       ABRN,     NS-A,  \n",
      " ADK^A,      ABEOW ,    ABC-A,      BAC.A,       HK.WS,  \n",
      " MITT^A,                             HCAC.U,     BTX.WS,     ,       C.WS.A,\n",
      "                                                 IMUC.WS,   \n",
      "                                                                   BAC.WS.A \n",
      " CHSP^A.CL \n",
      " Alibaba Group Holding Ltd (NYSE:BABA) dealt another ,  (NASDAQ:AMZN) this week \n",
      " $USCR, $TSLA \n",
      " common    Stock (AAPL)  \n",
      " Apple    Inc. (AAPL). \n",
      " AMZA - Free Report,  \n",
      "GOOGL 919.46 -10.22 -1.10%,AAPL 146.28 0.65 0.45% :\n",
      "AAPL is looking to, |  for AAPQ was 8.31 For the fiscal y  | ,AAPW has efficiently invested ,| AAPE comes one wee,,AAPR may refer to:  |,AAPl closed at ab|including AAPT news, historical|The bank lowered its AAPY price target to $150, |Earnings estimates for AAPU from thousands of | View the basic AAPO stock chart \n",
      "AAPA: Get the latest Apple, unveiled, \n"
     ]
    },
    {
     "data": {
      "text/plain": [
       "[]"
      ]
     },
     "execution_count": 260,
     "metadata": {},
     "output_type": "execute_result"
    }
   ],
   "source": [
    "# HK.WS, BTX.WS,  IMUC.WS,     Apple Inc. (AAPL).\n",
    "\n",
    "rule_48 = {\n",
    "      \"identifier\": \"#rule_48 HK.WS, BTX.WS,  IMUC.WS,     Apple Inc. (AAPL).\",\n",
    "      \"description\": \"a description\",\n",
    "      \"is_active\": \"true\",\n",
    "      \"output_format\": \"{1}{2}{3}\",\n",
    "      \"pattern\": [\n",
    "            word_token(token=[\"Inc\"],is_in_output=\"false\"),\n",
    "            punctuation_token(token=[\".\"],is_required=\"false\"),\n",
    "            punctuation_token(token=[\"(\"],  is_in_output=\"false\"),\n",
    "\n",
    "            shape_token(shape =[\"XX\",\"XXX\",\"XXXX\"],  is_in_output=\"true\"),\n",
    "            punctuation_token(token=[\".\"],  is_in_output=\"true\"),\n",
    "            shape_token(shape =[\"XX\"],  is_in_output=\"true\"),\n",
    "          \n",
    "            punctuation_token(token=[\")\"],  is_in_output=\"false\")\n",
    "\n",
    "      ]\n",
    "    }\n",
    "\n",
    "field_rules = {\n",
    "  \"rules\": [\n",
    "      rule_48\n",
    "  ]\n",
    "}\n",
    "\n",
    "print \"text:\", d['text']\n",
    "results = c.extract_using_custom_spacy(d, config, field_rules=field_rules)\n",
    "tele_lst = []\n",
    "for i in results:\n",
    "    tele_lst.append(''.join((i.values()[1]).split()))\n",
    "tele_lst"
   ]
  },
  {
   "cell_type": "code",
   "execution_count": 261,
   "metadata": {},
   "outputs": [
    {
     "name": "stdout",
     "output_type": "stream",
     "text": [
      "text:  A, BA,  \n",
      " C^J,        BAC,      C-C,         JW.B,    \n",
      " BK^C,       ABRN,     NS-A,  \n",
      " ADK^A,      ABEOW ,    ABC-A,      BAC.A,       HK.WS,  \n",
      " MITT^A,                             HCAC.U,     BTX.WS,     ,       C.WS.A,\n",
      "                                                 IMUC.WS,   \n",
      "                                                                   BAC.WS.A \n",
      " CHSP^A.CL \n",
      " Alibaba Group Holding Ltd (NYSE:BABA) dealt another ,  (NASDAQ:AMZN) this week \n",
      " $USCR, $TSLA \n",
      " common    Stock (AAPL)  \n",
      " Apple    Inc. (AAPL). \n",
      " AMZA - Free Report,  \n",
      "GOOGL 919.46 -10.22 -1.10%,AAPL 146.28 0.65 0.45% :\n",
      "AAPL is looking to, |  for AAPQ was 8.31 For the fiscal y  | ,AAPW has efficiently invested ,| AAPE comes one wee,,AAPR may refer to:  |,AAPl closed at ab|including AAPT news, historical|The bank lowered its AAPY price target to $150, |Earnings estimates for AAPU from thousands of | View the basic AAPO stock chart \n",
      "AAPA: Get the latest Apple, unveiled, \n"
     ]
    },
    {
     "data": {
      "text/plain": [
       "[]"
      ]
     },
     "execution_count": 261,
     "metadata": {},
     "output_type": "execute_result"
    }
   ],
   "source": [
    "# C.WS.A,  BAC.WS.A   Apple Inc. (AAPL).\n",
    "\n",
    "rule_49 = {\n",
    "      \"identifier\": \"#rule_49 C.WS.A,  BAC.WS.A   Apple Inc. (AAPL).\",\n",
    "      \"description\": \"a description\",\n",
    "      \"is_active\": \"true\",\n",
    "      \"output_format\": \"{1}{2}{3}{4}{5}\",\n",
    "      \"pattern\": [\n",
    "            word_token(token=[\"Inc\"],is_in_output=\"false\"),\n",
    "            punctuation_token(token=[\".\"],is_required=\"false\"),\n",
    "            punctuation_token(token=[\"(\"],  is_in_output=\"false\"),\n",
    "\n",
    "            shape_token(shape =[\"X\",\"XXX\"],  is_in_output=\"true\"),\n",
    "            punctuation_token(token=[\".\"],  is_in_output=\"true\"),\n",
    "            shape_token(shape =[\"XX\"],  is_in_output=\"true\"),\n",
    "            punctuation_token(token=[\".\"],  is_in_output=\"true\"),\n",
    "            shape_token(shape =[\"X\"],  is_in_output=\"true\"),\n",
    "\n",
    "            punctuation_token(token=[\")\"],  is_in_output=\"false\")\n",
    "\n",
    "\n",
    "      ]\n",
    "    }\n",
    "\n",
    "field_rules = {\n",
    "  \"rules\": [\n",
    "      rule_49\n",
    "  ]\n",
    "}\n",
    "\n",
    "print \"text:\", d['text']\n",
    "results = c.extract_using_custom_spacy(d, config, field_rules=field_rules)\n",
    "tele_lst = []\n",
    "for i in results:\n",
    "    tele_lst.append(''.join((i.values()[1]).split()))\n",
    "tele_lst"
   ]
  },
  {
   "cell_type": "code",
   "execution_count": 262,
   "metadata": {},
   "outputs": [
    {
     "name": "stdout",
     "output_type": "stream",
     "text": [
      "text:  A, BA,  \n",
      " C^J,        BAC,      C-C,         JW.B,    \n",
      " BK^C,       ABRN,     NS-A,  \n",
      " ADK^A,      ABEOW ,    ABC-A,      BAC.A,       HK.WS,  \n",
      " MITT^A,                             HCAC.U,     BTX.WS,     ,       C.WS.A,\n",
      "                                                 IMUC.WS,   \n",
      "                                                                   BAC.WS.A \n",
      " CHSP^A.CL \n",
      " Alibaba Group Holding Ltd (NYSE:BABA) dealt another ,  (NASDAQ:AMZN) this week \n",
      " $USCR, $TSLA \n",
      " common    Stock (AAPL)  \n",
      " Apple    Inc. (AAPL). \n",
      " AMZA - Free Report,  \n",
      "GOOGL 919.46 -10.22 -1.10%,AAPL 146.28 0.65 0.45% :\n",
      "AAPL is looking to, |  for AAPQ was 8.31 For the fiscal y  | ,AAPW has efficiently invested ,| AAPE comes one wee,,AAPR may refer to:  |,AAPl closed at ab|including AAPT news, historical|The bank lowered its AAPY price target to $150, |Earnings estimates for AAPU from thousands of | View the basic AAPO stock chart \n",
      "AAPA: Get the latest Apple, unveiled, \n"
     ]
    },
    {
     "data": {
      "text/plain": [
       "[]"
      ]
     },
     "execution_count": 262,
     "metadata": {},
     "output_type": "execute_result"
    }
   ],
   "source": [
    "# C^J, BK^C, ADK^A, MITT^A,  AMZA - Free Report, \n",
    "\n",
    "rule_50 = {\n",
    "      \"identifier\": \"#rule_50 C^J, BK^C, ADK^A, MITT^A,  AMZA - Free Report,  \",\n",
    "      \"description\": \"a description\",\n",
    "      \"is_active\": \"true\",\n",
    "      \"output_format\": \"{1}{2}{3}\",\n",
    "      \"pattern\": [\n",
    "            word_token(token=[\"NYSE\",\"NASDAQ\"],is_in_output=\"false\"),\n",
    "            punctuation_token(token=[\":\"],  is_in_output=\"false\"),\n",
    "\n",
    "            shape_token(shape =[\"X\",\"XX\",\"XXX\",\"XXXX\"],  is_in_output=\"true\"),\n",
    "            punctuation_token(token=[\"^\"],  is_in_output=\"true\"),\n",
    "            shape_token(shape =[\"X\"],  is_in_output=\"true\"),\n",
    "            punctuation_token(token=[\"-\"],  is_in_output=\"false\"),\n",
    "            word_token(token=[\"Free\"],is_in_output=\"false\"),\n",
    "            word_token(token=[\"Report\"],is_in_output=\"false\")\n",
    "\n",
    "\n",
    "      ]\n",
    "    }\n",
    "\n",
    "field_rules = {\n",
    "  \"rules\": [\n",
    "      rule_50\n",
    "  ]\n",
    "}\n",
    "\n",
    "print \"text:\", d['text']\n",
    "results = c.extract_using_custom_spacy(d, config, field_rules=field_rules)\n",
    "tele_lst = []\n",
    "for i in results:\n",
    "    tele_lst.append(''.join((i.values()[1]).split()))\n",
    "tele_lst"
   ]
  },
  {
   "cell_type": "code",
   "execution_count": 263,
   "metadata": {},
   "outputs": [
    {
     "name": "stdout",
     "output_type": "stream",
     "text": [
      "text:  A, BA,  \n",
      " C^J,        BAC,      C-C,         JW.B,    \n",
      " BK^C,       ABRN,     NS-A,  \n",
      " ADK^A,      ABEOW ,    ABC-A,      BAC.A,       HK.WS,  \n",
      " MITT^A,                             HCAC.U,     BTX.WS,     ,       C.WS.A,\n",
      "                                                 IMUC.WS,   \n",
      "                                                                   BAC.WS.A \n",
      " CHSP^A.CL \n",
      " Alibaba Group Holding Ltd (NYSE:BABA) dealt another ,  (NASDAQ:AMZN) this week \n",
      " $USCR, $TSLA \n",
      " common    Stock (AAPL)  \n",
      " Apple    Inc. (AAPL). \n",
      " AMZA - Free Report,  \n",
      "GOOGL 919.46 -10.22 -1.10%,AAPL 146.28 0.65 0.45% :\n",
      "AAPL is looking to, |  for AAPQ was 8.31 For the fiscal y  | ,AAPW has efficiently invested ,| AAPE comes one wee,,AAPR may refer to:  |,AAPl closed at ab|including AAPT news, historical|The bank lowered its AAPY price target to $150, |Earnings estimates for AAPU from thousands of | View the basic AAPO stock chart \n",
      "AAPA: Get the latest Apple, unveiled, \n"
     ]
    },
    {
     "data": {
      "text/plain": [
       "[]"
      ]
     },
     "execution_count": 263,
     "metadata": {},
     "output_type": "execute_result"
    }
   ],
   "source": [
    "# CHSP^A.CL    AMZA - Free Report, \n",
    "rule_51 = {\n",
    "      \"identifier\": \"#rule_51 CHSP^A.CL    AMZA - Free Report,  \",\n",
    "      \"description\": \"a description\",\n",
    "      \"is_active\": \"true\",\n",
    "      \"output_format\": \"{1}{2}{3}{4}{5}\",\n",
    "      \"pattern\": [\n",
    "    \n",
    "            shape_token(shape =[\"X\",\"XX\",\"XXX\",\"XXXX\"],  is_in_output=\"true\"),\n",
    "            punctuation_token(token=[\"^\"],  is_in_output=\"true\"),\n",
    "            shape_token(shape =[\"X\"],  is_in_output=\"true\"),\n",
    "            punctuation_token(token=[\".\"],  is_in_output=\"true\"),\n",
    "            shape_token(shape =[\"XX\"],  is_in_output=\"true\"),\n",
    "            punctuation_token(token=[\"-\"],  is_in_output=\"false\"),\n",
    "            word_token(token=[\"Free\"],is_in_output=\"false\"),\n",
    "            word_token(token=[\"Report\"],is_in_output=\"false\")\n",
    "      ]\n",
    "    }\n",
    "\n",
    "field_rules = {\n",
    "  \"rules\": [\n",
    "      rule_51\n",
    "  ]\n",
    "}\n",
    "\n",
    "print \"text:\", d['text']\n",
    "results = c.extract_using_custom_spacy(d, config, field_rules=field_rules)\n",
    "tele_lst = []\n",
    "for i in results:\n",
    "    tele_lst.append(''.join((i.values()[1]).split()))\n",
    "tele_lst"
   ]
  },
  {
   "cell_type": "code",
   "execution_count": 264,
   "metadata": {},
   "outputs": [
    {
     "name": "stdout",
     "output_type": "stream",
     "text": [
      "text:  A, BA,  \n",
      " C^J,        BAC,      C-C,         JW.B,    \n",
      " BK^C,       ABRN,     NS-A,  \n",
      " ADK^A,      ABEOW ,    ABC-A,      BAC.A,       HK.WS,  \n",
      " MITT^A,                             HCAC.U,     BTX.WS,     ,       C.WS.A,\n",
      "                                                 IMUC.WS,   \n",
      "                                                                   BAC.WS.A \n",
      " CHSP^A.CL \n",
      " Alibaba Group Holding Ltd (NYSE:BABA) dealt another ,  (NASDAQ:AMZN) this week \n",
      " $USCR, $TSLA \n",
      " common    Stock (AAPL)  \n",
      " Apple    Inc. (AAPL). \n",
      " AMZA - Free Report,  \n",
      "GOOGL 919.46 -10.22 -1.10%,AAPL 146.28 0.65 0.45% :\n",
      "AAPL is looking to, |  for AAPQ was 8.31 For the fiscal y  | ,AAPW has efficiently invested ,| AAPE comes one wee,,AAPR may refer to:  |,AAPl closed at ab|including AAPT news, historical|The bank lowered its AAPY price target to $150, |Earnings estimates for AAPU from thousands of | View the basic AAPO stock chart \n",
      "AAPA: Get the latest Apple, unveiled, \n"
     ]
    },
    {
     "data": {
      "text/plain": [
       "['AMZA']"
      ]
     },
     "execution_count": 264,
     "metadata": {},
     "output_type": "execute_result"
    }
   ],
   "source": [
    "# BAC, ABRN, ABEOW ,    AMZA - Free Report, \n",
    "\n",
    "rule_52 = {\n",
    "      \"identifier\": \"#rule_52 BAC, ABRN, ABEOW ,    AMZA - Free Report, \",\n",
    "      \"description\": \"a description\",\n",
    "      \"is_active\": \"true\",\n",
    "      \"output_format\": \"{1}\",\n",
    "      \"pattern\": [\n",
    "       \n",
    "            shape_token(shape =[\"X\",\"XX\",\"XXX\",\"XXXX\",\"XXXXX\"],  is_in_output=\"true\"),\n",
    "            punctuation_token(token=[\"-\"],  is_in_output=\"false\"),\n",
    "            word_token(token=[\"Free\"],is_in_output=\"false\"),\n",
    "            word_token(token=[\"Report\"],is_in_output=\"false\")\n",
    "      ]\n",
    "    }\n",
    "\n",
    "field_rules = {\n",
    "  \"rules\": [\n",
    "      rule_52\n",
    "  ]\n",
    "}\n",
    "\n",
    "print \"text:\", d['text']\n",
    "results = c.extract_using_custom_spacy(d, config, field_rules=field_rules)\n",
    "tele_lst = []\n",
    "for i in results:\n",
    "    tele_lst.append(''.join((i.values()[1]).split()))\n",
    "tele_lst"
   ]
  },
  {
   "cell_type": "code",
   "execution_count": 265,
   "metadata": {},
   "outputs": [
    {
     "name": "stdout",
     "output_type": "stream",
     "text": [
      "text:  A, BA,  \n",
      " C^J,        BAC,      C-C,         JW.B,    \n",
      " BK^C,       ABRN,     NS-A,  \n",
      " ADK^A,      ABEOW ,    ABC-A,      BAC.A,       HK.WS,  \n",
      " MITT^A,                             HCAC.U,     BTX.WS,     ,       C.WS.A,\n",
      "                                                 IMUC.WS,   \n",
      "                                                                   BAC.WS.A \n",
      " CHSP^A.CL \n",
      " Alibaba Group Holding Ltd (NYSE:BABA) dealt another ,  (NASDAQ:AMZN) this week \n",
      " $USCR, $TSLA \n",
      " common    Stock (AAPL)  \n",
      " Apple    Inc. (AAPL). \n",
      " AMZA - Free Report,  \n",
      "GOOGL 919.46 -10.22 -1.10%,AAPL 146.28 0.65 0.45% :\n",
      "AAPL is looking to, |  for AAPQ was 8.31 For the fiscal y  | ,AAPW has efficiently invested ,| AAPE comes one wee,,AAPR may refer to:  |,AAPl closed at ab|including AAPT news, historical|The bank lowered its AAPY price target to $150, |Earnings estimates for AAPU from thousands of | View the basic AAPO stock chart \n",
      "AAPA: Get the latest Apple, unveiled, \n"
     ]
    },
    {
     "data": {
      "text/plain": [
       "[]"
      ]
     },
     "execution_count": 265,
     "metadata": {},
     "output_type": "execute_result"
    }
   ],
   "source": [
    "# C-C, NS-A, ABC-A,   AMZA - Free Report, \n",
    "rule_53 = {\n",
    "      \"identifier\": \"#rule_53 C-C, NS-A, ABC-A,   AMZA - Free Report, \",\n",
    "      \"description\": \"a description\",\n",
    "      \"is_active\": \"true\",\n",
    "      \"output_format\": \"{1}{2}{3}\",\n",
    "      \"pattern\": [\n",
    "\n",
    "            shape_token(shape =[\"X\",\"XX\",\"XXX\"],  is_in_output=\"true\"),\n",
    "            punctuation_token(token=[\"-\"],  is_in_output=\"true\"),\n",
    "            shape_token(shape =[\"X\"],  is_in_output=\"true\"),\n",
    "            punctuation_token(token=[\"-\"],  is_in_output=\"false\"),\n",
    "            word_token(token=[\"Free\"],is_in_output=\"false\"),\n",
    "            word_token(token=[\"Report\"],is_in_output=\"false\")\n",
    "      ]\n",
    "    }\n",
    "\n",
    "field_rules = {\n",
    "  \"rules\": [\n",
    "      rule_53\n",
    "  ]\n",
    "}\n",
    "\n",
    "print \"text:\", d['text']\n",
    "results = c.extract_using_custom_spacy(d, config, field_rules=field_rules)\n",
    "tele_lst = []\n",
    "for i in results:\n",
    "    tele_lst.append(''.join((i.values()[1]).split()))\n",
    "tele_lst"
   ]
  },
  {
   "cell_type": "code",
   "execution_count": 266,
   "metadata": {},
   "outputs": [
    {
     "name": "stdout",
     "output_type": "stream",
     "text": [
      "text:  A, BA,  \n",
      " C^J,        BAC,      C-C,         JW.B,    \n",
      " BK^C,       ABRN,     NS-A,  \n",
      " ADK^A,      ABEOW ,    ABC-A,      BAC.A,       HK.WS,  \n",
      " MITT^A,                             HCAC.U,     BTX.WS,     ,       C.WS.A,\n",
      "                                                 IMUC.WS,   \n",
      "                                                                   BAC.WS.A \n",
      " CHSP^A.CL \n",
      " Alibaba Group Holding Ltd (NYSE:BABA) dealt another ,  (NASDAQ:AMZN) this week \n",
      " $USCR, $TSLA \n",
      " common    Stock (AAPL)  \n",
      " Apple    Inc. (AAPL). \n",
      " AMZA - Free Report,  \n",
      "GOOGL 919.46 -10.22 -1.10%,AAPL 146.28 0.65 0.45% :\n",
      "AAPL is looking to, |  for AAPQ was 8.31 For the fiscal y  | ,AAPW has efficiently invested ,| AAPE comes one wee,,AAPR may refer to:  |,AAPl closed at ab|including AAPT news, historical|The bank lowered its AAPY price target to $150, |Earnings estimates for AAPU from thousands of | View the basic AAPO stock chart \n",
      "AAPA: Get the latest Apple, unveiled, \n"
     ]
    },
    {
     "data": {
      "text/plain": [
       "[]"
      ]
     },
     "execution_count": 266,
     "metadata": {},
     "output_type": "execute_result"
    }
   ],
   "source": [
    "# JW.B, BAC.A, HCAC.U,   AMZA - Free Report, \n",
    "\n",
    "rule_54 = {\n",
    "      \"identifier\": \"#rule_54 JW.B, BAC.A, HCAC.U,   AMZA - Free Report, \",\n",
    "      \"description\": \"a description\",\n",
    "      \"is_active\": \"true\",\n",
    "      \"output_format\": \"{1}{2}{3}\",\n",
    "      \"pattern\": [\n",
    "\n",
    "            shape_token(shape =[\"XX\",\"XXX\",\"XXXX\"],  is_in_output=\"true\"),\n",
    "            punctuation_token(token=[\".\"],  is_in_output=\"true\"),\n",
    "            shape_token(shape =[\"X\"],  is_in_output=\"true\"),\n",
    "            punctuation_token(token=[\"-\"],  is_in_output=\"false\"),\n",
    "            word_token(token=[\"Free\"],is_in_output=\"false\"),\n",
    "            word_token(token=[\"Report\"],is_in_output=\"false\")\n",
    "      ]\n",
    "    }\n",
    "\n",
    "field_rules = {\n",
    "  \"rules\": [\n",
    "      rule_54\n",
    "  ]\n",
    "}\n",
    "\n",
    "print \"text:\", d['text']\n",
    "results = c.extract_using_custom_spacy(d, config, field_rules=field_rules)\n",
    "tele_lst = []\n",
    "for i in results:\n",
    "    tele_lst.append(''.join((i.values()[1]).split()))\n",
    "tele_lst"
   ]
  },
  {
   "cell_type": "code",
   "execution_count": 267,
   "metadata": {},
   "outputs": [
    {
     "name": "stdout",
     "output_type": "stream",
     "text": [
      "text:  A, BA,  \n",
      " C^J,        BAC,      C-C,         JW.B,    \n",
      " BK^C,       ABRN,     NS-A,  \n",
      " ADK^A,      ABEOW ,    ABC-A,      BAC.A,       HK.WS,  \n",
      " MITT^A,                             HCAC.U,     BTX.WS,     ,       C.WS.A,\n",
      "                                                 IMUC.WS,   \n",
      "                                                                   BAC.WS.A \n",
      " CHSP^A.CL \n",
      " Alibaba Group Holding Ltd (NYSE:BABA) dealt another ,  (NASDAQ:AMZN) this week \n",
      " $USCR, $TSLA \n",
      " common    Stock (AAPL)  \n",
      " Apple    Inc. (AAPL). \n",
      " AMZA - Free Report,  \n",
      "GOOGL 919.46 -10.22 -1.10%,AAPL 146.28 0.65 0.45% :\n",
      "AAPL is looking to, |  for AAPQ was 8.31 For the fiscal y  | ,AAPW has efficiently invested ,| AAPE comes one wee,,AAPR may refer to:  |,AAPl closed at ab|including AAPT news, historical|The bank lowered its AAPY price target to $150, |Earnings estimates for AAPU from thousands of | View the basic AAPO stock chart \n",
      "AAPA: Get the latest Apple, unveiled, \n"
     ]
    },
    {
     "data": {
      "text/plain": [
       "[]"
      ]
     },
     "execution_count": 267,
     "metadata": {},
     "output_type": "execute_result"
    }
   ],
   "source": [
    "# HK.WS, BTX.WS,  IMUC.WS,    AMZA - Free Report, \n",
    "\n",
    "rule_55 = {\n",
    "      \"identifier\": \"#rule_55 HK.WS, BTX.WS,  IMUC.WS,    AMZA - Free Report, \",\n",
    "      \"description\": \"a description\",\n",
    "      \"is_active\": \"true\",\n",
    "      \"output_format\": \"{1}{2}{3}\",\n",
    "      \"pattern\": [\n",
    "\n",
    "            shape_token(shape =[\"XX\",\"XXX\",\"XXXX\"],  is_in_output=\"true\"),\n",
    "            punctuation_token(token=[\".\"],  is_in_output=\"true\"),\n",
    "            shape_token(shape =[\"XX\"],  is_in_output=\"true\"),\n",
    "            punctuation_token(token=[\"-\"],  is_in_output=\"false\"),\n",
    "            word_token(token=[\"Free\"],is_in_output=\"false\"),\n",
    "            word_token(token=[\"Report\"],is_in_output=\"false\")\n",
    "      ]\n",
    "    }\n",
    "\n",
    "field_rules = {\n",
    "  \"rules\": [\n",
    "      rule_55\n",
    "  ]\n",
    "}\n",
    "\n",
    "print \"text:\", d['text']\n",
    "results = c.extract_using_custom_spacy(d, config, field_rules=field_rules)\n",
    "tele_lst = []\n",
    "for i in results:\n",
    "    tele_lst.append(''.join((i.values()[1]).split()))\n",
    "tele_lst"
   ]
  },
  {
   "cell_type": "code",
   "execution_count": 268,
   "metadata": {},
   "outputs": [
    {
     "name": "stdout",
     "output_type": "stream",
     "text": [
      "text:  A, BA,  \n",
      " C^J,        BAC,      C-C,         JW.B,    \n",
      " BK^C,       ABRN,     NS-A,  \n",
      " ADK^A,      ABEOW ,    ABC-A,      BAC.A,       HK.WS,  \n",
      " MITT^A,                             HCAC.U,     BTX.WS,     ,       C.WS.A,\n",
      "                                                 IMUC.WS,   \n",
      "                                                                   BAC.WS.A \n",
      " CHSP^A.CL \n",
      " Alibaba Group Holding Ltd (NYSE:BABA) dealt another ,  (NASDAQ:AMZN) this week \n",
      " $USCR, $TSLA \n",
      " common    Stock (AAPL)  \n",
      " Apple    Inc. (AAPL). \n",
      " AMZA - Free Report,  \n",
      "GOOGL 919.46 -10.22 -1.10%,AAPL 146.28 0.65 0.45% :\n",
      "AAPL is looking to, |  for AAPQ was 8.31 For the fiscal y  | ,AAPW has efficiently invested ,| AAPE comes one wee,,AAPR may refer to:  |,AAPl closed at ab|including AAPT news, historical|The bank lowered its AAPY price target to $150, |Earnings estimates for AAPU from thousands of | View the basic AAPO stock chart \n",
      "AAPA: Get the latest Apple, unveiled, \n"
     ]
    },
    {
     "data": {
      "text/plain": [
       "[]"
      ]
     },
     "execution_count": 268,
     "metadata": {},
     "output_type": "execute_result"
    }
   ],
   "source": [
    "# C.WS.A,  BAC.WS.A  AMZA - Free Report, \n",
    "\n",
    "rule_56 = {\n",
    "      \"identifier\": \"#rule_56 C.WS.A,  BAC.WS.A  AMZA - Free Report, \",\n",
    "      \"description\": \"a description\",\n",
    "      \"is_active\": \"true\",\n",
    "      \"output_format\": \"{1}{2}{3}{4}{5}\",\n",
    "      \"pattern\": [\n",
    "\n",
    "            shape_token(shape =[\"X\",\"XXX\"],  is_in_output=\"true\"),\n",
    "            punctuation_token(token=[\".\"],  is_in_output=\"true\"),\n",
    "            shape_token(shape =[\"XX\"],  is_in_output=\"true\"),\n",
    "            punctuation_token(token=[\".\"],  is_in_output=\"true\"),\n",
    "            shape_token(shape =[\"X\"],  is_in_output=\"true\"),\n",
    "            punctuation_token(token=[\"-\"],  is_in_output=\"false\"),\n",
    "            word_token(token=[\"Free\"],is_in_output=\"false\"),\n",
    "            word_token(token=[\"Report\"],is_in_output=\"false\")\n",
    "\n",
    "      ]\n",
    "    }\n",
    "\n",
    "field_rules = {\n",
    "  \"rules\": [\n",
    "      rule_56\n",
    "  ]\n",
    "}\n",
    "\n",
    "print \"text:\", d['text']\n",
    "results = c.extract_using_custom_spacy(d, config, field_rules=field_rules)\n",
    "tele_lst = []\n",
    "for i in results:\n",
    "    tele_lst.append(''.join((i.values()[1]).split()))\n",
    "tele_lst"
   ]
  },
  {
   "cell_type": "code",
   "execution_count": null,
   "metadata": {
    "collapsed": true
   },
   "outputs": [],
   "source": [
    "\n"
   ]
  },
  {
   "cell_type": "code",
   "execution_count": null,
   "metadata": {
    "collapsed": true
   },
   "outputs": [],
   "source": []
  },
  {
   "cell_type": "markdown",
   "metadata": {},
   "source": [
    "## Test Several Rules"
   ]
  },
  {
   "cell_type": "code",
   "execution_count": 269,
   "metadata": {},
   "outputs": [
    {
     "name": "stdout",
     "output_type": "stream",
     "text": [
      "text:  A, BA,  \n",
      " C^J,        BAC,      C-C,         JW.B,    \n",
      " BK^C,       ABRN,     NS-A,  \n",
      " ADK^A,      ABEOW ,    ABC-A,      BAC.A,       HK.WS,  \n",
      " MITT^A,                             HCAC.U,     BTX.WS,     ,       C.WS.A,\n",
      "                                                 IMUC.WS,   \n",
      "                                                                   BAC.WS.A \n",
      " CHSP^A.CL \n",
      " Alibaba Group Holding Ltd (NYSE:BABA) dealt another ,  (NASDAQ:AMZN) this week \n",
      " $USCR, $TSLA \n",
      " common    Stock (AAPL)  \n",
      " Apple    Inc. (AAPL). \n",
      " AMZA - Free Report,  \n",
      "GOOGL 919.46 -10.22 -1.10%,AAPL 146.28 0.65 0.45% :\n",
      "AAPL is looking to, |  for AAPQ was 8.31 For the fiscal y  | ,AAPW has efficiently invested ,| AAPE comes one wee,,AAPR may refer to:  |,AAPl closed at ab|including AAPT news, historical|The bank lowered its AAPY price target to $150, |Earnings estimates for AAPU from thousands of | View the basic AAPO stock chart \n",
      "AAPA: Get the latest Apple, unveiled, \n",
      "['C^J', 'C-C', 'JW.B', 'BK^C', 'NS-A', 'ADK^A', 'ABC-A', 'BAC.A', 'HK.WS', 'MITT^A', 'HCAC.U', 'BTX.WS', 'C.WS.A', 'IMUC.WS', 'BAC.WS.A', 'CHSP^A.CL', 'BABA', 'AMZN', 'USCR', 'TSLA', 'AAPL', 'GOOGL', 'AAPL']\n"
     ]
    }
   ],
   "source": [
    "field_rules = {\n",
    "  \"rules\": [\n",
    "    rule_01, \n",
    "    rule_02,\n",
    "    rule_03,\n",
    "    rule_04,\n",
    "    rule_05,\n",
    "    rule_06,\n",
    "    rule_07,\n",
    "    rule_08,\n",
    "    rule_09,\n",
    "    rule_10,\n",
    "    rule_11,\n",
    "    rule_12,\n",
    "    rule_13,\n",
    "    rule_14,\n",
    "    rule_15,\n",
    "    rule_16,\n",
    "    rule_17,\n",
    "    rule_18,\n",
    "    rule_19,\n",
    "    rule_20,\n",
    "    rule_21,\n",
    "    rule_22,\n",
    "    rule_23,\n",
    "    rule_24,\n",
    "    rule_25,\n",
    "    rule_26,\n",
    "    rule_27,\n",
    "    rule_28,\n",
    "    rule_29,\n",
    "    rule_30,\n",
    "    rule_31, \n",
    "    rule_32,\n",
    "    rule_33,\n",
    "    rule_34,\n",
    "    rule_35,\n",
    "    rule_36,\n",
    "    rule_37,\n",
    "    rule_38,\n",
    "    rule_39,\n",
    "    rule_40,\n",
    "    rule_41, \n",
    "    rule_42\n",
    " \n",
    "  ],\n",
    "    \"test_text\": d['text'],\n",
    "    \"test_tokens\": c.extract_tokens_from_crf(c.extract_crftokens(d['text'], lowercase=False))\n",
    "}\n",
    "\n",
    "\n",
    "\n",
    "results = c.extract_using_custom_spacy(d, config, field_rules=field_rules)\n",
    "\n",
    "print \"text:\", d['text']\n",
    "\n",
    "price_lst = []\n",
    "for i in results:\n",
    "    price_lst.append(''.join((i.values()[1]).split()))\n",
    "results.append(price_lst)\n",
    "field_rules['results']=results\n",
    "\n",
    "s = json.dumps(field_rules, indent=2)\n",
    "print price_lst\n",
    "\n",
    "import codecs\n",
    "o = codecs.open('stock_ticker.json', 'w')\n",
    "o.write(s)\n",
    "o.close()\n",
    "\n",
    "\n",
    "\n"
   ]
  },
  {
   "cell_type": "code",
   "execution_count": 270,
   "metadata": {},
   "outputs": [
    {
     "name": "stdout",
     "output_type": "stream",
     "text": [
      "{'prefix': '', 'suffix': '', 'capitalization': [], 'part_of_speech': [], 'length': [], 'maximum': '', 'shapes': [], 'token': ['hello'], 'minimum': '', 'numbers': [], 'contain_digit': '', 'is_in_vocabulary': '', 'is_out_of_vocabulary': '', 'is_required': 'true', 'type': 'word', 'is_in_output': 'false'}\n"
     ]
    }
   ],
   "source": [
    "\n",
    "print word_token(token=[\"hello\"])"
   ]
  }
 ],
 "metadata": {
  "kernelspec": {
   "display_name": "Python [conda env:etk_env]",
   "language": "python",
   "name": "conda-env-etk_env-py"
  },
  "language_info": {
   "codemirror_mode": {
    "name": "ipython",
    "version": 2
   },
   "file_extension": ".py",
   "mimetype": "text/x-python",
   "name": "python",
   "nbconvert_exporter": "python",
   "pygments_lexer": "ipython2",
   "version": "2.7.12"
  }
 },
 "nbformat": 4,
 "nbformat_minor": 1
}
