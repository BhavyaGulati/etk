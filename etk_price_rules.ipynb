{
 "cells": [
  {
   "cell_type": "markdown",
   "metadata": {
    "collapsed": true
   },
   "source": [
    "# Custom Spacy Rules"
   ]
  },
  {
   "cell_type": "code",
   "execution_count": 79,
   "metadata": {
    "collapsed": true
   },
   "outputs": [],
   "source": [
    "def generic_token(type=\"word\", token=[], shape=[], number =[], capitalization=[], part_of_speech=[], length=[], minimum=\"\", maximum=\"\", prefix=\"\", suffix=\"\", is_followed_by_space=\"\", is_required=\"true\", is_in_output=\"true\", is_out_of_vocabulary=\"\", is_in_vocabulary=\"\", contain_digit=\"\"):\n",
    "    return {\n",
    "        \"type\": type,\n",
    "        \"token\": token,\n",
    "        \"shapes\": shape,\n",
    "        \"numbers\": number,\n",
    "        \"capitalization\": capitalization,\n",
    "        \"part_of_speech\": part_of_speech,\n",
    "        \"length\": length,\n",
    "        \"minimum\": minimum,\n",
    "        \"maximum\": maximum,\n",
    "        \"prefix\": prefix,\n",
    "        \"suffix\": suffix,\n",
    "        \"is_required\": is_required,\n",
    "        \"is_in_output\": is_in_output,\n",
    "        \"is_out_of_vocabulary\": is_out_of_vocabulary,\n",
    "        \"is_in_vocabulary\": is_in_vocabulary,\n",
    "        \"contain_digit\": contain_digit\n",
    "    }\n",
    "def word_token(token=[], capitalization=[], part_of_speech=[], length=[], minimum=\"\", maximum=\"\", prefix=\"\", suffix=\"\", is_required=\"true\", is_in_output=\"false\", is_out_of_vocabulary=\"\", is_in_vocabulary=\"\", contain_digit=\"\"):\n",
    "     return generic_token(type=\"word\", token=token, capitalization=capitalization, part_of_speech=part_of_speech, length=length, minimum=minimum, maximum=maximum,prefix=prefix, suffix=suffix, is_required=is_required, is_in_output=is_in_output, is_out_of_vocabulary=is_out_of_vocabulary, is_in_vocabulary=is_in_vocabulary, contain_digit=contain_digit)\n",
    "    \n",
    "def punctuation_token(token=[], capitalization=[], part_of_speech=[], length=[], minimum=\"\", maximum=\"\", prefix=\"\", suffix=\"\",  is_required=\"true\", is_in_output=\"false\", is_out_of_vocabulary=\"\", is_in_vocabulary=\"\", contain_digit=\"\"):\n",
    "     return generic_token(type=\"punctuation\", token=token, capitalization=capitalization, part_of_speech=part_of_speech, length=length, minimum=minimum, maximum=maximum,prefix=prefix, suffix=suffix, is_required=is_required, is_in_output=is_in_output, is_out_of_vocabulary=is_out_of_vocabulary, is_in_vocabulary=is_in_vocabulary, contain_digit=contain_digit)\n",
    "\n",
    "def shape_token(shape=[], capitalization=[], part_of_speech=[], length=[], minimum=\"\", maximum=\"\", prefix=\"\", suffix=\"\",is_required=\"true\", is_in_output=\"false\", is_out_of_vocabulary=\"\", is_in_vocabulary=\"\", contain_digit=\"\"):\n",
    "     return generic_token(type=\"shape\", shape=shape, capitalization=capitalization, part_of_speech=part_of_speech, length=length, minimum=minimum, maximum=maximum,prefix=prefix, suffix=suffix, is_required=is_required, is_in_output=is_in_output, is_out_of_vocabulary=is_out_of_vocabulary, is_in_vocabulary=is_in_vocabulary, contain_digit=contain_digit)\n",
    "\n",
    "def number_token(number =[], capitalization=[], part_of_speech=[], length=[], minimum=\"\", maximum=\"\", prefix=\"\", suffix=\"\",is_required=\"true\", is_in_output=\"false\", is_out_of_vocabulary=\"\", is_in_vocabulary=\"\", contain_digit=\"\"):\n",
    "     return generic_token(type=\"number\", number=number, capitalization=capitalization, part_of_speech=part_of_speech, length=length, minimum=minimum, maximum=maximum,prefix=prefix, suffix=suffix, is_required=is_required, is_in_output=is_in_output, is_out_of_vocabulary=is_out_of_vocabulary, is_in_vocabulary=is_in_vocabulary, contain_digit=contain_digit)\n",
    "\n",
    "\n",
    "    \n",
    "    \n",
    "    "
   ]
  },
  {
   "cell_type": "code",
   "execution_count": 80,
   "metadata": {
    "collapsed": true
   },
   "outputs": [],
   "source": [
    "sampe_rules = {\n",
    "  \"rules\": [\n",
    "      {\n",
    "      \"identifier\": \"an indentifier\",\n",
    "      \"description\": \"a description\",\n",
    "      \"is_active\": \"true/false\",\n",
    "      \"output_format\": \"\",\n",
    "      \"pattern\": [\n",
    "        {\n",
    "          \"type\": \"word\",\n",
    "          \"token\": [\"tOWN\", \"job\"],\n",
    "          \"capitalization\": [\"title\", \"upper\", \"mixed\", \"lower\", \"exact\"],\n",
    "          \"part_of_speech\": [\"noun\", \"pronoun\", \"NOT punctuation\"],\n",
    "          \"length\": [],\n",
    "          \"can_include_digits\": \"true/false\",\n",
    "          \"prefix\": \"ssss\",\n",
    "          \"suffix\": \"\",\n",
    "#           \"is_followed_by_space\": \"true/false\",\n",
    "          \"is_required\": \"false\",\n",
    "          \"is_in_output\": \"true/false\",\n",
    "          \"is_out_of_vocabulary\": \"true\",\n",
    "          \"is_in_vocabulary\":\"\",\n",
    "          \"contain_digit\":\"\"\n",
    "        },\n",
    "        {\n",
    "          \"type\": \"word\",\n",
    "          \"token\": [],\n",
    "          \"capitalization\": [\"lower\", \"upper\", \"mixed\"],\n",
    "          \"part_of_speech\": [],\n",
    "          \"length\": [5, 7],\n",
    "          \"prefix\": \"SA\",\n",
    "          \"suffix\": \"WF\",\n",
    "          \"is_followed_by_space\": \"true/false\",\n",
    "          \"is_required\": \"true\",\n",
    "          \"is_in_output\": \"true/false\",\n",
    "          \"is_out_of_vocabulary\": \"true\",\n",
    "          \"is_in_vocabulary\":\"\",\n",
    "          \"contain_digit\":\"\"\n",
    "        },\n",
    "        {\n",
    "          \"type\": \"word\",\n",
    "          \"token\": [],\n",
    "          \"capitalization\": [],\n",
    "          \"part_of_speech\": [],\n",
    "          \"length\": [],\n",
    "          \"prefix\": \"EEW\",\n",
    "          \"suffix\": \"RHI\",\n",
    "          \"is_followed_by_space\": \"true/false\",\n",
    "          \"is_required\": \"false\",\n",
    "          \"is_in_output\": \"true/false\",\n",
    "          \"is_out_of_vocabulary\": \"true\",\n",
    "          \"is_in_vocabulary\":\"\",\n",
    "          \"contain_digit\":\"\"\n",
    "        },\n",
    "        {\n",
    "          \"type\": \"number\",\n",
    "          \"tokens\": [],\n",
    "          \"length\": [],\n",
    "          \"prefix\": [],\n",
    "          \"suffix\": [],\n",
    "          \"min\":\"\",\n",
    "          \"max\":\"\",\n",
    "          \"is_followed_by_space\": \"true/false\",\n",
    "          \"is_required\": \"true/false\",\n",
    "          \"is_in_output\": \"true/false\"\n",
    "        },\n",
    "        {\n",
    "          \"type\": \"shape\",\n",
    "          \"shapes\": [\"xxxx\", \"xxxxxx\", \"XXXXXdd.dddXXxxxxxxx\"],\n",
    "          \"part_of_speech\": [],\n",
    "          \"prefix\": \"ss\",\n",
    "          \"suffix\": \"pp\",\n",
    "          \"is_followed_by_space\": \"true/false\",\n",
    "          \"is_required\": \"true\",\n",
    "          \"is_in_output\": \"true\"\n",
    "        },\n",
    "        {\n",
    "          \"type\": \"punctuation\",\n",
    "          \"token\": [\",\", \"?\"],\n",
    "          \"is_followed_by_space\": \"true/false\",\n",
    "          \"is_required\": \"false\",\n",
    "          \"is_in_output\": \"true\"\n",
    "        },\n",
    "        {\n",
    "          \"type\": \"symbol\",\n",
    "          \"token\": [],\n",
    "          \"is_followed_by_space\": \"true/false\",\n",
    "          \"is_required\": \"true/false\",\n",
    "          \"is_in_output\": \"true/false\"\n",
    "        }\n",
    "      ]\n",
    "    }\n",
    "  ]\n",
    "}"
   ]
  },
  {
   "cell_type": "code",
   "execution_count": 81,
   "metadata": {
    "collapsed": true
   },
   "outputs": [],
   "source": [
    "import json\n",
    "from etk.core import Core\n",
    "c = Core()"
   ]
  },
  {
   "cell_type": "code",
   "execution_count": 154,
   "metadata": {},
   "outputs": [
    {
     "name": "stdout",
     "output_type": "stream",
     "text": [
      "{'text': u' A + 150! Incall: Outcall: 20 mins-300 roses, 30 minutes - 200 roses 90 min - 450 roses 1h - 300 roses 350 roses 2h - 550 roses 600 roses 3h - 750 roses 800 roses night - 1300 roses\\n(extra Roses ) RATES: 30min - 150 Roses ; 40min - 200 Roses ; 1H - 250 Roses ; 1H OUTCALL- 300 Roses ; 2H - 400 Roses ; 3H - 550 Roses ; 4H - 650 Roses ; 12H - 1200 Roses ;\\n40!ss 40!ss 40!ss Specials! ? 60! hhr 60! hhr 60! hhr Speci\\n120 hhr 120 hhr 120 hhr \\uff0c150 Hr 150 Hr 150 Hr 150 Hr 150 Hr 150 \\n30 minutes 40 dollars 60 minutes 49.9 dollars 90 minutes 90 dollars 120 minutes 120 dollars  \\n 1 shot 30 minutes 2500 RMB 1 hour 2 shots 4000 RMB 2 hours 6000 RMB Dinner date (6 hours) 10,000 RMB Overnight 12 hours 12,000 RMB \\n   800 EUR(~912 USD ) 3 hours:    1,200 EUR(~1,369 USD ) 8 hours:    2,000 EUR(~2,281 USD ) 12 hours:    2,500 EUR(~2,851 USD ) 24 hours:    3,000 EUR(~3,421 USD ) 48 hours: \\n200  LD. $200 \\uffe1200', 'simple_tokens_original_case': [u'A', u'+', u'150', u'!', u'Incall', u':', u'Outcall', u':', u'20', u'mins', u'-', u'300', u'roses', u',', u'30', u'minutes', u'-', u'200', u'roses', u'90', u'min', u'-', u'450', u'roses', u'1h', u'-', u'300', u'roses', u'350', u'roses', u'2h', u'-', u'550', u'roses', u'600', u'roses', u'3h', u'-', u'750', u'roses', u'800', u'roses', u'night', u'-', u'1300', u'roses', u'\\n', u'(', u'extra', u'Roses', u')', u'RATES', u':', u'30min', u'-', u'150', u'Roses', u';', u'40min', u'-', u'200', u'Roses', u';', u'1H', u'-', u'250', u'Roses', u';', u'1H', u'OUTCALL', u'-', u'300', u'Roses', u';', u'2H', u'-', u'400', u'Roses', u';', u'3H', u'-', u'550', u'Roses', u';', u'4H', u'-', u'650', u'Roses', u';', u'12H', u'-', u'1200', u'Roses', u';', u'\\n', u'40', u'!', u'ss', u'40', u'!', u'ss', u'40', u'!', u'ss', u'Specials', u'!', u'?', u'60', u'!', u'hhr', u'60', u'!', u'hhr', u'60', u'!', u'hhr', u'Speci', u'\\n', u'120', u'hhr', u'120', u'hhr', u'120', u'hhr', u'\\uff0c150', u'Hr', u'150', u'Hr', u'150', u'Hr', u'150', u'Hr', u'150', u'Hr', u'150', u'\\n', u'30', u'minutes', u'40', u'dollars', u'60', u'minutes', u'49', u'.', u'9', u'dollars', u'90', u'minutes', u'90', u'dollars', u'120', u'minutes', u'120', u'dollars', u'\\n', u'1', u'shot', u'30', u'minutes', u'2500', u'RMB', u'1', u'hour', u'2', u'shots', u'4000', u'RMB', u'2', u'hours', u'6000', u'RMB', u'Dinner', u'date', u'(', u'6', u'hours', u')', u'10', u',', u'000', u'RMB', u'Overnight', u'12', u'hours', u'12', u',', u'000', u'RMB', u'\\n', u'800', u'EUR', u'(', u'~', u'912', u'USD', u')', u'3', u'hours', u':', u'1', u',', u'200', u'EUR', u'(', u'~', u'1', u',', u'369', u'USD', u')', u'8', u'hours', u':', u'2', u',', u'000', u'EUR', u'(', u'~', u'2', u',', u'281', u'USD', u')', u'12', u'hours', u':', u'2', u',', u'500', u'EUR', u'(', u'~', u'2', u',', u'851', u'USD', u')', u'24', u'hours', u':', u'3', u',', u'000', u'EUR', u'(', u'~', u'3', u',', u'421', u'USD', u')', u'48', u'hours', u':', u'\\n', u'200', u'LD', u'.', u'$', u'200', u'\\uffe1200']}\n"
     ]
    }
   ],
   "source": [
    "# Text to test the rules\n",
    "t = []\n",
    "t.append(u\" A + 150! Incall: Outcall: 20 mins-300 roses, 30 minutes - 200 roses 90 min - 450 roses 1h - 300 roses 350 roses 2h - 550 roses 600 roses 3h - 750 roses 800 roses night - 1300 roses\")\n",
    "t.append(u\"(extra Roses ) RATES: 30min - 150 Roses ; 40min - 200 Roses ; 1H - 250 Roses ; 1H OUTCALL- 300 Roses ; 2H - 400 Roses ; 3H - 550 Roses ; 4H - 650 Roses ; 12H - 1200 Roses ;\")\n",
    "t.append(u\"40!ss 40!ss 40!ss Specials! ? 60! hhr 60! hhr 60! hhr Speci\")\n",
    "t.append(u\"120 hhr 120 hhr 120 hhr ，150 Hr 150 Hr 150 Hr 150 Hr 150 Hr 150 \")\n",
    "t.append(u\"30 minutes 40 dollars 60 minutes 49.9 dollars 90 minutes 90 dollars 120 minutes 120 dollars  \") \n",
    "t.append(u\" 1 shot 30 minutes 2500 RMB 1 hour 2 shots 4000 RMB 2 hours 6000 RMB Dinner date (6 hours) 10,000 RMB Overnight 12 hours 12,000 RMB \")\n",
    "t.append(u\"   800 EUR(~912 USD ) 3 hours:    1,200 EUR(~1,369 USD ) 8 hours:    2,000 EUR(~2,281 USD ) 12 hours:    2,500 EUR(~2,851 USD ) 24 hours:    3,000 EUR(~3,421 USD ) 48 hours: \")\n",
    "t.append(u\" 1000 egp for hour, 200  LD. $200 ￡200\")\n",
    "\n",
    "d = dict()\n",
    "d['text'] = \"\\n\".join(t)\n",
    "d['simple_tokens_original_case'] = c.extract_tokens_from_crf(c.extract_crftokens(d['text'], lowercase=False))\n",
    "\n",
    "print d\n",
    "\n",
    "config = dict()\n",
    "config['field_name'] = 'field02'\n"
   ]
  },
  {
   "cell_type": "code",
   "execution_count": 156,
   "metadata": {},
   "outputs": [
    {
     "name": "stdout",
     "output_type": "stream",
     "text": [
      "text:  A + 150! Incall: Outcall: 20 mins-300 roses, 30 minutes - 200 roses 90 min - 450 roses 1h - 300 roses 350 roses 2h - 550 roses 600 roses 3h - 750 roses 800 roses night - 1300 roses\n",
      "(extra Roses ) RATES: 30min - 150 Roses ; 40min - 200 Roses ; 1H - 250 Roses ; 1H OUTCALL- 300 Roses ; 2H - 400 Roses ; 3H - 550 Roses ; 4H - 650 Roses ; 12H - 1200 Roses ;\n",
      "40!ss 40!ss 40!ss Specials! ? 60! hhr 60! hhr 60! hhr Speci\n",
      "120 hhr 120 hhr 120 hhr ，150 Hr 150 Hr 150 Hr 150 Hr 150 Hr 150 \n",
      "30 minutes 40 dollars 60 minutes 49.9 dollars 90 minutes 90 dollars 120 minutes 120 dollars  \n",
      " 1 shot 30 minutes 2500 RMB 1 hour 2 shots 4000 RMB 2 hours 6000 RMB Dinner date (6 hours) 10,000 RMB Overnight 12 hours 12,000 RMB \n",
      "   800 EUR(~912 USD ) 3 hours:    1,200 EUR(~1,369 USD ) 8 hours:    2,000 EUR(~2,281 USD ) 12 hours:    2,500 EUR(~2,851 USD ) 24 hours:    3,000 EUR(~3,421 USD ) 48 hours: \n",
      "200  LD. $200 ￡200\n"
     ]
    },
    {
     "data": {
      "text/plain": [
       "['20mins-300roses',\n",
       " '30minutes-200roses',\n",
       " '90min-450roses',\n",
       " '30minutes-40dollars',\n",
       " '90minutes-90dollars',\n",
       " '120minutes-120dollars',\n",
       " '30minutes-2500RMB',\n",
       " '2hours-6000RMB']"
      ]
     },
     "execution_count": 156,
     "metadata": {},
     "output_type": "execute_result"
    }
   ],
   "source": [
    "# 20 mins-300 roses, 1H - 250 Roses, \n",
    "\n",
    "rule_01 = {\n",
    "      \"identifier\": \"price_rule_us\",\n",
    "      \"description\": \"a description\",\n",
    "      \"is_active\": \"true\",\n",
    "      \"output_format\": \"{1}{2}-{3}{4}\",\n",
    "      \"pattern\": [\n",
    "            number_token(number =[\"1\",\"2\",\"3\",\"8\",\"12\",\"24\",\"48\", \"15\",\"20\",\"25\",\"30\",\"35\",\"40\",\"45\",\"50\",\"60\",\"90\",\"120\"],is_in_output=\"true\"),\n",
    "            word_token(token=[\"min\",\"mins\",\"minutes\", \"h\",\"H\", \"hours\",\"night\", \"nights\"], is_in_output=\"true\"),\n",
    "            punctuation_token(token=[\"-\"], is_required=\"false\", is_in_output=\"false\"),\n",
    "            number_token( minimum=\"10\", maximum=\"10000\",is_in_output=\"true\"),\n",
    "            word_token(token=[\"roses\", \"dollars\", \"RMB\", \"EUR\", \"USD\"], is_in_output=\"true\")\n",
    "      ]\n",
    "    }\n",
    "\n",
    "field_rules = {\n",
    "  \"rules\": [\n",
    "      rule_01\n",
    "  ]\n",
    "}\n",
    "\n",
    "print \"text:\", d['text']\n",
    "results = c.extract_using_custom_spacy(d, config, field_rules=field_rules)\n",
    "tele_lst = []\n",
    "for i in results:\n",
    "    tele_lst.append(''.join((i.values()[1]).split()))\n",
    "tele_lst"
   ]
  },
  {
   "cell_type": "code",
   "execution_count": 84,
   "metadata": {},
   "outputs": [
    {
     "name": "stdout",
     "output_type": "stream",
     "text": [
      "text:  A + 150! Incall: Outcall: 20 mins-300 roses, 30 min - 200 roses 90 min - 450 roses 1h - 300 roses 350 roses 2h - 550 roses 600 roses 3h - 750 roses 800 roses night - 1300 roses\n",
      "(extra Roses ) RATES: 30min - 150 Roses ; 40min - 200 Roses ; 1H - 250 Roses ; 1H OUTCALL- 300 Roses ; 2H - 400 Roses ; 3H - 550 Roses ; 4H - 650 Roses ; 12H - 1200 Roses ;\n",
      "40!ss 40!ss 40!ss Specials! ? 60! hhr 60! hhr 60! hhr Speci\n",
      "120 hhr 120 hhr 120 hhr ，150 Hr 150 Hr 150 Hr 150 Hr 150 Hr 150 \n",
      "30 minutes 40 dollars 60 minutes 49.9 dollars 90 minutes 90 dollars 120 minutes 120 dollars  \n",
      " 1 shot 30 minutes 2500 RMB 1 hour 2 shots 4000 RMB 2 hours 6000 RMB Dinner date (6 hours) 10,000 RMB Overnight 12 hours 12,000 RMB \n",
      "   800 EUR(~912 USD ) 3 hours:    1,200 EUR(~1,369 USD ) 8 hours:    2,000 EUR(~2,281 USD ) 12 hours:    2,500 EUR(~2,851 USD ) 24 hours:    3,000 EUR(~3,421 USD ) 48 hours: \n"
     ]
    },
    {
     "data": {
      "text/plain": [
       "['120-1.5h', '120-1.5h', '120-1.5h']"
      ]
     },
     "execution_count": 84,
     "metadata": {},
     "output_type": "execute_result"
    }
   ],
   "source": [
    "#120 hhr, 150 hhr\n",
    "\n",
    "\n",
    "rule_02 = {\n",
    "      \"identifier\": \"price_rule_us\",\n",
    "      \"description\": \"a description\",\n",
    "      \"is_active\": \"true\",\n",
    "      \"output_format\": \"{1}-1.5h\",\n",
    "      \"pattern\": [\n",
    "            number_token( minimum=\"10\", maximum=\"10000\",is_in_output=\"true\"),\n",
    "            word_token(token=[\"hhr\"], is_in_output=\"true\"),\n",
    "\n",
    "      ]\n",
    "    }\n",
    "\n",
    "field_rules = {\n",
    "  \"rules\": [\n",
    "      rule_02\n",
    "  ]\n",
    "}\n",
    "\n",
    "print \"text:\", d['text']\n",
    "results = c.extract_using_custom_spacy(d, config, field_rules=field_rules)\n",
    "tele_lst = []\n",
    "for i in results:\n",
    "    tele_lst.append(''.join((i.values()[1]).split()))\n",
    "tele_lst"
   ]
  },
  {
   "cell_type": "code",
   "execution_count": 157,
   "metadata": {},
   "outputs": [
    {
     "name": "stdout",
     "output_type": "stream",
     "text": [
      "text:  A + 150! Incall: Outcall: 20 mins-300 roses, 30 minutes - 200 roses 90 min - 450 roses 1h - 300 roses 350 roses 2h - 550 roses 600 roses 3h - 750 roses 800 roses night - 1300 roses\n",
      "(extra Roses ) RATES: 30min - 150 Roses ; 40min - 200 Roses ; 1H - 250 Roses ; 1H OUTCALL- 300 Roses ; 2H - 400 Roses ; 3H - 550 Roses ; 4H - 650 Roses ; 12H - 1200 Roses ;\n",
      "40!ss 40!ss 40!ss Specials! ? 60! hhr 60! hhr 60! hhr Speci\n",
      "120 hhr 120 hhr 120 hhr ，150 Hr 150 Hr 150 Hr 150 Hr 150 Hr 150 \n",
      "30 minutes 40 dollars 60 minutes 49.9 dollars 90 minutes 90 dollars 120 minutes 120 dollars  \n",
      " 1 shot 30 minutes 2500 RMB 1 hour 2 shots 4000 RMB 2 hours 6000 RMB Dinner date (6 hours) 10,000 RMB Overnight 12 hours 12,000 RMB \n",
      "   800 EUR(~912 USD ) 3 hours:    1,200 EUR(~1,369 USD ) 8 hours:    2,000 EUR(~2,281 USD ) 12 hours:    2,500 EUR(~2,851 USD ) 24 hours:    3,000 EUR(~3,421 USD ) 48 hours: \n",
      "200  LD. $200 ￡200\n"
     ]
    },
    {
     "data": {
      "text/plain": [
       "['800EUR-3hours']"
      ]
     },
     "execution_count": 157,
     "metadata": {},
     "output_type": "execute_result"
    }
   ],
   "source": [
    "#800 EUR(~912 USD ) 3 hours:  (resquire ( ))\n",
    "\n",
    "rule_03 = {\n",
    "      \"identifier\": \"price_rule_us\",\n",
    "      \"description\": \"a description\",\n",
    "      \"is_active\": \"true\",\n",
    "      \"output_format\":\"{1}{2}-{5}{6}\",\n",
    "      \"pattern\": [\n",
    "            number_token( minimum=\"10\", maximum=\"10000\",is_in_output=\"true\"),\n",
    "            word_token(token=[\"roses\", \"dollars\", \"RMB\", \"EUR\", \"USD\"], is_in_output=\"true\"),\n",
    "            punctuation_token(token=[\"(\"], is_in_output=\"false\"),\n",
    "            punctuation_token(token=[\"~\"], is_required=\"false\", is_in_output=\"false\"),\n",
    "            number_token( minimum=\"10\", maximum=\"10000\",is_in_output=\"true\"),\n",
    "            word_token(token=[\"roses\", \"dollars\", \"RMB\", \"EUR\", \"USD\"], is_in_output=\"true\"),\n",
    "            punctuation_token(token=[\")\"], is_in_output=\"false\"),\n",
    "            number_token(number =[\"1\",\"2\",\"3\",\"4\",\"8\",\"15\",\"20\",\"24\",\"48\",\"25\",\"30\",\"35\",\"40\",\"45\",\"50\",\"60\",\"90\",\"120\"],is_in_output=\"true\"),\n",
    "            word_token(token=[\"min\",\"mins\",\"minutes\", \"h\",\"H\", \"hours\"], is_in_output=\"true\")  \n",
    "      ]\n",
    "    }\n",
    "\n",
    "field_rules = {\n",
    "  \"rules\": [\n",
    "      rule_03\n",
    "  ]\n",
    "}\n",
    "\n",
    "print \"text:\", d['text']\n",
    "results = c.extract_using_custom_spacy(d, config, field_rules=field_rules)\n",
    "tele_lst = []\n",
    "for i in results:\n",
    "    tele_lst.append(''.join((i.values()[1]).split()))\n",
    "tele_lst"
   ]
  },
  {
   "cell_type": "code",
   "execution_count": 101,
   "metadata": {},
   "outputs": [
    {
     "name": "stdout",
     "output_type": "stream",
     "text": [
      "text:  A + 150! Incall: Outcall: 20 mins-300 roses, 30 min - 200 roses 90 min - 450 roses 1h - 300 roses 350 roses 2h - 550 roses 600 roses 3h - 750 roses 800 roses night - 1300 roses\n",
      "(extra Roses ) RATES: 30min - 150 Roses ; 40min - 200 Roses ; 1H - 250 Roses ; 1H OUTCALL- 300 Roses ; 2H - 400 Roses ; 3H - 550 Roses ; 4H - 650 Roses ; 12H - 1200 Roses ;\n",
      "40!ss 40!ss 40!ss Specials! ? 60! hhr 60! hhr 60! hhr Speci\n",
      "120 hhr 120 hhr 120 hhr ，150 Hr 150 Hr 150 Hr 150 Hr 150 Hr 150 \n",
      "30 minutes 40 dollars 60 minutes 49.9 dollars 90 minutes 90 dollars 120 minutes 120 dollars  \n",
      " 1 shot 30 minutes 2500 RMB 1 hour 2 shots 4000 RMB 2 hours 6000 RMB Dinner date (6 hours) 10,000 RMB Overnight 12 hours 12,000 RMB \n",
      "   800 EUR(~912 USD ) 3 hours:    1,200 EUR(~1,369 USD ) 8 hours:    2,000 EUR(~2,281 USD ) 12 hours:    2,500 EUR(~2,851 USD ) 24 hours:    3,000 EUR(~3,421 USD ) 48 hours: \n"
     ]
    },
    {
     "data": {
      "text/plain": [
       "['1,200EUR-8hours', '2,000EUR-12hours', '2,500EUR-24hours', '3,000EUR-48hours']"
      ]
     },
     "execution_count": 101,
     "metadata": {},
     "output_type": "execute_result"
    }
   ],
   "source": [
    "#1,200 EUR(~1,369 USD ) 8 hours:   2,000 EUR(~2,281 USD ) 12 hours:    2,500 EUR(~2,851 USD ) 24 hours\n",
    "\n",
    "\n",
    "rule_04 = {\n",
    "      \"identifier\": \"price_rule_us\",\n",
    "      \"description\": \"a description\",\n",
    "      \"is_active\": \"true\",\n",
    "      \"output_format\":\"{1}{2}{3}{4}-{5}{6}\",\n",
    "      \"pattern\": [\n",
    "            number_token( minimum=\"1\", maximum=\"20\",is_in_output=\"true\"),\n",
    "            punctuation_token(token=[\",\"], is_in_output=\"true\"),\n",
    "            number_token( minimum=\"0\", maximum=\"900\",is_in_output=\"true\"),\n",
    "            word_token(token=[\"roses\", \"dollars\", \"RMB\", \"EUR\", \"USD\"], is_in_output=\"true\"),\n",
    "            punctuation_token(token=[\"(\"], is_in_output=\"false\"),\n",
    "            punctuation_token(token=[\"~\"], is_required=\"false\", is_in_output=\"false\"),\n",
    "            number_token( minimum=\"1\", maximum=\"20\",is_in_output=\"false\"),\n",
    "            punctuation_token(token=[\",\"], is_required=\"false\", is_in_output=\"false\"),\n",
    "            number_token( minimum=\"0\", maximum=\"900\",is_in_output=\"false\"),\n",
    "            word_token(token=[\"roses\", \"dollars\", \"RMB\", \"EUR\", \"USD\"], is_in_output=\"false\"),\n",
    "            punctuation_token(token=[\")\"], is_in_output=\"false\"),\n",
    "            number_token(number =[\"1\",\"2\",\"3\",\"4\",\"8\",\"12\",\"15\",\"20\",\"24\",\"48\",\"25\",\"30\",\"35\",\"40\",\"45\",\"50\",\"60\",\"90\",\"120\"],is_in_output=\"true\"),\n",
    "            word_token(token=[\"min\",\"mins\",\"minutes\", \"h\",\"H\", \"hours\"], is_in_output=\"true\")  \n",
    "      ]\n",
    "    }\n",
    "\n",
    "field_rules = {\n",
    "  \"rules\": [\n",
    "      rule_04\n",
    "  ]\n",
    "}\n",
    "\n",
    "print \"text:\", d['text']\n",
    "results = c.extract_using_custom_spacy(d, config, field_rules=field_rules)\n",
    "tele_lst = []\n",
    "for i in results:\n",
    "    tele_lst.append(''.join((i.values()[1]).split()))\n",
    "tele_lst"
   ]
  },
  {
   "cell_type": "code",
   "execution_count": 123,
   "metadata": {},
   "outputs": [
    {
     "name": "stdout",
     "output_type": "stream",
     "text": [
      "text:  A + 150! Incall: Outcall: 20 mins-300 roses, 30 min - 200 roses 90 min - 450 roses 1h - 300 roses 350 roses 2h - 550 roses 600 roses 3h - 750 roses 800 roses night - 1300 roses\n",
      "(extra Roses ) RATES: 30min - 150 Roses ; 40min - 200 Roses ; 1H - 250 Roses ; 1H OUTCALL- 300 Roses ; 2H - 400 Roses ; 3H - 550 Roses ; 4H - 650 Roses ; 12H - 1200 Roses ;\n",
      "40!ss 40!ss 40!ss Specials! ? 60! hhr 60! hhr 60! hhr Speci\n",
      "120 hhr 120 hhr 120 hhr ，150 Hr 150 Hr 150 Hr 150 Hr 150 Hr 150 \n",
      "30 minutes 40 dollars 60 minutes 49.9 dollars 90 minutes 90 dollars 120 minutes 120 dollars  \n",
      " 1 shot 30 minutes 2500 RMB 1 hour 2 shots 4000 RMB 2 hours 6000 RMB Dinner date (6 hours) 10,000 RMB Overnight 12 hours 12,000 RMB \n",
      "   800 EUR(~912 USD ) 3 hours:    1,200 EUR(~1,369 USD ) 8 hours:    2,000 EUR(~2,281 USD ) 12 hours:    2,500 EUR(~2,851 USD ) 24 hours:    3,000 EUR(~3,421 USD ) 48 hours: \n"
     ]
    },
    {
     "data": {
      "text/plain": [
       "['60minutes-49.9dollars]']"
      ]
     },
     "execution_count": 123,
     "metadata": {},
     "output_type": "execute_result"
    }
   ],
   "source": [
    "#60 minutes 49.9 dollars, \n",
    "\n",
    "rule_05 = {\n",
    "      \"identifier\": \"price_rule_us\",\n",
    "      \"description\": \"a description\",\n",
    "      \"is_active\": \"true\",\n",
    "      \"output_format\": \"{1}{2}-{3}{4}{5}{6}]\",\n",
    "      \"pattern\": [\n",
    "            number_token(minimum=\"1\", maximum=\"100\",is_in_output=\"true\"),\n",
    "            word_token(token=[\"min\",\"mins\",\"minutes\", \"h\",\"H\", \"hours\"], is_in_output=\"true\"),\n",
    "            punctuation_token(token=[\"-\"], is_required=\"false\", is_in_output=\"false\"),\n",
    "            number_token(minimum=\"1\", maximum=\"100\",is_in_output=\"true\"),\n",
    "            punctuation_token(token=[\".\"], is_in_output=\"true\"),\n",
    "            number_token(minimum=\"1\", maximum=\"20\",is_in_output=\"true\"),\n",
    "            word_token(token=[\"roses\", \"dollars\", \"RMB\", \"EUR\", \"USD\"], is_in_output=\"true\")\n",
    "      ]\n",
    "    }\n",
    "\n",
    "field_rules = {\n",
    "  \"rules\": [\n",
    "      rule_05\n",
    "  ]\n",
    "}\n",
    "\n",
    "print \"text:\", d['text']\n",
    "results = c.extract_using_custom_spacy(d, config, field_rules=field_rules)\n",
    "tele_lst = []\n",
    "for i in results:\n",
    "    tele_lst.append(''.join((i.values()[1]).split()))\n",
    "tele_lst"
   ]
  },
  {
   "cell_type": "code",
   "execution_count": 138,
   "metadata": {},
   "outputs": [
    {
     "name": "stdout",
     "output_type": "stream",
     "text": [
      "text:  A + 150! Incall: Outcall: 20 mins-300 roses, 30 minutes - 200 roses 90 min - 450 roses 1h - 300 roses 350 roses 2h - 550 roses 600 roses 3h - 750 roses 800 roses night - 1300 roses\n",
      "(extra Roses ) RATES: 30min - 150 Roses ; 40min - 200 Roses ; 1H - 250 Roses ; 1H OUTCALL- 300 Roses ; 2H - 400 Roses ; 3H - 550 Roses ; 4H - 650 Roses ; 12H - 1200 Roses ;\n",
      "40!ss 40!ss 40!ss Specials! ? 60! hhr 60! hhr 60! hhr Speci\n",
      "120 hhr 120 hhr 120 hhr ，150 Hr 150 Hr 150 Hr 150 Hr 150 Hr 150 \n",
      "30 minutes 40 dollars 60 minutes 49.9 dollars 90 minutes 90 dollars 120 minutes 120 dollars  \n",
      " 1 shot 30 minutes 2500 RMB 1 hour 2 shots 4000 RMB 2 hours 6000 RMB Dinner date (6 hours) 10,000 RMB Overnight 12 hours 12,000 RMB \n",
      "   800 EUR(~912 USD ) 3 hours:    1,200 EUR(~1,369 USD ) 8 hours:    2,000 EUR(~2,281 USD ) 12 hours:    2,500 EUR(~2,851 USD ) 24 hours:    3,000 EUR(~3,421 USD ) 48 hours: \n"
     ]
    },
    {
     "data": {
      "text/plain": [
       "['30min-150Roses',\n",
       " '40min-200Roses',\n",
       " '1H-250Roses',\n",
       " '1H-300Roses',\n",
       " '2H-400Roses',\n",
       " '3H-550Roses',\n",
       " '4H-650Roses',\n",
       " '12H-1200Roses']"
      ]
     },
     "execution_count": 138,
     "metadata": {},
     "output_type": "execute_result"
    }
   ],
   "source": [
    "#40min - 200 Roses ; 1H - 250 Roses ; 1H OUTCALL- 300 Roses ; 2H - 400 Roses\n",
    "\n",
    "\n",
    "rule_06 = {\n",
    "      \"identifier\": \"price_rule_us\",\n",
    "      \"description\": \"a description\",\n",
    "      \"is_active\": \"true\",\n",
    "      \"output_format\": \"{1}-{2}{3}\",\n",
    "      \"pattern\": [\n",
    "            number_token(number =[\"20min\",\"30min\",\"40min\",\"50min\",\"60min\", \"1H\",\"2H\",\"3H\",\"4H\",\"12H\"],is_in_output=\"true\"),\n",
    "            word_token(token=[\"OUTCALL\"], is_required=\"false\", is_in_output=\"false\"),\n",
    "            punctuation_token(token=[\"-\"], is_required=\"false\", is_in_output=\"false\"),\n",
    "            number_token( minimum=\"10\", maximum=\"10000\",is_in_output=\"true\"),\n",
    "            word_token(token=[\"roses\", \"dollars\", \"RMB\", \"EUR\", \"USD\"], is_in_output=\"true\")\n",
    "      ]\n",
    "    }\n",
    "\n",
    "field_rules = {\n",
    "  \"rules\": [\n",
    "      rule_06\n",
    "  ]\n",
    "}\n",
    "\n",
    "print \"text:\", d['text']\n",
    "results = c.extract_using_custom_spacy(d, config, field_rules=field_rules)\n",
    "tele_lst = []\n",
    "for i in results:\n",
    "    tele_lst.append(''.join((i.values()[1]).split()))\n",
    "tele_lst\n"
   ]
  },
  {
   "cell_type": "code",
   "execution_count": 145,
   "metadata": {},
   "outputs": [
    {
     "name": "stdout",
     "output_type": "stream",
     "text": [
      "text:  A + 150! Incall: Outcall: 20 mins-300 roses, 30 minutes - 200 roses 90 min - 450 roses 1h - 300 roses 350 roses 2h - 550 roses 600 roses 3h - 750 roses 800 roses night - 1300 roses\n",
      "(extra Roses ) RATES: 30min - 150 Roses ; 40min - 200 Roses ; 1H - 250 Roses ; 1H OUTCALL- 300 Roses ; 2H - 400 Roses ; 3H - 550 Roses ; 4H - 650 Roses ; 12H - 1200 Roses ;\n",
      "40!ss 40!ss 40!ss Specials! ? 60! hhr 60! hhr 60! hhr Speci\n",
      "120 hhr 120 hhr 120 hhr ，150 Hr 150 Hr 150 Hr 150 Hr 150 Hr 150 \n",
      "30 minutes 40 dollars 60 minutes 49.9 dollars 90 minutes 90 dollars 120 minutes 120 dollars  \n",
      " 1 shot 30 minutes 2500 RMB 1 hour 2 shots 4000 RMB 2 hours 6000 RMB Dinner date (6 hours) 10,000 RMB Overnight 12 hours 12,000 RMB \n",
      "   800 EUR(~912 USD ) 3 hours:    1,200 EUR(~1,369 USD ) 8 hours:    2,000 EUR(~2,281 USD ) 12 hours:    2,500 EUR(~2,851 USD ) 24 hours:    3,000 EUR(~3,421 USD ) 48 hours: \n"
     ]
    },
    {
     "data": {
      "text/plain": [
       "['60-hhr',\n",
       " '60-hhr',\n",
       " '60-hhr',\n",
       " '120-hhr',\n",
       " '120-hhr',\n",
       " '120-hhr',\n",
       " '150-Hr',\n",
       " '150-Hr',\n",
       " '150-Hr',\n",
       " '150-Hr']"
      ]
     },
     "execution_count": 145,
     "metadata": {},
     "output_type": "execute_result"
    }
   ],
   "source": [
    "#120 hhr 120 hhr 120 hhr ，150 Hr 150 Hr,  60! hhr 60! hhr 60! hhr\n",
    "# hhr= 30min\n",
    "\n",
    "rule_07 = {\n",
    "      \"identifier\": \"price_rule_us\",\n",
    "      \"description\": \"a description\",\n",
    "      \"is_active\": \"true\",\n",
    "      \"output_format\": \"{1}-{2}\",\n",
    "      \"pattern\": [\n",
    "            number_token(is_in_output=\"true\"),\n",
    "            punctuation_token(token=[\"!\"], is_required=\"false\", is_in_output=\"false\"),\n",
    "            punctuation_token(token=[\"-\"], is_required=\"false\", is_in_output=\"false\"),\n",
    "            word_token(token=[\"hhr\",\"Hr\"], is_in_output=\"true\")\n",
    "      ]\n",
    "    }\n",
    "\n",
    "field_rules = {\n",
    "  \"rules\": [\n",
    "      rule_07\n",
    "  ]\n",
    "}\n",
    "\n",
    "print \"text:\", d['text']\n",
    "results = c.extract_using_custom_spacy(d, config, field_rules=field_rules)\n",
    "tele_lst = []\n",
    "for i in results:\n",
    "    tele_lst.append(''.join((i.values()[1]).split()))\n",
    "tele_lst\n"
   ]
  },
  {
   "cell_type": "code",
   "execution_count": 158,
   "metadata": {},
   "outputs": [
    {
     "name": "stdout",
     "output_type": "stream",
     "text": [
      "text:  A + 150! Incall: Outcall: 20 mins-300 roses, 30 minutes - 200 roses 90 min - 450 roses 1h - 300 roses 350 roses 2h - 550 roses 600 roses 3h - 750 roses 800 roses night - 1300 roses\n",
      "(extra Roses ) RATES: 30min - 150 Roses ; 40min - 200 Roses ; 1H - 250 Roses ; 1H OUTCALL- 300 Roses ; 2H - 400 Roses ; 3H - 550 Roses ; 4H - 650 Roses ; 12H - 1200 Roses ;\n",
      "40!ss 40!ss 40!ss Specials! ? 60! hhr 60! hhr 60! hhr Speci\n",
      "120 hhr 120 hhr 120 hhr ，150 Hr 150 Hr 150 Hr 150 Hr 150 Hr 150 \n",
      "30 minutes 40 dollars 60 minutes 49.9 dollars 90 minutes 90 dollars 120 minutes 120 dollars  \n",
      " 1 shot 30 minutes 2500 RMB 1 hour 2 shots 4000 RMB 2 hours 6000 RMB Dinner date (6 hours) 10,000 RMB Overnight 12 hours 12,000 RMB \n",
      "   800 EUR(~912 USD ) 3 hours:    1,200 EUR(~1,369 USD ) 8 hours:    2,000 EUR(~2,281 USD ) 12 hours:    2,500 EUR(~2,851 USD ) 24 hours:    3,000 EUR(~3,421 USD ) 48 hours: \n",
      "200  LD. $200 ￡200\n"
     ]
    },
    {
     "data": {
      "text/plain": [
       "['1hour-4000RMB']"
      ]
     },
     "execution_count": 158,
     "metadata": {},
     "output_type": "execute_result"
    }
   ],
   "source": [
    "# 1 hour 2 shots 4000 RMB   (2 hours 6000 RMB Dinner date (6 hours) 10,000 RMB Overnight 12 hours 12,000 RMB)\n",
    "\n",
    "rule_08 = {\n",
    "      \"identifier\": \"price_rule_us\",\n",
    "      \"description\": \"a description\",\n",
    "      \"is_active\": \"true\",\n",
    "      \"output_format\": \"{1}{2}-{3}{4}\",\n",
    "      \"pattern\": [\n",
    "            number_token(is_in_output=\"true\"),\n",
    "            word_token(token=[\"min\",\"mins\",\"minutes\", \"h\",\"H\",\"hour\",\"hours\"], is_in_output=\"true\"),\n",
    "            number_token(is_in_output=\"false\"),\n",
    "            word_token(is_in_output=\"false\"),\n",
    "            number_token(is_in_output=\"true\"),\n",
    "            word_token(token=[\"roses\", \"dollars\", \"RMB\", \"EUR\", \"USD\"], is_in_output=\"true\") \n",
    "      ]\n",
    "    }\n",
    "\n",
    "field_rules = {\n",
    "  \"rules\": [\n",
    "      rule_08\n",
    "  ]\n",
    "}\n",
    "\n",
    "print \"text:\", d['text']\n",
    "results = c.extract_using_custom_spacy(d, config, field_rules=field_rules)\n",
    "tele_lst = []\n",
    "for i in results:\n",
    "    tele_lst.append(''.join((i.values()[1]).split()))\n",
    "tele_lst\n"
   ]
  },
  {
   "cell_type": "markdown",
   "metadata": {},
   "source": [
    "## Test Several Rules"
   ]
  },
  {
   "cell_type": "code",
   "execution_count": 166,
   "metadata": {},
   "outputs": [],
   "source": [
    "field_rules = {\n",
    "  \"rules\": [\n",
    "    rule_01, \n",
    "    rule_02,\n",
    "    rule_03,\n",
    "    rule_04,\n",
    "    rule_05,\n",
    "    rule_06,\n",
    "    rule_07,\n",
    "    rule_08\n",
    " \n",
    "  ],\n",
    "    \"test_text\": d['text'],\n",
    "    \"test_tokens\": c.extract_tokens_from_crf(c.extract_crftokens(d['text'], lowercase=False))\n",
    "}\n",
    "\n",
    "\n",
    "\n",
    "results = c.extract_using_custom_spacy(d, config, field_rules=field_rules)\n",
    "\n",
    "price_lst = []\n",
    "for i in results:\n",
    "    price_lst.append(''.join((i.values()[1]).split()))\n",
    "results.append(price_lst)\n",
    "field_rules['results']=results\n",
    "\n",
    "s = json.dumps(field_rules)\n",
    "\n",
    "\n",
    "import codecs\n",
    "o = codecs.open('price_file.jl', 'w')\n",
    "o.write(s)\n",
    "o.close()\n",
    "\n",
    "\n",
    "\n"
   ]
  },
  {
   "cell_type": "code",
   "execution_count": 58,
   "metadata": {},
   "outputs": [
    {
     "name": "stdout",
     "output_type": "stream",
     "text": [
      "{'prefix': '', 'suffix': '', 'capitalization': [], 'part_of_speech': [], 'length': [], 'maximum': '', 'shapes': [], 'token': ['hello'], 'minimum': '', 'numbers': [], 'contain_digit': '', 'is_in_vocabulary': '', 'is_out_of_vocabulary': '', 'is_required': 'true', 'type': 'word', 'is_in_output': 'false'}\n"
     ]
    }
   ],
   "source": [
    "\n",
    "print word_token(token=[\"hello\"])"
   ]
  }
 ],
 "metadata": {
  "kernelspec": {
   "display_name": "Python [conda env:etk_env]",
   "language": "python",
   "name": "conda-env-etk_env-py"
  },
  "language_info": {
   "codemirror_mode": {
    "name": "ipython",
    "version": 2
   },
   "file_extension": ".py",
   "mimetype": "text/x-python",
   "name": "python",
   "nbconvert_exporter": "python",
   "pygments_lexer": "ipython2",
   "version": "2.7.12"
  }
 },
 "nbformat": 4,
 "nbformat_minor": 1
}
