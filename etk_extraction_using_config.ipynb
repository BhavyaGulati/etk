{
 "cells": [
  {
   "cell_type": "markdown",
   "metadata": {
    "collapsed": true
   },
   "source": [
    "### Step 1. Run content extraction on html document"
   ]
  },
  {
   "cell_type": "markdown",
   "metadata": {},
   "source": [
    "In the following example, we will run the `readability` extractor and the `title` extractor on the html document.  \n",
    "The extraction is controlled by an `extraction_config` and the input is json document with `html` document embedded in it.  \n",
    "\n",
    "Let's breakdown the extraction_config:  \n",
    "> `input_path`  \n",
    "\n",
    "specifies the path where the html content is in the json  \n",
    "> `extractors.readability`  \n",
    "\n",
    "sets up `etk` to run readability extractor on the `input_path`\n",
    "\n",
    "> `strict: yes`\n",
    "\n",
    "makes `readability` extractor more precise. ```strict: no``` will result in more content getting extracted from the html as main content  \n",
    "> `extractors.title`  \n",
    "\n",
    "sets up etk to run the `title` extractor\n",
    "\n",
    "#### Output  \n",
    "The output will be under the field `content_extraction` in the input json document.   \n",
    "It should have `content_relaxed` corresponding to ```strict: no``` and `content_strict` for ```strict: yes```  \n",
    "It should also contain `title`\n",
    "\n",
    "```\n",
    "{\n",
    "    content_extraction: {\n",
    "        content_strict: {\n",
    "            text: \"...\"\n",
    "        },\n",
    "        content_relaxed: {\n",
    "            text: \"...\"\n",
    "        },\n",
    "        title: {\n",
    "            text: \"...\"\n",
    "        }\n",
    "}\n",
    "```\n",
    "\n",
    "**All the content extraction values are assigned to a field called `text` under the corresponding content_extraction**\n"
   ]
  },
  {
   "cell_type": "code",
   "execution_count": 12,
   "metadata": {},
   "outputs": [
    {
     "name": "stdout",
     "output_type": "stream",
     "text": [
      "{   'content_relaxed': {   'text': u\"\\n \\n \\n \\n \\n \\n \\n smoothlegs24  28 \\n \\n \\n chrissy391  27 \\n \\n \\n My name is Helena height 160cms weight 55 kilos  contact me at escort.here@gmail.com           jefferson ave         age: 23 HrumpMeNow  28 \\n \\n \\n xxtradition  24 \\n \\n \\n jumblyjumb  26 \\n \\n \\n claudia77  26 \\n \\n \\n gushinPuss  28 \\n \\n \\n Littlexdit  25 \\n \\n \\n PinkSweets2  28 \\n \\n \\n withoutlimit  27 \\n \\n \\n bothOfUs3  28 \\n \\n \\n lovelylips  27 \\n \\n \\n killerbod  27 \\n \\n \\n Littlexdit  27 \\n \\n \\n azneyes  23 \\n \\n \\n \\n \\n \\n Escort's Phone: \\n \\n \\n323-452-2013  \\n \\n Escort's Location: \\nLos Angeles, California  \\n Escort's Age:   23   Date of Escort Post:   Jan 02nd 6:46am \\n REVIEWS:   \\n READ AND CREATE REVIEWS FOR THIS ESCORT   \\n \\n \\n \\n \\n \\nThere are  50  girls looking in  .\\n VIEW GIRLS \\n \\nHey I'm luna 3234522013 Let's explore , embrace and indulge in your favorite fantasy  % independent. discreet no drama Firm Thighs and Sexy. My Soft skin & Tight Grip is exactly what you deserve Call or text   Fetish friendly   Fantasy friendly   Party friendly 140 Hr SPECIALS 3234522013.\\xa0Call  323-452-2013 .  Me and my friends are on EZsex  soooo you can find us all on there if you want... skittlegirl \\n \\xa0\\xa0\\n \\n \\xa0\\xa0\\n \\n \\xa0\\xa0\\n Call me on my cell at 323-452-2013. Date of ad: 2017-01-02 06:46:00 \\n \\n \\n \\n\"},\n",
      "    'content_strict': {   'text': u\"\\n \\n \\n \\n \\n \\n smoothlegs24  28 \\n \\n \\n chrissy391  27 \\n \\n \\n My name is Helena height 160cms weight 55 kilos  contact me at escort.here@gmail.com           jefferson ave         age: 23 HrumpMeNow  28 \\n \\n \\n xxtradition  24 \\n \\n \\n jumblyjumb  26 \\n \\n \\n claudia77  26 \\n \\n \\n gushinPuss  28 \\n \\n \\n Littlexdit  25 \\n \\n \\n PinkSweets2  28 \\n \\n \\n withoutlimit  27 \\n \\n \\n bothOfUs3  28 \\n \\n \\n lovelylips  27 \\n \\n \\n killerbod  27 \\n \\n \\n Littlexdit  27 \\n \\n \\n azneyes  23 \\n \\n \\n \\n \\n \\n Escort's Phone: \\n \\n \\n323-452-2013  \\n \\n Escort's Location: \\nLos Angeles, California  \\n Escort's Age:   23   Date of Escort Post:   Jan 02nd 6:46am \\n REVIEWS:   \\n READ AND CREATE REVIEWS FOR THIS ESCORT   \\n \\n \\n \\n \\n \\nThere are  50  girls looking in  .\\n VIEW GIRLS \\n \\nHey I'm luna 3234522013 Let's explore , embrace and indulge in your favorite fantasy  % independent. discreet no drama Firm Thighs and Sexy. My Soft skin & Tight Grip is exactly what you deserve Call or text   Fetish friendly   Fantasy friendly   Party friendly 140 Hr SPECIALS 3234522013.\\xa0Call  323-452-2013 .  Me and my friends are on EZsex  soooo you can find us all on there if you want... skittlegirl \\n \\xa0\\xa0\\n \\n \\xa0\\xa0\\n \\n \\xa0\\xa0\\n Call me on my cell at 323-452-2013. Date of ad: 2017-01-02 06:46:00 \\n \\n \\n\"},\n",
      "    'title': {   'text': u'323-452-2013 ESCORT ALERT! - Luna The Hot Playmate (323) 452-2013 - 23'}}\n"
     ]
    }
   ],
   "source": [
    "from etk.core import Core\n",
    "import  json\n",
    "import pprint\n",
    "import codecs\n",
    "\n",
    "extraction_config = {'content_extraction': {\n",
    "            \"input_path\": \"raw_content\",\n",
    "            \"extractors\": {\n",
    "              \"readability\": [\n",
    "                {\n",
    "                  \"strict\": \"yes\",\n",
    "                  \"extraction_policy\": \"keep_existing\"\n",
    "                },\n",
    "                {\n",
    "                  \"strict\": \"no\",\n",
    "                  \"extraction_policy\": \"keep_existing\",\n",
    "                  \"field_name\": \"content_relaxed\"\n",
    "                }\n",
    "              ],\n",
    "              \"title\": {\n",
    "                 \"extraction_policy\": \"keep_existing\"\n",
    "              }\n",
    "            }\n",
    "          }\n",
    "        }\n",
    "# read the json document from disk\n",
    "doc = json.load(codecs.open('etk/unit_tests/ground_truth/1.jl', 'r'))\n",
    "c = Core(extraction_config=extraction_config)\n",
    "r = c.process(doc)\n",
    "\n",
    "pp = pprint.PrettyPrinter(indent=4)\n",
    "pp.pprint(r['content_extraction'])\n"
   ]
  },
  {
   "cell_type": "markdown",
   "metadata": {},
   "source": [
    "Now, lets run `landmark-extractor` on the html document. You can read about Inferlink's landmark-extractor [here](https://github.com/inferlink/landmark-extractor)  \n",
    "tl;dr landmark-extractor applies a number of pre-trained rules to the html document. These rules are regex based and can be created in the landmark-extractor tool.\n",
    "\n",
    "`extraction_config` for landmark-extractor:  \n",
    "\n",
    "> `extractors.landmark`  \n",
    "\n",
    "sets up `etk` to run landmark-extractor on the `input_path`\n",
    "\n",
    "> `extractors.landmark.landmark_threshold`  \n",
    "\n",
    "the ratio number of successful landmark rules to the total number of landmark rules for that domain should be greater than or equal to this number. Otherwise `etk` will ignore this landmark extraction\n",
    "\n",
    "> `resources.landmark`\n",
    "\n",
    "the place in the `extraction_config` to specify the landmark rules files.\n",
    "\n",
    "\n",
    "#### Output  \n",
    "The output will be under the field `content_extraction` in the input json document.   \n",
    "\n",
    "It should contain the field `inferlink_extractions`\n",
    "\n",
    "```\n",
    "{\n",
    "    content_extraction: {\n",
    "        inferlink_extractions: {\n",
    "            inferlink_age:{\n",
    "                text: \"...\"\n",
    "            },\n",
    "            inferlink_posting-date:{\n",
    "                text: \"...\"\n",
    "            },\n",
    "            ...\n",
    "        }\n",
    "}\n",
    "```"
   ]
  },
  {
   "cell_type": "code",
   "execution_count": null,
   "metadata": {
    "collapsed": true
   },
   "outputs": [],
   "source": [
    "from etk.core import Core\n",
    "import pprint\n",
    "\n",
    "rules_file_path = 'etk/unit_tests/resources/consolidated_rules.json'\n",
    "e_config = {\n",
    "    \"resources\": {\n",
    "        \"landmark\": [\n",
    "            rules_file_path\n",
    "        ]\n",
    "        }, \n",
    "    'content_extraction': {\n",
    "        \"input_path\": \"raw_content\",\n",
    "        \"extractors\": {\n",
    "            \"landmark\": {\n",
    "                \"extraction_policy\": \"keep_existing\",\n",
    "                \"landmark_threshold\": 0.5\n",
    "            }\n",
    "        }\n",
    "    }\n",
    "}\n",
    "c = Core(extraction_config=e_config)\n",
    "r = c.process(self.doc)"
   ]
  }
 ],
 "metadata": {
  "anaconda-cloud": {},
  "kernelspec": {
   "display_name": "Python [conda env:etk_env]",
   "language": "python",
   "name": "conda-env-etk_env-py"
  },
  "language_info": {
   "codemirror_mode": {
    "name": "ipython",
    "version": 2
   },
   "file_extension": ".py",
   "mimetype": "text/x-python",
   "name": "python",
   "nbconvert_exporter": "python",
   "pygments_lexer": "ipython2",
   "version": "2.7.12"
  }
 },
 "nbformat": 4,
 "nbformat_minor": 1
}
