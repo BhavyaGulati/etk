{
 "cells": [
  {
   "cell_type": "code",
   "execution_count": 20,
   "metadata": {
    "collapsed": false
   },
   "outputs": [
    {
     "name": "stdout",
     "output_type": "stream",
     "text": [
      "hello world\n"
     ]
    }
   ],
   "source": [
    "print(\"hello world\")"
   ]
  },
  {
   "cell_type": "markdown",
   "metadata": {},
   "source": [
    "Here is a list:\n",
    "\n",
    "* item 1\n",
    "* item 2"
   ]
  },
  {
   "cell_type": "code",
   "execution_count": 2,
   "metadata": {},
   "outputs": [],
   "source": [
    "from etk.etk import ETK"
   ]
  },
  {
   "cell_type": "code",
   "execution_count": 3,
   "metadata": {},
   "outputs": [],
   "source": [
    "etk = ETK()"
   ]
  },
  {
   "cell_type": "code",
   "execution_count": 4,
   "metadata": {},
   "outputs": [],
   "source": [
    "import spacy\n",
    "nlp = spacy.load('en_core_web_lg')"
   ]
  },
  {
   "cell_type": "code",
   "execution_count": 17,
   "metadata": {},
   "outputs": [
    {
     "name": "stdout",
     "output_type": "stream",
     "text": [
      "0.6349025766224413\n0.6349025766224413\n0.6349025766224413\n"
     ]
    }
   ],
   "source": [
    "doc1 = nlp(u\"The labrador barked.\")\n",
    "doc2 = nlp(u\"The labrador swam.\")\n",
    "doc3 = nlp(u\"the labrador people live in canada.\")\n",
    "\n",
    "for doc in [doc1, doc2, doc3]:\n",
    "    labrador = doc[1]\n",
    "    dog = nlp(u\"dog\")\n",
    "    print(labrador.similarity(dog))"
   ]
  },
  {
   "cell_type": "code",
   "execution_count": 18,
   "metadata": {},
   "outputs": [
    {
     "name": "stdout",
     "output_type": "stream",
     "text": [
      "My name is Charlotte, nice to meet you. Charlotte 0.06392014182416418\nI live in Charlotte, welcome home Charlotte 0.06392014182416418\nHello Dallas, Charlotte is here Charlotte 0.06392014182416418\n"
     ]
    }
   ],
   "source": [
    "doc1 = nlp(u\"My name is Charlotte, nice to meet you.\")\n",
    "doc2 = nlp(u\"I live in Charlotte, welcome home\")\n",
    "doc3 = nlp(u\"Hello Dallas, Charlotte is here\")\n",
    "\n",
    "for doc in [doc1, doc2, doc3]:\n",
    "    x = doc[3]\n",
    "    target = nlp(u\"name\")\n",
    "    print(doc, x, x.similarity(target))"
   ]
  },
  {
   "cell_type": "code",
   "execution_count": 12,
   "metadata": {},
   "outputs": [
    {
     "name": "stdout",
     "output_type": "stream",
     "text": [
      "dog True 7.0336733 False\ncat True 6.6808186 False\nbanana True 6.700014 False\nsasquatch True 6.9789977 False\n"
     ]
    }
   ],
   "source": [
    "tokens = nlp(u'dog cat banana sasquatch')\n",
    "\n",
    "for token in tokens:\n",
    "    print(token.text, token.has_vector, token.vector_norm, token.is_oov)"
   ]
  },
  {
   "cell_type": "code",
   "execution_count": 14,
   "metadata": {},
   "outputs": [
    {
     "name": "stdout",
     "output_type": "stream",
     "text": [
      "1.0\n0.7554966895712392\n0.6921462554756126\n0.7554966895712392\n1.0\n0.5668025323596771\n0.6921462554756126\n0.5668025323596771\n1.0\n"
     ]
    }
   ],
   "source": [
    "doc1 = nlp(u\"Paris is the largest city in France.\")\n",
    "doc2 = nlp(u\"Vilnius is the capital of Lithuania.\")\n",
    "doc3 = nlp(u\"An emu is a large bird.\")\n",
    "\n",
    "for doc in [doc1, doc2, doc3]:\n",
    "    for other_doc in [doc1, doc2, doc3]:\n",
    "        print(doc.similarity(other_doc))"
   ]
  },
  {
   "cell_type": "code",
   "execution_count": null,
   "metadata": {},
   "outputs": [],
   "source": []
  }
 ],
 "metadata": {
  "kernelspec": {
   "display_name": "Python 2",
   "language": "python",
   "name": "python2"
  },
  "language_info": {
   "codemirror_mode": {
    "name": "ipython",
    "version": 2
   },
   "file_extension": ".py",
   "mimetype": "text/x-python",
   "name": "python",
   "nbconvert_exporter": "python",
   "pygments_lexer": "ipython2",
   "version": "2.7.6"
  }
 },
 "nbformat": 4,
 "nbformat_minor": 0
}
